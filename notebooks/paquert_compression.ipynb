{
 "cells": [
  {
   "cell_type": "markdown",
   "metadata": {},
   "source": [
    "### Testing Parquet compression when storing metadata"
   ]
  },
  {
   "cell_type": "code",
   "execution_count": 1,
   "metadata": {},
   "outputs": [],
   "source": [
    "import os\n",
    "import numpy as np\n",
    "import pandas as pd\n",
    "from pathlib import Path\n",
    "\n",
    "out_dir = Path(\"tmp\")\n",
    "out_dir.mkdir(parents=True, exist_ok=True)\n",
    "\n",
    "\n",
    "def create_dataframe(rows, scenario, **kwargs):\n",
    "    \"\"\"Create a dataframe with controlled repetitiveness based on scenario.\"\"\"\n",
    "    df = pd.DataFrame({\n",
    "        # 'val0': np.random.rand(rows),\n",
    "    })\n",
    "\n",
    "    if scenario == \"unique\":\n",
    "        # All unique values (no repetition)\n",
    "        values = np.random.rand(rows)\n",
    "    \n",
    "    elif scenario == \"repeated_value\":\n",
    "        # Same value repeated n times\n",
    "        repeat_count = min(kwargs['repeat_count'], rows)\n",
    "        values = np.repeat(np.random.rand(rows // repeat_count), repeat_count)\n",
    "        if len(values) < rows:  # Handle remainder\n",
    "            values = np.append(values, np.repeat(values[-1], rows - len(values)))\n",
    "    \n",
    "    elif scenario == \"cyclic\":\n",
    "        # Cyclic pattern of n unique values\n",
    "        unique_values = min(kwargs['unique_values'], rows)\n",
    "        pattern = np.random.rand(unique_values)\n",
    "        cycles = rows // unique_values + 1\n",
    "        values = np.tile(pattern, cycles)[:rows]\n",
    "    \n",
    "    elif scenario == \"low_cardinality\":\n",
    "        # Low cardinality (few unique values)\n",
    "        cardinality = min(kwargs['cardinality'], rows)\n",
    "        values = np.random.choice(np.random.rand(cardinality), size=rows)\n",
    "    \n",
    "    elif scenario == \"high_cardinality\":\n",
    "        # High cardinality (many unique values but with some repetition)\n",
    "        cardinality = min(kwargs['cardinality'], rows)\n",
    "        values = np.random.choice(np.random.rand(cardinality), size=rows)\n",
    "    \n",
    "    elif scenario == \"sorted\":\n",
    "        # Sorted values (good for delta encoding)\n",
    "        values = sorted(np.random.rand(rows))\n",
    "            \n",
    "    else:\n",
    "        raise ValueError(f\"Unknown scenario: {scenario}\")\n",
    "    \n",
    "    df[\"val1\"] = values\n",
    "    return df\n",
    "\n",
    "\n",
    "def measure_file_size(df, filename, compression=None):\n",
    "    \"\"\"Save dataframe to parquet and return file size in bytes.\"\"\"\n",
    "    filepath = out_dir / f\"{filename}.parquet\"\n",
    "    df.to_parquet(filepath, compression=compression)\n",
    "    size = os.path.getsize(filepath)\n",
    "    return size"
   ]
  },
  {
   "cell_type": "code",
   "execution_count": 2,
   "metadata": {},
   "outputs": [],
   "source": [
    "\"\"\"Run various experiments measuring parquet compression efficiency.\"\"\"\n",
    "# Configuration\n",
    "rows = 1_000_000\n",
    "# rows = 100\n",
    "results = []\n",
    "\n",
    "# Test scenarios. All contain 5 columns. 4 columns are random, 1 depends on the scenaario\n",
    "scenarios = [\n",
    "    {\"name\": \"Unique Values\", \"func\": \"unique\"},\n",
    "    {\"name\": \"Repeated Values (10x)\", \"func\": \"repeated_value\", \"kwargs\": {\"repeat_count\": 10}},\n",
    "    {\"name\": \"Repeated Values (100x)\", \"func\": \"repeated_value\", \"kwargs\": {\"repeat_count\": 100}},\n",
    "    {\"name\": \"Repeated Values (1000x)\", \"func\": \"repeated_value\", \"kwargs\": {\"repeat_count\": 1000}},\n",
    "    {\"name\": \"Repeated Values (10_000x)\", \"func\": \"repeated_value\", \"kwargs\": {\"repeat_count\": 10_000}},\n",
    "    {\"name\": \"Repeated Values (100_000x)\", \"func\": \"repeated_value\", \"kwargs\": {\"repeat_count\": 100_000}},\n",
    "    {\"name\": \"Repeated Values (1_000_000x)\", \"func\": \"repeated_value\", \"kwargs\": {\"repeat_count\": 1_000_000}},\n",
    "    {\"name\": \"Cyclic (10 values)\", \"func\": \"cyclic\", \"kwargs\": {\"unique_values\": 10}},\n",
    "    {\"name\": \"Cyclic (100 values)\", \"func\": \"cyclic\", \"kwargs\": {\"unique_values\": 100}},\n",
    "    {\"name\": \"Low Cardinality (5 values)\", \"func\": \"low_cardinality\", \"kwargs\": {\"cardinality\": 5}},\n",
    "    {\"name\": \"Low Cardinality (100 values)\", \"func\": \"low_cardinality\", \"kwargs\": {\"cardinality\": 100}},\n",
    "    {\"name\": f\"High Cardinality ({rows // 10} values)\", \"func\": \"high_cardinality\", \"kwargs\": {\"cardinality\": rows // 10}},\n",
    "    {\"name\": \"Sorted Values\", \"func\": \"sorted\"},\n",
    "]\n",
    "\n",
    "# Compression methods to test\n",
    "compression_methods = ['brotli']  # None, 'snappy', 'gzip'"
   ]
  },
  {
   "cell_type": "code",
   "execution_count": 3,
   "metadata": {},
   "outputs": [
    {
     "name": "stdout",
     "output_type": "stream",
     "text": [
      "Processing scenario: Unique Values...\n",
      "       val1\n",
      "0  0.613677\n",
      "1  0.549333\n",
      "2  0.529441\n",
      "3  0.075059\n",
      "4  0.697883\n",
      "  Testing with brotli...\n",
      "Processing scenario: Repeated Values (10x)...\n",
      "       val1\n",
      "0  0.482386\n",
      "1  0.482386\n",
      "2  0.482386\n",
      "3  0.482386\n",
      "4  0.482386\n",
      "  Testing with brotli...\n",
      "Processing scenario: Repeated Values (100x)...\n",
      "      val1\n",
      "0  0.84589\n",
      "1  0.84589\n",
      "2  0.84589\n",
      "3  0.84589\n",
      "4  0.84589\n",
      "  Testing with brotli...\n",
      "Processing scenario: Repeated Values (1000x)...\n",
      "       val1\n",
      "0  0.385295\n",
      "1  0.385295\n",
      "2  0.385295\n",
      "3  0.385295\n",
      "4  0.385295\n",
      "  Testing with brotli...\n",
      "Processing scenario: Repeated Values (10_000x)...\n",
      "       val1\n",
      "0  0.552992\n",
      "1  0.552992\n",
      "2  0.552992\n",
      "3  0.552992\n",
      "4  0.552992\n",
      "  Testing with brotli...\n",
      "Processing scenario: Repeated Values (100_000x)...\n",
      "       val1\n",
      "0  0.627064\n",
      "1  0.627064\n",
      "2  0.627064\n",
      "3  0.627064\n",
      "4  0.627064\n",
      "  Testing with brotli...\n",
      "Processing scenario: Repeated Values (1_000_000x)...\n",
      "       val1\n",
      "0  0.094813\n",
      "1  0.094813\n",
      "2  0.094813\n",
      "3  0.094813\n",
      "4  0.094813\n",
      "  Testing with brotli...\n",
      "Processing scenario: Cyclic (10 values)...\n",
      "       val1\n",
      "0  0.758477\n",
      "1  0.239488\n",
      "2  0.588373\n",
      "3  0.595679\n",
      "4  0.769980\n",
      "  Testing with brotli...\n",
      "Processing scenario: Cyclic (100 values)...\n",
      "       val1\n",
      "0  0.048262\n",
      "1  0.813777\n",
      "2  0.484052\n",
      "3  0.113565\n",
      "4  0.392758\n",
      "  Testing with brotli...\n",
      "Processing scenario: Low Cardinality (5 values)...\n",
      "       val1\n",
      "0  0.192249\n",
      "1  0.277545\n",
      "2  0.192249\n",
      "3  0.651595\n",
      "4  0.584527\n",
      "  Testing with brotli...\n",
      "Processing scenario: Low Cardinality (100 values)...\n",
      "       val1\n",
      "0  0.725153\n",
      "1  0.343323\n",
      "2  0.906392\n",
      "3  0.161253\n",
      "4  0.009937\n",
      "  Testing with brotli...\n",
      "Processing scenario: High Cardinality (100000 values)...\n",
      "       val1\n",
      "0  0.176040\n",
      "1  0.286153\n",
      "2  0.364942\n",
      "3  0.359976\n",
      "4  0.307935\n",
      "  Testing with brotli...\n",
      "Processing scenario: Sorted Values...\n",
      "       val1\n",
      "0  0.000001\n",
      "1  0.000001\n",
      "2  0.000002\n",
      "3  0.000004\n",
      "4  0.000004\n",
      "  Testing with brotli...\n",
      "\n",
      "Results Summary:\n",
      "                            Scenario Compression  CSV Size  Parquet Size  Compression Ratio\n",
      "0                      Unique Values      brotli  19270318       7755231           0.402444\n",
      "1              Repeated Values (10x)      brotli  19267145        897607           0.046587\n",
      "2             Repeated Values (100x)      brotli  19272605         88109           0.004572\n",
      "3            Repeated Values (1000x)      brotli  19280005         10389           0.000539\n",
      "4          Repeated Values (10_000x)      brotli  19240005          2478           0.000129\n",
      "5         Repeated Values (100_000x)      brotli  19500005          1695           0.000087\n",
      "6       Repeated Values (1_000_000x)      brotli  20000005          1598           0.000080\n",
      "7                 Cyclic (10 values)      brotli  19100005          1717           0.000090\n",
      "8                Cyclic (100 values)      brotli  19330005          2636           0.000136\n",
      "9         Low Cardinality (5 values)      brotli  19000545        336996           0.017736\n",
      "10      Low Cardinality (100 values)      brotli  19230324        879360           0.045728\n",
      "11  High Cardinality (100000 values)      brotli  19268410       2879742           0.149454\n",
      "12                     Sorted Values      brotli  19269159       5282856           0.274161\n"
     ]
    }
   ],
   "source": [
    "for scenario in scenarios:\n",
    "    kwargs = scenario.get('kwargs', {})\n",
    "    print(f\"Processing scenario: {scenario['name']}...\")\n",
    "    \n",
    "    # Create the dataframe for this scenario\n",
    "    df = create_dataframe(rows, scenario['func'], **kwargs)\n",
    "    print(df.head())\n",
    "    \n",
    "    # Get base CSV size for comparison\n",
    "    csv_filepath = out_dir / f\"test_{scenario['func']}.csv\"\n",
    "    df.to_csv(csv_filepath, index=False)\n",
    "    csv_size = os.path.getsize(csv_filepath)\n",
    "    \n",
    "    # Test different compression methods\n",
    "    for compression in compression_methods:\n",
    "        compression_name = compression if compression else 'uncompressed'\n",
    "        print(f\"  Testing with {compression_name}...\")\n",
    "        \n",
    "        # Measure size\n",
    "        filename = f\"test_{scenario['func']}_{compression_name}\"\n",
    "        parquet_size = measure_file_size(df, filename, compression)\n",
    "        \n",
    "        # Record results\n",
    "        results.append({\n",
    "            'Scenario': scenario['name'],\n",
    "            'Compression': compression_name,\n",
    "            'CSV Size': csv_size,\n",
    "            'Parquet Size': parquet_size,\n",
    "            'Compression Ratio': parquet_size / csv_size\n",
    "        })\n",
    "        \n",
    "# Convert to DataFrame\n",
    "results_df = pd.DataFrame(results)\n",
    "\n",
    "# Print summary\n",
    "print(\"\\nResults Summary:\")\n",
    "print(results_df.to_string())\n",
    "\n",
    "# Save results\n",
    "results_df.to_csv(out_dir / \"parquet_compression_results.csv\", index=False)"
   ]
  },
  {
   "cell_type": "code",
   "execution_count": 4,
   "metadata": {},
   "outputs": [
    {
     "data": {
      "application/vnd.plotly.v1+json": {
       "config": {
        "plotlyServerURL": "https://plot.ly"
       },
       "data": [
        {
         "name": "Sorted Values",
         "orientation": "h",
         "type": "bar",
         "x": {
          "bdata": "v1ekeNuL0T8=",
          "dtype": "f8"
         },
         "y": [
          "brotli"
         ]
        },
        {
         "name": "High Cardinality (100000 values)",
         "orientation": "h",
         "type": "bar",
         "x": {
          "bdata": "aOpbek8hwz8=",
          "dtype": "f8"
         },
         "y": [
          "brotli"
         ]
        },
        {
         "name": "Low Cardinality (100 values)",
         "orientation": "h",
         "type": "bar",
         "x": {
          "bdata": "OgT7o6Fppz8=",
          "dtype": "f8"
         },
         "y": [
          "brotli"
         ]
        },
        {
         "name": "Low Cardinality (5 values)",
         "orientation": "h",
         "type": "bar",
         "x": {
          "bdata": "xfUWDmspkj8=",
          "dtype": "f8"
         },
         "y": [
          "brotli"
         ]
        },
        {
         "name": "Cyclic (100 values)",
         "orientation": "h",
         "type": "bar",
         "x": {
          "bdata": "T3wG0MLfIT8=",
          "dtype": "f8"
         },
         "y": [
          "brotli"
         ]
        },
        {
         "name": "Cyclic (10 values)",
         "orientation": "h",
         "type": "bar",
         "x": {
          "bdata": "khAS4sSQFz8=",
          "dtype": "f8"
         },
         "y": [
          "brotli"
         ]
        },
        {
         "name": "Repeated Values (1_000_000x)",
         "orientation": "h",
         "type": "bar",
         "x": {
          "bdata": "cuFiNP/xFD8=",
          "dtype": "f8"
         },
         "y": [
          "brotli"
         ]
        },
        {
         "name": "Repeated Values (100_000x)",
         "orientation": "h",
         "type": "bar",
         "x": {
          "bdata": "wSYstU7JFj8=",
          "dtype": "f8"
         },
         "y": [
          "brotli"
         ]
        },
        {
         "name": "Repeated Values (10_000x)",
         "orientation": "h",
         "type": "bar",
         "x": {
          "bdata": "xPO+SJ3hID8=",
          "dtype": "f8"
         },
         "y": [
          "brotli"
         ]
        },
        {
         "name": "Repeated Values (1000x)",
         "orientation": "h",
         "type": "bar",
         "x": {
          "bdata": "FqsWJTCoQT8=",
          "dtype": "f8"
         },
         "y": [
          "brotli"
         ]
        },
        {
         "name": "Repeated Values (100x)",
         "orientation": "h",
         "type": "bar",
         "x": {
          "bdata": "Hg0qY8y5cj8=",
          "dtype": "f8"
         },
         "y": [
          "brotli"
         ]
        },
        {
         "name": "Repeated Values (10x)",
         "orientation": "h",
         "type": "bar",
         "x": {
          "bdata": "WKSAJ0/apz8=",
          "dtype": "f8"
         },
         "y": [
          "brotli"
         ]
        },
        {
         "name": "Unique Values",
         "orientation": "h",
         "type": "bar",
         "x": {
          "bdata": "MXGdCKbB2T8=",
          "dtype": "f8"
         },
         "y": [
          "brotli"
         ]
        }
       ],
       "layout": {
        "barmode": "group",
        "height": 800,
        "legend": {
         "traceorder": "reversed",
         "x": 1.05,
         "xanchor": "left",
         "y": 1,
         "yanchor": "top"
        },
        "margin": {
         "b": 100,
         "l": 100,
         "r": 100,
         "t": 100
        },
        "template": {
         "data": {
          "bar": [
           {
            "error_x": {
             "color": "#2a3f5f"
            },
            "error_y": {
             "color": "#2a3f5f"
            },
            "marker": {
             "line": {
              "color": "#E5ECF6",
              "width": 0.5
             },
             "pattern": {
              "fillmode": "overlay",
              "size": 10,
              "solidity": 0.2
             }
            },
            "type": "bar"
           }
          ],
          "barpolar": [
           {
            "marker": {
             "line": {
              "color": "#E5ECF6",
              "width": 0.5
             },
             "pattern": {
              "fillmode": "overlay",
              "size": 10,
              "solidity": 0.2
             }
            },
            "type": "barpolar"
           }
          ],
          "carpet": [
           {
            "aaxis": {
             "endlinecolor": "#2a3f5f",
             "gridcolor": "white",
             "linecolor": "white",
             "minorgridcolor": "white",
             "startlinecolor": "#2a3f5f"
            },
            "baxis": {
             "endlinecolor": "#2a3f5f",
             "gridcolor": "white",
             "linecolor": "white",
             "minorgridcolor": "white",
             "startlinecolor": "#2a3f5f"
            },
            "type": "carpet"
           }
          ],
          "choropleth": [
           {
            "colorbar": {
             "outlinewidth": 0,
             "ticks": ""
            },
            "type": "choropleth"
           }
          ],
          "contour": [
           {
            "colorbar": {
             "outlinewidth": 0,
             "ticks": ""
            },
            "colorscale": [
             [
              0,
              "#0d0887"
             ],
             [
              0.1111111111111111,
              "#46039f"
             ],
             [
              0.2222222222222222,
              "#7201a8"
             ],
             [
              0.3333333333333333,
              "#9c179e"
             ],
             [
              0.4444444444444444,
              "#bd3786"
             ],
             [
              0.5555555555555556,
              "#d8576b"
             ],
             [
              0.6666666666666666,
              "#ed7953"
             ],
             [
              0.7777777777777778,
              "#fb9f3a"
             ],
             [
              0.8888888888888888,
              "#fdca26"
             ],
             [
              1,
              "#f0f921"
             ]
            ],
            "type": "contour"
           }
          ],
          "contourcarpet": [
           {
            "colorbar": {
             "outlinewidth": 0,
             "ticks": ""
            },
            "type": "contourcarpet"
           }
          ],
          "heatmap": [
           {
            "colorbar": {
             "outlinewidth": 0,
             "ticks": ""
            },
            "colorscale": [
             [
              0,
              "#0d0887"
             ],
             [
              0.1111111111111111,
              "#46039f"
             ],
             [
              0.2222222222222222,
              "#7201a8"
             ],
             [
              0.3333333333333333,
              "#9c179e"
             ],
             [
              0.4444444444444444,
              "#bd3786"
             ],
             [
              0.5555555555555556,
              "#d8576b"
             ],
             [
              0.6666666666666666,
              "#ed7953"
             ],
             [
              0.7777777777777778,
              "#fb9f3a"
             ],
             [
              0.8888888888888888,
              "#fdca26"
             ],
             [
              1,
              "#f0f921"
             ]
            ],
            "type": "heatmap"
           }
          ],
          "histogram": [
           {
            "marker": {
             "pattern": {
              "fillmode": "overlay",
              "size": 10,
              "solidity": 0.2
             }
            },
            "type": "histogram"
           }
          ],
          "histogram2d": [
           {
            "colorbar": {
             "outlinewidth": 0,
             "ticks": ""
            },
            "colorscale": [
             [
              0,
              "#0d0887"
             ],
             [
              0.1111111111111111,
              "#46039f"
             ],
             [
              0.2222222222222222,
              "#7201a8"
             ],
             [
              0.3333333333333333,
              "#9c179e"
             ],
             [
              0.4444444444444444,
              "#bd3786"
             ],
             [
              0.5555555555555556,
              "#d8576b"
             ],
             [
              0.6666666666666666,
              "#ed7953"
             ],
             [
              0.7777777777777778,
              "#fb9f3a"
             ],
             [
              0.8888888888888888,
              "#fdca26"
             ],
             [
              1,
              "#f0f921"
             ]
            ],
            "type": "histogram2d"
           }
          ],
          "histogram2dcontour": [
           {
            "colorbar": {
             "outlinewidth": 0,
             "ticks": ""
            },
            "colorscale": [
             [
              0,
              "#0d0887"
             ],
             [
              0.1111111111111111,
              "#46039f"
             ],
             [
              0.2222222222222222,
              "#7201a8"
             ],
             [
              0.3333333333333333,
              "#9c179e"
             ],
             [
              0.4444444444444444,
              "#bd3786"
             ],
             [
              0.5555555555555556,
              "#d8576b"
             ],
             [
              0.6666666666666666,
              "#ed7953"
             ],
             [
              0.7777777777777778,
              "#fb9f3a"
             ],
             [
              0.8888888888888888,
              "#fdca26"
             ],
             [
              1,
              "#f0f921"
             ]
            ],
            "type": "histogram2dcontour"
           }
          ],
          "mesh3d": [
           {
            "colorbar": {
             "outlinewidth": 0,
             "ticks": ""
            },
            "type": "mesh3d"
           }
          ],
          "parcoords": [
           {
            "line": {
             "colorbar": {
              "outlinewidth": 0,
              "ticks": ""
             }
            },
            "type": "parcoords"
           }
          ],
          "pie": [
           {
            "automargin": true,
            "type": "pie"
           }
          ],
          "scatter": [
           {
            "fillpattern": {
             "fillmode": "overlay",
             "size": 10,
             "solidity": 0.2
            },
            "type": "scatter"
           }
          ],
          "scatter3d": [
           {
            "line": {
             "colorbar": {
              "outlinewidth": 0,
              "ticks": ""
             }
            },
            "marker": {
             "colorbar": {
              "outlinewidth": 0,
              "ticks": ""
             }
            },
            "type": "scatter3d"
           }
          ],
          "scattercarpet": [
           {
            "marker": {
             "colorbar": {
              "outlinewidth": 0,
              "ticks": ""
             }
            },
            "type": "scattercarpet"
           }
          ],
          "scattergeo": [
           {
            "marker": {
             "colorbar": {
              "outlinewidth": 0,
              "ticks": ""
             }
            },
            "type": "scattergeo"
           }
          ],
          "scattergl": [
           {
            "marker": {
             "colorbar": {
              "outlinewidth": 0,
              "ticks": ""
             }
            },
            "type": "scattergl"
           }
          ],
          "scattermap": [
           {
            "marker": {
             "colorbar": {
              "outlinewidth": 0,
              "ticks": ""
             }
            },
            "type": "scattermap"
           }
          ],
          "scattermapbox": [
           {
            "marker": {
             "colorbar": {
              "outlinewidth": 0,
              "ticks": ""
             }
            },
            "type": "scattermapbox"
           }
          ],
          "scatterpolar": [
           {
            "marker": {
             "colorbar": {
              "outlinewidth": 0,
              "ticks": ""
             }
            },
            "type": "scatterpolar"
           }
          ],
          "scatterpolargl": [
           {
            "marker": {
             "colorbar": {
              "outlinewidth": 0,
              "ticks": ""
             }
            },
            "type": "scatterpolargl"
           }
          ],
          "scatterternary": [
           {
            "marker": {
             "colorbar": {
              "outlinewidth": 0,
              "ticks": ""
             }
            },
            "type": "scatterternary"
           }
          ],
          "surface": [
           {
            "colorbar": {
             "outlinewidth": 0,
             "ticks": ""
            },
            "colorscale": [
             [
              0,
              "#0d0887"
             ],
             [
              0.1111111111111111,
              "#46039f"
             ],
             [
              0.2222222222222222,
              "#7201a8"
             ],
             [
              0.3333333333333333,
              "#9c179e"
             ],
             [
              0.4444444444444444,
              "#bd3786"
             ],
             [
              0.5555555555555556,
              "#d8576b"
             ],
             [
              0.6666666666666666,
              "#ed7953"
             ],
             [
              0.7777777777777778,
              "#fb9f3a"
             ],
             [
              0.8888888888888888,
              "#fdca26"
             ],
             [
              1,
              "#f0f921"
             ]
            ],
            "type": "surface"
           }
          ],
          "table": [
           {
            "cells": {
             "fill": {
              "color": "#EBF0F8"
             },
             "line": {
              "color": "white"
             }
            },
            "header": {
             "fill": {
              "color": "#C8D4E3"
             },
             "line": {
              "color": "white"
             }
            },
            "type": "table"
           }
          ]
         },
         "layout": {
          "annotationdefaults": {
           "arrowcolor": "#2a3f5f",
           "arrowhead": 0,
           "arrowwidth": 1
          },
          "autotypenumbers": "strict",
          "coloraxis": {
           "colorbar": {
            "outlinewidth": 0,
            "ticks": ""
           }
          },
          "colorscale": {
           "diverging": [
            [
             0,
             "#8e0152"
            ],
            [
             0.1,
             "#c51b7d"
            ],
            [
             0.2,
             "#de77ae"
            ],
            [
             0.3,
             "#f1b6da"
            ],
            [
             0.4,
             "#fde0ef"
            ],
            [
             0.5,
             "#f7f7f7"
            ],
            [
             0.6,
             "#e6f5d0"
            ],
            [
             0.7,
             "#b8e186"
            ],
            [
             0.8,
             "#7fbc41"
            ],
            [
             0.9,
             "#4d9221"
            ],
            [
             1,
             "#276419"
            ]
           ],
           "sequential": [
            [
             0,
             "#0d0887"
            ],
            [
             0.1111111111111111,
             "#46039f"
            ],
            [
             0.2222222222222222,
             "#7201a8"
            ],
            [
             0.3333333333333333,
             "#9c179e"
            ],
            [
             0.4444444444444444,
             "#bd3786"
            ],
            [
             0.5555555555555556,
             "#d8576b"
            ],
            [
             0.6666666666666666,
             "#ed7953"
            ],
            [
             0.7777777777777778,
             "#fb9f3a"
            ],
            [
             0.8888888888888888,
             "#fdca26"
            ],
            [
             1,
             "#f0f921"
            ]
           ],
           "sequentialminus": [
            [
             0,
             "#0d0887"
            ],
            [
             0.1111111111111111,
             "#46039f"
            ],
            [
             0.2222222222222222,
             "#7201a8"
            ],
            [
             0.3333333333333333,
             "#9c179e"
            ],
            [
             0.4444444444444444,
             "#bd3786"
            ],
            [
             0.5555555555555556,
             "#d8576b"
            ],
            [
             0.6666666666666666,
             "#ed7953"
            ],
            [
             0.7777777777777778,
             "#fb9f3a"
            ],
            [
             0.8888888888888888,
             "#fdca26"
            ],
            [
             1,
             "#f0f921"
            ]
           ]
          },
          "colorway": [
           "#636efa",
           "#EF553B",
           "#00cc96",
           "#ab63fa",
           "#FFA15A",
           "#19d3f3",
           "#FF6692",
           "#B6E880",
           "#FF97FF",
           "#FECB52"
          ],
          "font": {
           "color": "#2a3f5f"
          },
          "geo": {
           "bgcolor": "white",
           "lakecolor": "white",
           "landcolor": "#E5ECF6",
           "showlakes": true,
           "showland": true,
           "subunitcolor": "white"
          },
          "hoverlabel": {
           "align": "left"
          },
          "hovermode": "closest",
          "mapbox": {
           "style": "light"
          },
          "paper_bgcolor": "white",
          "plot_bgcolor": "#E5ECF6",
          "polar": {
           "angularaxis": {
            "gridcolor": "white",
            "linecolor": "white",
            "ticks": ""
           },
           "bgcolor": "#E5ECF6",
           "radialaxis": {
            "gridcolor": "white",
            "linecolor": "white",
            "ticks": ""
           }
          },
          "scene": {
           "xaxis": {
            "backgroundcolor": "#E5ECF6",
            "gridcolor": "white",
            "gridwidth": 2,
            "linecolor": "white",
            "showbackground": true,
            "ticks": "",
            "zerolinecolor": "white"
           },
           "yaxis": {
            "backgroundcolor": "#E5ECF6",
            "gridcolor": "white",
            "gridwidth": 2,
            "linecolor": "white",
            "showbackground": true,
            "ticks": "",
            "zerolinecolor": "white"
           },
           "zaxis": {
            "backgroundcolor": "#E5ECF6",
            "gridcolor": "white",
            "gridwidth": 2,
            "linecolor": "white",
            "showbackground": true,
            "ticks": "",
            "zerolinecolor": "white"
           }
          },
          "shapedefaults": {
           "line": {
            "color": "#2a3f5f"
           }
          },
          "ternary": {
           "aaxis": {
            "gridcolor": "white",
            "linecolor": "white",
            "ticks": ""
           },
           "baxis": {
            "gridcolor": "white",
            "linecolor": "white",
            "ticks": ""
           },
           "bgcolor": "#E5ECF6",
           "caxis": {
            "gridcolor": "white",
            "linecolor": "white",
            "ticks": ""
           }
          },
          "title": {
           "x": 0.05
          },
          "xaxis": {
           "automargin": true,
           "gridcolor": "white",
           "linecolor": "white",
           "ticks": "",
           "title": {
            "standoff": 15
           },
           "zerolinecolor": "white",
           "zerolinewidth": 2
          },
          "yaxis": {
           "automargin": true,
           "gridcolor": "white",
           "linecolor": "white",
           "ticks": "",
           "title": {
            "standoff": 15
           },
           "zerolinecolor": "white",
           "zerolinewidth": 2
          }
         }
        },
        "title": {
         "text": "Parquet Compression Efficiency by Scenario and Method"
        },
        "width": 1000,
        "xaxis": {
         "title": {
          "text": "Compression Ratio (Parquet Size / CSV Size)"
         }
        },
        "yaxis": {
         "title": {
          "text": "Compression Method"
         }
        }
       }
      }
     },
     "metadata": {},
     "output_type": "display_data"
    }
   ],
   "source": [
    "# Create visualization with plotly\n",
    "import plotly.graph_objects as go\n",
    "\n",
    "# Prepare data for plotting\n",
    "scenarios_df = results_df['Scenario'].unique()\n",
    "compression_methods = results_df['Compression'].unique()\n",
    "\n",
    "# Create figure\n",
    "fig = go.Figure()\n",
    "\n",
    "# Add traces for each scenario in reverse order to match legend with bars\n",
    "for scenario_name in reversed(scenarios_df):\n",
    "    data = results_df[results_df['Scenario'] == scenario_name]\n",
    "    \n",
    "    fig.add_trace(go.Bar(\n",
    "        y=data['Compression'],\n",
    "        x=data['Compression Ratio'],\n",
    "        name=scenario_name,\n",
    "        orientation='h'\n",
    "    ))\n",
    "\n",
    "# Update layout\n",
    "fig.update_layout(\n",
    "    title='Parquet Compression Efficiency by Scenario and Method',\n",
    "    xaxis_title='Compression Ratio (Parquet Size / CSV Size)',\n",
    "    yaxis_title='Compression Method',\n",
    "    barmode='group',\n",
    "    height=800,\n",
    "    width=1000,\n",
    "    legend=dict(\n",
    "        x=1.05,\n",
    "        y=1,\n",
    "        xanchor='left',\n",
    "        yanchor='top',\n",
    "        traceorder='reversed'  # Ensure legend order matches visual order\n",
    "    ),\n",
    "    margin=dict(l=100, r=100, t=100, b=100)\n",
    ")\n",
    "\n",
    "# Save as image\n",
    "# fig.write_image(out_dir / 'parquet_compression_chart.png')\n",
    "\n",
    "# Show interactive plot\n",
    "fig.show()"
   ]
  },
  {
   "cell_type": "code",
   "execution_count": 27,
   "metadata": {},
   "outputs": [
    {
     "data": {
      "application/vnd.plotly.v1+json": {
       "config": {
        "plotlyServerURL": "https://plot.ly"
       },
       "data": [
        {
         "name": "Sorted Values",
         "orientation": "h",
         "type": "bar",
         "x": [
          0.27415449943014775
         ],
         "y": [
          "brotli"
         ]
        },
        {
         "name": "High Cardinality (100000 values)",
         "orientation": "h",
         "type": "bar",
         "x": [
          0.14945511539679163
         ],
         "y": [
          "brotli"
         ]
        },
        {
         "name": "Low Cardinality (100 values)",
         "orientation": "h",
         "type": "bar",
         "x": [
          0.045752041035271945
         ],
         "y": [
          "brotli"
         ]
        },
        {
         "name": "Low Cardinality (5 values)",
         "orientation": "h",
         "type": "bar",
         "x": [
          0.01755567054257409
         ],
         "y": [
          "brotli"
         ]
        },
        {
         "name": "Cyclic (100 values)",
         "orientation": "h",
         "type": "bar",
         "x": [
          0.0001387872088899088
         ],
         "y": [
          "brotli"
         ]
        },
        {
         "name": "Cyclic (10 values)",
         "orientation": "h",
         "type": "bar",
         "x": [
          0.00008896904923478112
         ],
         "y": [
          "brotli"
         ]
        },
        {
         "name": "Repeated Values (1_000_000x)",
         "orientation": "h",
         "type": "bar",
         "x": [
          0.00008457892511080918
         ],
         "y": [
          "brotli"
         ]
        },
        {
         "name": "Repeated Values (100_000x)",
         "orientation": "h",
         "type": "bar",
         "x": [
          0.00008783502890849771
         ],
         "y": [
          "brotli"
         ]
        },
        {
         "name": "Repeated Values (10_000x)",
         "orientation": "h",
         "type": "bar",
         "x": [
          0.0001292012113067398
         ],
         "y": [
          "brotli"
         ]
        },
        {
         "name": "Repeated Values (1000x)",
         "orientation": "h",
         "type": "bar",
         "x": [
          0.0005404393173239527
         ],
         "y": [
          "brotli"
         ]
        },
        {
         "name": "Repeated Values (100x)",
         "orientation": "h",
         "type": "bar",
         "x": [
          0.004572480067336066
         ],
         "y": [
          "brotli"
         ]
        },
        {
         "name": "Repeated Values (10x)",
         "orientation": "h",
         "type": "bar",
         "x": [
          0.04658041087540225
         ],
         "y": [
          "brotli"
         ]
        },
        {
         "name": "Unique Values",
         "orientation": "h",
         "type": "bar",
         "x": [
          0.40244112616088445
         ],
         "y": [
          "brotli"
         ]
        }
       ],
       "layout": {
        "barmode": "group",
        "height": 800,
        "legend": {
         "traceorder": "reversed",
         "x": 1.05,
         "xanchor": "left",
         "y": 1,
         "yanchor": "top"
        },
        "margin": {
         "b": 100,
         "l": 100,
         "r": 100,
         "t": 100
        },
        "template": {
         "data": {
          "bar": [
           {
            "error_x": {
             "color": "#2a3f5f"
            },
            "error_y": {
             "color": "#2a3f5f"
            },
            "marker": {
             "line": {
              "color": "#E5ECF6",
              "width": 0.5
             },
             "pattern": {
              "fillmode": "overlay",
              "size": 10,
              "solidity": 0.2
             }
            },
            "type": "bar"
           }
          ],
          "barpolar": [
           {
            "marker": {
             "line": {
              "color": "#E5ECF6",
              "width": 0.5
             },
             "pattern": {
              "fillmode": "overlay",
              "size": 10,
              "solidity": 0.2
             }
            },
            "type": "barpolar"
           }
          ],
          "carpet": [
           {
            "aaxis": {
             "endlinecolor": "#2a3f5f",
             "gridcolor": "white",
             "linecolor": "white",
             "minorgridcolor": "white",
             "startlinecolor": "#2a3f5f"
            },
            "baxis": {
             "endlinecolor": "#2a3f5f",
             "gridcolor": "white",
             "linecolor": "white",
             "minorgridcolor": "white",
             "startlinecolor": "#2a3f5f"
            },
            "type": "carpet"
           }
          ],
          "choropleth": [
           {
            "colorbar": {
             "outlinewidth": 0,
             "ticks": ""
            },
            "type": "choropleth"
           }
          ],
          "contour": [
           {
            "colorbar": {
             "outlinewidth": 0,
             "ticks": ""
            },
            "colorscale": [
             [
              0,
              "#0d0887"
             ],
             [
              0.1111111111111111,
              "#46039f"
             ],
             [
              0.2222222222222222,
              "#7201a8"
             ],
             [
              0.3333333333333333,
              "#9c179e"
             ],
             [
              0.4444444444444444,
              "#bd3786"
             ],
             [
              0.5555555555555556,
              "#d8576b"
             ],
             [
              0.6666666666666666,
              "#ed7953"
             ],
             [
              0.7777777777777778,
              "#fb9f3a"
             ],
             [
              0.8888888888888888,
              "#fdca26"
             ],
             [
              1,
              "#f0f921"
             ]
            ],
            "type": "contour"
           }
          ],
          "contourcarpet": [
           {
            "colorbar": {
             "outlinewidth": 0,
             "ticks": ""
            },
            "type": "contourcarpet"
           }
          ],
          "heatmap": [
           {
            "colorbar": {
             "outlinewidth": 0,
             "ticks": ""
            },
            "colorscale": [
             [
              0,
              "#0d0887"
             ],
             [
              0.1111111111111111,
              "#46039f"
             ],
             [
              0.2222222222222222,
              "#7201a8"
             ],
             [
              0.3333333333333333,
              "#9c179e"
             ],
             [
              0.4444444444444444,
              "#bd3786"
             ],
             [
              0.5555555555555556,
              "#d8576b"
             ],
             [
              0.6666666666666666,
              "#ed7953"
             ],
             [
              0.7777777777777778,
              "#fb9f3a"
             ],
             [
              0.8888888888888888,
              "#fdca26"
             ],
             [
              1,
              "#f0f921"
             ]
            ],
            "type": "heatmap"
           }
          ],
          "heatmapgl": [
           {
            "colorbar": {
             "outlinewidth": 0,
             "ticks": ""
            },
            "colorscale": [
             [
              0,
              "#0d0887"
             ],
             [
              0.1111111111111111,
              "#46039f"
             ],
             [
              0.2222222222222222,
              "#7201a8"
             ],
             [
              0.3333333333333333,
              "#9c179e"
             ],
             [
              0.4444444444444444,
              "#bd3786"
             ],
             [
              0.5555555555555556,
              "#d8576b"
             ],
             [
              0.6666666666666666,
              "#ed7953"
             ],
             [
              0.7777777777777778,
              "#fb9f3a"
             ],
             [
              0.8888888888888888,
              "#fdca26"
             ],
             [
              1,
              "#f0f921"
             ]
            ],
            "type": "heatmapgl"
           }
          ],
          "histogram": [
           {
            "marker": {
             "pattern": {
              "fillmode": "overlay",
              "size": 10,
              "solidity": 0.2
             }
            },
            "type": "histogram"
           }
          ],
          "histogram2d": [
           {
            "colorbar": {
             "outlinewidth": 0,
             "ticks": ""
            },
            "colorscale": [
             [
              0,
              "#0d0887"
             ],
             [
              0.1111111111111111,
              "#46039f"
             ],
             [
              0.2222222222222222,
              "#7201a8"
             ],
             [
              0.3333333333333333,
              "#9c179e"
             ],
             [
              0.4444444444444444,
              "#bd3786"
             ],
             [
              0.5555555555555556,
              "#d8576b"
             ],
             [
              0.6666666666666666,
              "#ed7953"
             ],
             [
              0.7777777777777778,
              "#fb9f3a"
             ],
             [
              0.8888888888888888,
              "#fdca26"
             ],
             [
              1,
              "#f0f921"
             ]
            ],
            "type": "histogram2d"
           }
          ],
          "histogram2dcontour": [
           {
            "colorbar": {
             "outlinewidth": 0,
             "ticks": ""
            },
            "colorscale": [
             [
              0,
              "#0d0887"
             ],
             [
              0.1111111111111111,
              "#46039f"
             ],
             [
              0.2222222222222222,
              "#7201a8"
             ],
             [
              0.3333333333333333,
              "#9c179e"
             ],
             [
              0.4444444444444444,
              "#bd3786"
             ],
             [
              0.5555555555555556,
              "#d8576b"
             ],
             [
              0.6666666666666666,
              "#ed7953"
             ],
             [
              0.7777777777777778,
              "#fb9f3a"
             ],
             [
              0.8888888888888888,
              "#fdca26"
             ],
             [
              1,
              "#f0f921"
             ]
            ],
            "type": "histogram2dcontour"
           }
          ],
          "mesh3d": [
           {
            "colorbar": {
             "outlinewidth": 0,
             "ticks": ""
            },
            "type": "mesh3d"
           }
          ],
          "parcoords": [
           {
            "line": {
             "colorbar": {
              "outlinewidth": 0,
              "ticks": ""
             }
            },
            "type": "parcoords"
           }
          ],
          "pie": [
           {
            "automargin": true,
            "type": "pie"
           }
          ],
          "scatter": [
           {
            "fillpattern": {
             "fillmode": "overlay",
             "size": 10,
             "solidity": 0.2
            },
            "type": "scatter"
           }
          ],
          "scatter3d": [
           {
            "line": {
             "colorbar": {
              "outlinewidth": 0,
              "ticks": ""
             }
            },
            "marker": {
             "colorbar": {
              "outlinewidth": 0,
              "ticks": ""
             }
            },
            "type": "scatter3d"
           }
          ],
          "scattercarpet": [
           {
            "marker": {
             "colorbar": {
              "outlinewidth": 0,
              "ticks": ""
             }
            },
            "type": "scattercarpet"
           }
          ],
          "scattergeo": [
           {
            "marker": {
             "colorbar": {
              "outlinewidth": 0,
              "ticks": ""
             }
            },
            "type": "scattergeo"
           }
          ],
          "scattergl": [
           {
            "marker": {
             "colorbar": {
              "outlinewidth": 0,
              "ticks": ""
             }
            },
            "type": "scattergl"
           }
          ],
          "scattermapbox": [
           {
            "marker": {
             "colorbar": {
              "outlinewidth": 0,
              "ticks": ""
             }
            },
            "type": "scattermapbox"
           }
          ],
          "scatterpolar": [
           {
            "marker": {
             "colorbar": {
              "outlinewidth": 0,
              "ticks": ""
             }
            },
            "type": "scatterpolar"
           }
          ],
          "scatterpolargl": [
           {
            "marker": {
             "colorbar": {
              "outlinewidth": 0,
              "ticks": ""
             }
            },
            "type": "scatterpolargl"
           }
          ],
          "scatterternary": [
           {
            "marker": {
             "colorbar": {
              "outlinewidth": 0,
              "ticks": ""
             }
            },
            "type": "scatterternary"
           }
          ],
          "surface": [
           {
            "colorbar": {
             "outlinewidth": 0,
             "ticks": ""
            },
            "colorscale": [
             [
              0,
              "#0d0887"
             ],
             [
              0.1111111111111111,
              "#46039f"
             ],
             [
              0.2222222222222222,
              "#7201a8"
             ],
             [
              0.3333333333333333,
              "#9c179e"
             ],
             [
              0.4444444444444444,
              "#bd3786"
             ],
             [
              0.5555555555555556,
              "#d8576b"
             ],
             [
              0.6666666666666666,
              "#ed7953"
             ],
             [
              0.7777777777777778,
              "#fb9f3a"
             ],
             [
              0.8888888888888888,
              "#fdca26"
             ],
             [
              1,
              "#f0f921"
             ]
            ],
            "type": "surface"
           }
          ],
          "table": [
           {
            "cells": {
             "fill": {
              "color": "#EBF0F8"
             },
             "line": {
              "color": "white"
             }
            },
            "header": {
             "fill": {
              "color": "#C8D4E3"
             },
             "line": {
              "color": "white"
             }
            },
            "type": "table"
           }
          ]
         },
         "layout": {
          "annotationdefaults": {
           "arrowcolor": "#2a3f5f",
           "arrowhead": 0,
           "arrowwidth": 1
          },
          "autotypenumbers": "strict",
          "coloraxis": {
           "colorbar": {
            "outlinewidth": 0,
            "ticks": ""
           }
          },
          "colorscale": {
           "diverging": [
            [
             0,
             "#8e0152"
            ],
            [
             0.1,
             "#c51b7d"
            ],
            [
             0.2,
             "#de77ae"
            ],
            [
             0.3,
             "#f1b6da"
            ],
            [
             0.4,
             "#fde0ef"
            ],
            [
             0.5,
             "#f7f7f7"
            ],
            [
             0.6,
             "#e6f5d0"
            ],
            [
             0.7,
             "#b8e186"
            ],
            [
             0.8,
             "#7fbc41"
            ],
            [
             0.9,
             "#4d9221"
            ],
            [
             1,
             "#276419"
            ]
           ],
           "sequential": [
            [
             0,
             "#0d0887"
            ],
            [
             0.1111111111111111,
             "#46039f"
            ],
            [
             0.2222222222222222,
             "#7201a8"
            ],
            [
             0.3333333333333333,
             "#9c179e"
            ],
            [
             0.4444444444444444,
             "#bd3786"
            ],
            [
             0.5555555555555556,
             "#d8576b"
            ],
            [
             0.6666666666666666,
             "#ed7953"
            ],
            [
             0.7777777777777778,
             "#fb9f3a"
            ],
            [
             0.8888888888888888,
             "#fdca26"
            ],
            [
             1,
             "#f0f921"
            ]
           ],
           "sequentialminus": [
            [
             0,
             "#0d0887"
            ],
            [
             0.1111111111111111,
             "#46039f"
            ],
            [
             0.2222222222222222,
             "#7201a8"
            ],
            [
             0.3333333333333333,
             "#9c179e"
            ],
            [
             0.4444444444444444,
             "#bd3786"
            ],
            [
             0.5555555555555556,
             "#d8576b"
            ],
            [
             0.6666666666666666,
             "#ed7953"
            ],
            [
             0.7777777777777778,
             "#fb9f3a"
            ],
            [
             0.8888888888888888,
             "#fdca26"
            ],
            [
             1,
             "#f0f921"
            ]
           ]
          },
          "colorway": [
           "#636efa",
           "#EF553B",
           "#00cc96",
           "#ab63fa",
           "#FFA15A",
           "#19d3f3",
           "#FF6692",
           "#B6E880",
           "#FF97FF",
           "#FECB52"
          ],
          "font": {
           "color": "#2a3f5f"
          },
          "geo": {
           "bgcolor": "white",
           "lakecolor": "white",
           "landcolor": "#E5ECF6",
           "showlakes": true,
           "showland": true,
           "subunitcolor": "white"
          },
          "hoverlabel": {
           "align": "left"
          },
          "hovermode": "closest",
          "mapbox": {
           "style": "light"
          },
          "paper_bgcolor": "white",
          "plot_bgcolor": "#E5ECF6",
          "polar": {
           "angularaxis": {
            "gridcolor": "white",
            "linecolor": "white",
            "ticks": ""
           },
           "bgcolor": "#E5ECF6",
           "radialaxis": {
            "gridcolor": "white",
            "linecolor": "white",
            "ticks": ""
           }
          },
          "scene": {
           "xaxis": {
            "backgroundcolor": "#E5ECF6",
            "gridcolor": "white",
            "gridwidth": 2,
            "linecolor": "white",
            "showbackground": true,
            "ticks": "",
            "zerolinecolor": "white"
           },
           "yaxis": {
            "backgroundcolor": "#E5ECF6",
            "gridcolor": "white",
            "gridwidth": 2,
            "linecolor": "white",
            "showbackground": true,
            "ticks": "",
            "zerolinecolor": "white"
           },
           "zaxis": {
            "backgroundcolor": "#E5ECF6",
            "gridcolor": "white",
            "gridwidth": 2,
            "linecolor": "white",
            "showbackground": true,
            "ticks": "",
            "zerolinecolor": "white"
           }
          },
          "shapedefaults": {
           "line": {
            "color": "#2a3f5f"
           }
          },
          "ternary": {
           "aaxis": {
            "gridcolor": "white",
            "linecolor": "white",
            "ticks": ""
           },
           "baxis": {
            "gridcolor": "white",
            "linecolor": "white",
            "ticks": ""
           },
           "bgcolor": "#E5ECF6",
           "caxis": {
            "gridcolor": "white",
            "linecolor": "white",
            "ticks": ""
           }
          },
          "title": {
           "x": 0.05
          },
          "xaxis": {
           "automargin": true,
           "gridcolor": "white",
           "linecolor": "white",
           "ticks": "",
           "title": {
            "standoff": 15
           },
           "zerolinecolor": "white",
           "zerolinewidth": 2
          },
          "yaxis": {
           "automargin": true,
           "gridcolor": "white",
           "linecolor": "white",
           "ticks": "",
           "title": {
            "standoff": 15
           },
           "zerolinecolor": "white",
           "zerolinewidth": 2
          }
         }
        },
        "title": {
         "text": "Parquet Compression Efficiency by Scenario and Method"
        },
        "width": 1000,
        "xaxis": {
         "title": {
          "text": "Compression Ratio (Parquet Size / CSV Size)"
         }
        },
        "yaxis": {
         "title": {
          "text": "Compression Method"
         }
        }
       }
      }
     },
     "metadata": {},
     "output_type": "display_data"
    }
   ],
   "source": [
    "# Create visualization with plotly\n",
    "import plotly.graph_objects as go\n",
    "\n",
    "# Prepare data for plotting\n",
    "scenarios_df = results_df['Scenario'].unique()\n",
    "compression_methods = results_df['Compression'].unique()\n",
    "\n",
    "# Create figure\n",
    "fig = go.Figure()\n",
    "\n",
    "# Add traces for each scenario in reverse order to match legend with bars\n",
    "for scenario_name in reversed(scenarios_df):\n",
    "    data = results_df[results_df['Scenario'] == scenario_name]\n",
    "    \n",
    "    fig.add_trace(go.Bar(\n",
    "        y=data['Compression'],\n",
    "        x=data['Compression Ratio'],\n",
    "        name=scenario_name,\n",
    "        orientation='h'\n",
    "    ))\n",
    "\n",
    "# Update layout\n",
    "fig.update_layout(\n",
    "    title='Parquet Compression Efficiency by Scenario and Method',\n",
    "    xaxis_title='Compression Ratio (Parquet Size / CSV Size)',\n",
    "    yaxis_title='Compression Method',\n",
    "    barmode='group',\n",
    "    height=800,\n",
    "    width=1000,\n",
    "    legend=dict(\n",
    "        x=1.05,\n",
    "        y=1,\n",
    "        xanchor='left',\n",
    "        yanchor='top',\n",
    "        traceorder='reversed'  # Ensure legend order matches visual order\n",
    "    ),\n",
    "    margin=dict(l=100, r=100, t=100, b=100)\n",
    ")\n",
    "\n",
    "# Show interactive plot\n",
    "fig.show()"
   ]
  }
 ],
 "metadata": {
  "kernelspec": {
   "display_name": ".venv",
   "language": "python",
   "name": "python3"
  },
  "language_info": {
   "codemirror_mode": {
    "name": "ipython",
    "version": 3
   },
   "file_extension": ".py",
   "mimetype": "text/x-python",
   "name": "python",
   "nbconvert_exporter": "python",
   "pygments_lexer": "ipython3",
   "version": "3.13.0"
  }
 },
 "nbformat": 4,
 "nbformat_minor": 2
}
