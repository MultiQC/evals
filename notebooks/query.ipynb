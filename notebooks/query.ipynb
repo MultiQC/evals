{
 "cells": [
  {
   "cell_type": "markdown",
   "metadata": {},
   "source": [
    "### Compare performance of querying"
   ]
  },
  {
   "cell_type": "code",
   "execution_count": 227,
   "metadata": {},
   "outputs": [],
   "source": [
    "import trino\n",
    "import polars as pl\n",
    "\n",
    "# Connection parameters based on your docker-compose configuration\n",
    "conn = trino.dbapi.connect(\n",
    "    host=\"localhost\",  # Since you're accessing from host machine\n",
    "    port=8081,         # Port mapped in docker-compose\n",
    "    user=\"admin\",      # User from environment variables\n",
    "    catalog=\"iceberg\", # Catalog from environment variables\n",
    ")\n",
    "\n",
    "# Create a cursor and execute a query\n",
    "cursor = conn.cursor()"
   ]
  },
  {
   "cell_type": "code",
   "execution_count": 175,
   "metadata": {},
   "outputs": [],
   "source": [
    "def run_query(name: str | None, query: str, as_df: bool = False, verbose: bool = False):\n",
    "    \"\"\"\n",
    "    Execute a SQL query against the Trino/DuckDB cursor that is already open.\n",
    "\n",
    "    Parameters\n",
    "    ----------\n",
    "    name   (str)  – logical run-set; when given we substitute\n",
    "                    iceberg.\"<name>\".\"<name>\" for {table} in the query.\n",
    "    query  (str)  – SQL with an optional {table} placeholder.\n",
    "    as_df (bool)  – if True, return a pandas.DataFrame instead of printing rows.\n",
    "\n",
    "    Returns\n",
    "    -------\n",
    "    • pandas.DataFrame when as_df is True\n",
    "    • list[tuple]      when as_df is False (same as before)\n",
    "    \"\"\"\n",
    "    # Resolve the {table} placeholder first\n",
    "    if name:\n",
    "        table = f'iceberg.\"{name}\".\"{name}\"'\n",
    "        query = query.format(table=table)\n",
    "\n",
    "    if verbose:\n",
    "        print(query)                   # always show the final SQL sent\n",
    "    cursor.execute(query)\n",
    "\n",
    "    # Fetch all rows once, then decide what to do with them\n",
    "    rows = cursor.fetchall()\n",
    "    row_count = len(rows)\n",
    "\n",
    "    if verbose:\n",
    "        print(f\"{row_count} rows\")\n",
    "        print(\"\\n\".join(\" | \".join(str(cell) for cell in row) for row in rows))\n",
    "\n",
    "    if as_df:\n",
    "        # Build column labels from cursor.description\n",
    "        columns = [d[0] for d in cursor.description]\n",
    "        df = pl.DataFrame(rows, schema=columns, orient=\"row\")\n",
    "        return df\n",
    "\n",
    "    print(f\"{row_count} rows\")\n",
    "    print(\"\\n\".join(\" | \".join(str(cell) for cell in row) for row in rows))\n",
    "    return rows"
   ]
  },
  {
   "cell_type": "code",
   "execution_count": null,
   "metadata": {},
   "outputs": [
    {
     "name": "stdout",
     "output_type": "stream",
     "text": [
      "21 rows\n",
      "information_schema\n",
      "reallife-bsstuff\n",
      "reallife-long_bsstuff\n",
      "reallife-small-test\n",
      "reallife-small-test-wide\n",
      "reallife-wide_bsstuff\n",
      "simulated-long_10000runs_10mod_5sec_100samples_50metrics\n",
      "simulated-long_10000runs_10mod_5sec_100samples_50metrics_subset10\n",
      "simulated-long_10000runs_10mod_5sec_100samples_50metrics_subset100\n",
      "simulated-long_10000runs_10mod_5sec_100samples_50metrics_subset1000\n",
      "simulated-long_100runs_10mod_5sec_100samples_50metrics\n",
      "simulated-long_10runs_10mod_5sec_100samples_50metrics\n",
      "simulated-wide_10000runs_10mod_5sec_100samples_50metrics\n",
      "simulated-wide_10000runs_10mod_5sec_100samples_50metrics_subset100\n",
      "simulated-wide_10000runs_10mod_5sec_100samples_50metrics_subset1000\n",
      "simulated-wide_10000runs_10mod_5sec_100samples_50metrics_subset2000\n",
      "simulated-wide_1000runs_10mod_5sec_100samples_50metrics\n",
      "simulated-wide_1000runs_10mod_5sec_100samples_50metrics_subset1000\n",
      "simulated-wide_100runs_10mod_5sec_100samples_50metrics\n",
      "simulated-wide_10runs_10mod_5sec_100samples_50metrics\n",
      "system\n"
     ]
    }
   ],
   "source": [
    "# Print catalogs\n",
    "run_query(None, \"SHOW SCHEMAS FROM iceberg\")\n",
    "pass"
   ]
  },
  {
   "cell_type": "code",
   "execution_count": 230,
   "metadata": {},
   "outputs": [
    {
     "name": "stdout",
     "output_type": "stream",
     "text": [
      "\n",
      "Schema: reallife-bsstuff\n",
      "  Table: multiqc\n",
      "    Columns: anchor: varchar | type: varchar | creation_date: timestamp(6) | plot_type: varchar | plot_input_data: varchar | sample: varchar | bismark-methylation-dp / percent_cpg_meth: double | bismark-methylation-dp / percent_chg_meth: double | bismark-methylation-dp / percent_chh_meth: double | general_stats_table / qualimap: bamqc / avg_gc: double | general_stats_table / qualimap: bamqc / 1_x_pc: double | general_stats_table / qualimap: bamqc / 5_x_pc: double | general_stats_table / qualimap: bamqc / 10_x_pc: double | general_stats_table / qualimap: bamqc / 30_x_pc: double | general_stats_table / qualimap: bamqc / 50_x_pc: double | general_stats_table / qualimap: bamqc / median_coverage: double | general_stats_table / qualimap: bamqc / mean_coverage: double | general_stats_table / qualimap: bamqc / general_error_rate: double | general_stats_table / qualimap: bamqc / percentage_aligned: double | general_stats_table / qualimap: bamqc / mapped_reads: double | general_stats_table / qualimap: bamqc / total_reads: double | general_stats_table / qualimap: bamqc / ns: double | general_stats_table / qualimap: bamqc / duplication_rate: double | general_stats_table / fastqc / percent_duplicates: double | general_stats_table / fastqc / percent_gc: double | general_stats_table / fastqc / avg_sequence_length: double | general_stats_table / fastqc / median_sequence_length: double | general_stats_table / fastqc / percent_fails: double | general_stats_table / fastqc / total_sequences: double | general_stats_table / bismark / percent_cpg_meth: double | general_stats_table / bismark / percent_chg_meth: double | general_stats_table / bismark / percent_chh_meth: double | general_stats_table / bismark / total_c: double | general_stats_table / bismark / dup_reads_percent: double | general_stats_table / bismark / dedup_reads: double | general_stats_table / bismark / aligned_reads: double | general_stats_table / bismark / percent_aligned: double | general_stats_table / cutadapt / percent_trimmed: double | config: varchar | data_sources: varchar | multiqc_version: varchar | modules: varchar\n",
      "  Table: reallife-bsstuff\n",
      "    Columns: anchor: varchar | type: varchar | creation_date: timestamp(6) | plot_type: varchar | plot_input_data: varchar | sample: varchar | bismark-methylation-dp / percent_cpg_meth: double | bismark-methylation-dp / percent_chg_meth: double | bismark-methylation-dp / percent_chh_meth: double | general_stats_table / qualimap: bamqc / avg_gc: double | general_stats_table / qualimap: bamqc / 1_x_pc: double | general_stats_table / qualimap: bamqc / 5_x_pc: double | general_stats_table / qualimap: bamqc / 10_x_pc: double | general_stats_table / qualimap: bamqc / 30_x_pc: double | general_stats_table / qualimap: bamqc / 50_x_pc: double | general_stats_table / qualimap: bamqc / median_coverage: double | general_stats_table / qualimap: bamqc / mean_coverage: double | general_stats_table / qualimap: bamqc / general_error_rate: double | general_stats_table / qualimap: bamqc / percentage_aligned: double | general_stats_table / qualimap: bamqc / mapped_reads: double | general_stats_table / qualimap: bamqc / total_reads: double | general_stats_table / qualimap: bamqc / ns: double | general_stats_table / qualimap: bamqc / duplication_rate: double | general_stats_table / fastqc / percent_duplicates: double | general_stats_table / fastqc / percent_gc: double | general_stats_table / fastqc / avg_sequence_length: double | general_stats_table / fastqc / median_sequence_length: double | general_stats_table / fastqc / percent_fails: double | general_stats_table / fastqc / total_sequences: double | general_stats_table / bismark / percent_cpg_meth: double | general_stats_table / bismark / percent_chg_meth: double | general_stats_table / bismark / percent_chh_meth: double | general_stats_table / bismark / total_c: double | general_stats_table / bismark / dup_reads_percent: double | general_stats_table / bismark / dedup_reads: double | general_stats_table / bismark / aligned_reads: double | general_stats_table / bismark / percent_aligned: double | general_stats_table / cutadapt / percent_trimmed: double | config: varchar | data_sources: varchar | multiqc_version: varchar | modules: varchar\n",
      "\n",
      "Schema: reallife-long_bsstuff\n",
      "  Table: reallife-long_bsstuff\n",
      "    Columns: anchor: varchar | type: varchar | creation_date: timestamp(6) | plot_type: varchar | sample: varchar | dt_anchor: varchar | section_key: varchar | section_order: bigint | metric: varchar | val_raw: double | val_raw_type: varchar | val_mod: double | val_mod_type: varchar | val_fmt: varchar | column_meta: varchar | show_table_by_default: boolean | pconfig: varchar\n",
      "\n",
      "Schema: reallife-small-test-wide\n",
      "  Table: reallife-small-test-wide\n",
      "    Columns: anchor: varchar | type: varchar | creation_date: timestamp(6) | plot_type: varchar | plot_input_data: varchar | sample: varchar | samtools-coverage-table / numreads: double | samtools-coverage-table / covbases: double | samtools-coverage-table / coverage: double | samtools-coverage-table / meandepth: double | samtools-coverage-table / meanbaseq: double | samtools-coverage-table / meanmapq: double | general_stats_table / samtools: coverage / numreads: double | general_stats_table / samtools: coverage / covbases: double | general_stats_table / samtools: coverage / coverage: double | general_stats_table / samtools: coverage / meandepth: double | general_stats_table / samtools: coverage / meanbaseq: double | general_stats_table / samtools: coverage / meanmapq: double | config: varchar | data_sources: varchar | multiqc_version: varchar | modules: varchar\n",
      "\n",
      "Schema: reallife-wide_bsstuff\n",
      "  Table: reallife-wide_bsstuff\n",
      "    Columns: anchor: varchar | type: varchar | creation_date: timestamp(6) | plot_type: varchar | plot_input_data: varchar | sample: varchar | bismark-methylation-dp / percent_cpg_meth: double | bismark-methylation-dp / percent_chg_meth: double | bismark-methylation-dp / percent_chh_meth: double | general_stats_table / qualimap: bamqc / avg_gc: double | general_stats_table / qualimap: bamqc / 1_x_pc: double | general_stats_table / qualimap: bamqc / 5_x_pc: double | general_stats_table / qualimap: bamqc / 10_x_pc: double | general_stats_table / qualimap: bamqc / 30_x_pc: double | general_stats_table / qualimap: bamqc / 50_x_pc: double | general_stats_table / qualimap: bamqc / median_coverage: double | general_stats_table / qualimap: bamqc / mean_coverage: double | general_stats_table / qualimap: bamqc / general_error_rate: double | general_stats_table / qualimap: bamqc / percentage_aligned: double | general_stats_table / qualimap: bamqc / mapped_reads: double | general_stats_table / qualimap: bamqc / total_reads: double | general_stats_table / qualimap: bamqc / ns: double | general_stats_table / qualimap: bamqc / duplication_rate: double | general_stats_table / bismark / percent_cpg_meth: double | general_stats_table / bismark / percent_chg_meth: double | general_stats_table / bismark / percent_chh_meth: double | general_stats_table / bismark / total_c: double | general_stats_table / bismark / dup_reads_percent: double | general_stats_table / bismark / dedup_reads: double | general_stats_table / bismark / aligned_reads: double | general_stats_table / bismark / percent_aligned: double | general_stats_table / cutadapt / percent_trimmed: double | general_stats_table / fastqc / percent_duplicates: double | general_stats_table / fastqc / percent_gc: double | general_stats_table / fastqc / avg_sequence_length: double | general_stats_table / fastqc / median_sequence_length: double | general_stats_table / fastqc / percent_fails: double | general_stats_table / fastqc / total_sequences: double | config: varchar | data_sources: varchar | multiqc_version: varchar | modules: varchar\n",
      "\n",
      "Schema: simulated-long_10000runs_10mod_5sec_100samples_50metrics\n",
      "  Table: simulated-long_10000runs_10mod_5sec_100samples_50metrics\n",
      "    Columns: run_id: varchar | creation_date: timestamp(6) | module_name: varchar | sample_name: varchar | metric_name: varchar | metric_min: double | metric_max: double | metric_dmin: double | metric_dmax: double | metric_scale: varchar | metric_color: varchar | val_raw: double | val_raw_type: varchar\n",
      "\n",
      "Schema: simulated-long_10000runs_10mod_5sec_100samples_50metrics_subset10\n",
      "  Table: simulated-long_10000runs_10mod_5sec_100samples_50metrics_subset10\n",
      "    Columns: run_id: varchar | creation_date: timestamp(6) | module_name: varchar | sample_name: varchar | metric_name: varchar | metric_min: double | metric_max: double | metric_dmin: double | metric_dmax: double | metric_scale: varchar | metric_color: varchar | val_raw: double | val_raw_type: varchar\n",
      "\n",
      "Schema: simulated-long_10000runs_10mod_5sec_100samples_50metrics_subset100\n",
      "  Table: simulated-long_10000runs_10mod_5sec_100samples_50metrics_subset100\n",
      "    Columns: run_id: varchar | creation_date: timestamp(6) | module_name: varchar | sample_name: varchar | metric_name: varchar | metric_min: double | metric_max: double | metric_dmin: double | metric_dmax: double | metric_scale: varchar | metric_color: varchar | val_raw: double | val_raw_type: varchar\n",
      "\n",
      "Schema: simulated-long_10000runs_10mod_5sec_100samples_50metrics_subset1000\n",
      "  Table: simulated-long_10000runs_10mod_5sec_100samples_50metrics_subset1000\n",
      "    Columns: run_id: varchar | creation_date: timestamp(6) | module_name: varchar | sample_name: varchar | metric_name: varchar | metric_min: double | metric_max: double | metric_dmin: double | metric_dmax: double | metric_scale: varchar | metric_color: varchar | val_raw: double | val_raw_type: varchar\n",
      "\n",
      "Schema: simulated-long_100runs_10mod_5sec_100samples_50metrics\n",
      "  Table: simulated-long_100runs_10mod_5sec_100samples_50metrics\n",
      "    Columns: run_id: varchar | creation_date: varchar | module_name: varchar | sample_name: varchar | metric_name: varchar | metric_min: double | metric_max: double | metric_dmin: double | metric_dmax: double | metric_scale: varchar | metric_color: varchar | val_raw: double | val_raw_type: varchar\n",
      "\n",
      "Schema: simulated-long_10runs_10mod_5sec_100samples_50metrics\n",
      "  Table: simulated-long_10runs_10mod_5sec_100samples_50metrics\n",
      "    Columns: run_id: varchar | creation_date: timestamp(6) | module_name: varchar | sample_name: varchar | metric_name: varchar | metric_min: double | metric_max: double | metric_dmin: double | metric_dmax: double | metric_scale: varchar | metric_color: varchar | val_raw: double | val_raw_type: varchar\n",
      "\n",
      "Schema: simulated-wide_10000runs_10mod_5sec_100samples_50metrics\n",
      "  Table: simulated-wide_10000runs_10mod_5sec_100samples_50metrics\n",
      "    Columns: run_id: bigint | creation_date: timestamp(6) | type: varchar | sample_name: varchar | metric_0: double | metric_1: double | metric_2: double | metric_3: double | metric_4: double | metric_5: double | metric_6: double | metric_7: double | metric_8: double | metric_9: double | metric_10: double | metric_11: double | metric_12: double | metric_13: double | metric_14: double | metric_15: double | metric_16: double | metric_17: double | metric_18: double | metric_19: double | metric_20: double | metric_21: double | metric_22: double | metric_23: double | metric_24: double | metric_25: double | metric_26: double | metric_27: double | metric_28: double | metric_29: double | metric_30: double | metric_31: double | metric_32: double | metric_33: double | metric_34: double | metric_35: double | metric_36: double | metric_37: double | metric_38: double | metric_39: double | metric_40: double | metric_41: double | metric_42: double | metric_43: double | metric_44: double | metric_45: double | metric_46: double | metric_47: double | metric_48: double | metric_49: double | metric_50: double | metric_51: double | metric_52: double | metric_53: double | metric_54: double | metric_55: double | metric_56: double | metric_57: double | metric_58: double | metric_59: double | metric_60: double | metric_61: double | metric_62: double | metric_63: double | metric_64: double | metric_65: double | metric_66: double | metric_67: double | metric_68: double | metric_69: double | metric_70: double | metric_71: double | metric_72: double | metric_73: double | metric_74: double | metric_75: double | metric_76: double | metric_77: double | metric_78: double | metric_79: double | metric_80: double | metric_81: double | metric_82: double | metric_83: double | metric_84: double | metric_85: double | metric_86: double | metric_87: double | metric_88: double | metric_89: double | metric_90: double | metric_91: double | metric_92: double | metric_93: double | metric_94: double | metric_95: double | metric_96: double | metric_97: double | metric_98: double | metric_99: double | metric_100: double | metric_101: double | metric_102: double | metric_103: double | metric_104: double | metric_105: double | metric_106: double | metric_107: double | metric_108: double | metric_109: double | metric_110: double | metric_111: double | metric_112: double | metric_113: double | metric_114: double | metric_115: double | metric_116: double | metric_117: double | metric_118: double | metric_119: double | metric_120: double | metric_121: double | metric_122: double | metric_123: double | metric_124: double | metric_125: double | metric_126: double | metric_127: double | metric_128: double | metric_129: double | metric_130: double | metric_131: double | metric_132: double | metric_133: double | metric_134: double | metric_135: double | metric_136: double | metric_137: double | metric_138: double | metric_139: double | metric_140: double | metric_141: double | metric_142: double | metric_143: double | metric_144: double | metric_145: double | metric_146: double | metric_147: double | metric_148: double | metric_149: double | metric_150: double | metric_151: double | metric_152: double | metric_153: double | metric_154: double | metric_155: double | metric_156: double | metric_157: double | metric_158: double | metric_159: double | metric_160: double | metric_161: double | metric_162: double | metric_163: double | metric_164: double | metric_165: double | metric_166: double | metric_167: double | metric_168: double | metric_169: double | metric_170: double | metric_171: double | metric_172: double | metric_173: double | metric_174: double | metric_175: double | metric_176: double | metric_177: double | metric_178: double | metric_179: double | metric_180: double | metric_181: double | metric_182: double | metric_183: double | metric_184: double | metric_185: double | metric_186: double | metric_187: double | metric_188: double | metric_189: double | metric_190: double | metric_191: double | metric_192: double | metric_193: double | metric_194: double | metric_195: double | metric_196: double | metric_197: double | metric_198: double | metric_199: double | metric_200: double | metric_201: double | metric_202: double | metric_203: double | metric_204: double | metric_205: double | metric_206: double | metric_207: double | metric_208: double | metric_209: double | metric_210: double | metric_211: double | metric_212: double | metric_213: double | metric_214: double | metric_215: double | metric_216: double | metric_217: double | metric_218: double | metric_219: double | metric_220: double | metric_221: double | metric_222: double | metric_223: double | metric_224: double | metric_225: double | metric_226: double | metric_227: double | metric_228: double | metric_229: double | metric_230: double | metric_231: double | metric_232: double | metric_233: double | metric_234: double | metric_235: double | metric_236: double | metric_237: double | metric_238: double | metric_239: double | metric_240: double | metric_241: double | metric_242: double | metric_243: double | metric_244: double | metric_245: double | metric_246: double | metric_247: double | metric_248: double | metric_249: double | metric_250: double | metric_251: double | metric_252: double | metric_253: double | metric_254: double | metric_255: double | metric_256: double | metric_257: double | metric_258: double | metric_259: double | metric_260: double | metric_261: double | metric_262: double | metric_263: double | metric_264: double | metric_265: double | metric_266: double | metric_267: double | metric_268: double | metric_269: double | metric_270: double | metric_271: double | metric_272: double | metric_273: double | metric_274: double | metric_275: double | metric_276: double | metric_277: double | metric_278: double | metric_279: double | metric_280: double | metric_281: double | metric_282: double | metric_283: double | metric_284: double | metric_285: double | metric_286: double | metric_287: double | metric_288: double | metric_289: double | metric_290: double | metric_291: double | metric_292: double | metric_293: double | metric_294: double | metric_295: double | metric_296: double | metric_297: double | metric_298: double | metric_299: double | metric_300: double | metric_301: double | metric_302: double | metric_303: double | metric_304: double | metric_305: double | metric_306: double | metric_307: double | metric_308: double | metric_309: double | metric_310: double | metric_311: double | metric_312: double | metric_313: double | metric_314: double | metric_315: double | metric_316: double | metric_317: double | metric_318: double | metric_319: double | metric_320: double | metric_321: double | metric_322: double | metric_323: double | metric_324: double | metric_325: double | metric_326: double | metric_327: double | metric_328: double | metric_329: double | metric_330: double | metric_331: double | metric_332: double | metric_333: double | metric_334: double | metric_335: double | metric_336: double | metric_337: double | metric_338: double | metric_339: double | metric_340: double | metric_341: double | metric_342: double | metric_343: double | metric_344: double | metric_345: double | metric_346: double | metric_347: double | metric_348: double | metric_349: double | metric_350: double | metric_351: double | metric_352: double | metric_353: double | metric_354: double | metric_355: double | metric_356: double | metric_357: double | metric_358: double | metric_359: double | metric_360: double | metric_361: double | metric_362: double | metric_363: double | metric_364: double | metric_365: double | metric_366: double | metric_367: double | metric_368: double | metric_369: double | metric_370: double | metric_371: double | metric_372: double | metric_373: double | metric_374: double | metric_375: double | metric_376: double | metric_377: double | metric_378: double | metric_379: double | metric_380: double | metric_381: double | metric_382: double | metric_383: double | metric_384: double | metric_385: double | metric_386: double | metric_387: double | metric_388: double | metric_389: double | metric_390: double | metric_391: double | metric_392: double | metric_393: double | metric_394: double | metric_395: double | metric_396: double | metric_397: double | metric_398: double | metric_399: double | metric_400: double | metric_401: double | metric_402: double | metric_403: double | metric_404: double | metric_405: double | metric_406: double | metric_407: double | metric_408: double | metric_409: double | metric_410: double | metric_411: double | metric_412: double | metric_413: double | metric_414: double | metric_415: double | metric_416: double | metric_417: double | metric_418: double | metric_419: double | metric_420: double | metric_421: double | metric_422: double | metric_423: double | metric_424: double | metric_425: double | metric_426: double | metric_427: double | metric_428: double | metric_429: double | metric_430: double | metric_431: double | metric_432: double | metric_433: double | metric_434: double | metric_435: double | metric_436: double | metric_437: double | metric_438: double | metric_439: double | metric_440: double | metric_441: double | metric_442: double | metric_443: double | metric_444: double | metric_445: double | metric_446: double | metric_447: double | metric_448: double | metric_449: double | metric_450: double | metric_451: double | metric_452: double | metric_453: double | metric_454: double | metric_455: double | metric_456: double | metric_457: double | metric_458: double | metric_459: double | metric_460: double | metric_461: double | metric_462: double | metric_463: double | metric_464: double | metric_465: double | metric_466: double | metric_467: double | metric_468: double | metric_469: double | metric_470: double | metric_471: double | metric_472: double | metric_473: double | metric_474: double | metric_475: double | metric_476: double | metric_477: double | metric_478: double | metric_479: double | metric_480: double | metric_481: double | metric_482: double | metric_483: double | metric_484: double | metric_485: double | metric_486: double | metric_487: double | metric_488: double | metric_489: double | metric_490: double | metric_491: double | metric_492: double | metric_493: double | metric_494: double | metric_495: double | metric_496: double | metric_497: double | metric_498: double | metric_499: double\n",
      "\n",
      "Schema: simulated-wide_10000runs_10mod_5sec_100samples_50metrics_subset100\n",
      "  Table: simulated-wide_10000runs_10mod_5sec_100samples_50metrics_subset100\n",
      "    Columns: run_id: bigint | creation_date: timestamp(6) | type: varchar | sample_name: varchar | metric_0: double | metric_1: double | metric_2: double | metric_3: double | metric_4: double | metric_5: double | metric_6: double | metric_7: double | metric_8: double | metric_9: double | metric_10: double | metric_11: double | metric_12: double | metric_13: double | metric_14: double | metric_15: double | metric_16: double | metric_17: double | metric_18: double | metric_19: double | metric_20: double | metric_21: double | metric_22: double | metric_23: double | metric_24: double | metric_25: double | metric_26: double | metric_27: double | metric_28: double | metric_29: double | metric_30: double | metric_31: double | metric_32: double | metric_33: double | metric_34: double | metric_35: double | metric_36: double | metric_37: double | metric_38: double | metric_39: double | metric_40: double | metric_41: double | metric_42: double | metric_43: double | metric_44: double | metric_45: double | metric_46: double | metric_47: double | metric_48: double | metric_49: double | metric_50: double | metric_51: double | metric_52: double | metric_53: double | metric_54: double | metric_55: double | metric_56: double | metric_57: double | metric_58: double | metric_59: double | metric_60: double | metric_61: double | metric_62: double | metric_63: double | metric_64: double | metric_65: double | metric_66: double | metric_67: double | metric_68: double | metric_69: double | metric_70: double | metric_71: double | metric_72: double | metric_73: double | metric_74: double | metric_75: double | metric_76: double | metric_77: double | metric_78: double | metric_79: double | metric_80: double | metric_81: double | metric_82: double | metric_83: double | metric_84: double | metric_85: double | metric_86: double | metric_87: double | metric_88: double | metric_89: double | metric_90: double | metric_91: double | metric_92: double | metric_93: double | metric_94: double | metric_95: double | metric_96: double | metric_97: double | metric_98: double | metric_99: double | metric_100: double | metric_101: double | metric_102: double | metric_103: double | metric_104: double | metric_105: double | metric_106: double | metric_107: double | metric_108: double | metric_109: double | metric_110: double | metric_111: double | metric_112: double | metric_113: double | metric_114: double | metric_115: double | metric_116: double | metric_117: double | metric_118: double | metric_119: double | metric_120: double | metric_121: double | metric_122: double | metric_123: double | metric_124: double | metric_125: double | metric_126: double | metric_127: double | metric_128: double | metric_129: double | metric_130: double | metric_131: double | metric_132: double | metric_133: double | metric_134: double | metric_135: double | metric_136: double | metric_137: double | metric_138: double | metric_139: double | metric_140: double | metric_141: double | metric_142: double | metric_143: double | metric_144: double | metric_145: double | metric_146: double | metric_147: double | metric_148: double | metric_149: double | metric_150: double | metric_151: double | metric_152: double | metric_153: double | metric_154: double | metric_155: double | metric_156: double | metric_157: double | metric_158: double | metric_159: double | metric_160: double | metric_161: double | metric_162: double | metric_163: double | metric_164: double | metric_165: double | metric_166: double | metric_167: double | metric_168: double | metric_169: double | metric_170: double | metric_171: double | metric_172: double | metric_173: double | metric_174: double | metric_175: double | metric_176: double | metric_177: double | metric_178: double | metric_179: double | metric_180: double | metric_181: double | metric_182: double | metric_183: double | metric_184: double | metric_185: double | metric_186: double | metric_187: double | metric_188: double | metric_189: double | metric_190: double | metric_191: double | metric_192: double | metric_193: double | metric_194: double | metric_195: double | metric_196: double | metric_197: double | metric_198: double | metric_199: double | metric_200: double | metric_201: double | metric_202: double | metric_203: double | metric_204: double | metric_205: double | metric_206: double | metric_207: double | metric_208: double | metric_209: double | metric_210: double | metric_211: double | metric_212: double | metric_213: double | metric_214: double | metric_215: double | metric_216: double | metric_217: double | metric_218: double | metric_219: double | metric_220: double | metric_221: double | metric_222: double | metric_223: double | metric_224: double | metric_225: double | metric_226: double | metric_227: double | metric_228: double | metric_229: double | metric_230: double | metric_231: double | metric_232: double | metric_233: double | metric_234: double | metric_235: double | metric_236: double | metric_237: double | metric_238: double | metric_239: double | metric_240: double | metric_241: double | metric_242: double | metric_243: double | metric_244: double | metric_245: double | metric_246: double | metric_247: double | metric_248: double | metric_249: double | metric_250: double | metric_251: double | metric_252: double | metric_253: double | metric_254: double | metric_255: double | metric_256: double | metric_257: double | metric_258: double | metric_259: double | metric_260: double | metric_261: double | metric_262: double | metric_263: double | metric_264: double | metric_265: double | metric_266: double | metric_267: double | metric_268: double | metric_269: double | metric_270: double | metric_271: double | metric_272: double | metric_273: double | metric_274: double | metric_275: double | metric_276: double | metric_277: double | metric_278: double | metric_279: double | metric_280: double | metric_281: double | metric_282: double | metric_283: double | metric_284: double | metric_285: double | metric_286: double | metric_287: double | metric_288: double | metric_289: double | metric_290: double | metric_291: double | metric_292: double | metric_293: double | metric_294: double | metric_295: double | metric_296: double | metric_297: double | metric_298: double | metric_299: double | metric_300: double | metric_301: double | metric_302: double | metric_303: double | metric_304: double | metric_305: double | metric_306: double | metric_307: double | metric_308: double | metric_309: double | metric_310: double | metric_311: double | metric_312: double | metric_313: double | metric_314: double | metric_315: double | metric_316: double | metric_317: double | metric_318: double | metric_319: double | metric_320: double | metric_321: double | metric_322: double | metric_323: double | metric_324: double | metric_325: double | metric_326: double | metric_327: double | metric_328: double | metric_329: double | metric_330: double | metric_331: double | metric_332: double | metric_333: double | metric_334: double | metric_335: double | metric_336: double | metric_337: double | metric_338: double | metric_339: double | metric_340: double | metric_341: double | metric_342: double | metric_343: double | metric_344: double | metric_345: double | metric_346: double | metric_347: double | metric_348: double | metric_349: double | metric_350: double | metric_351: double | metric_352: double | metric_353: double | metric_354: double | metric_355: double | metric_356: double | metric_357: double | metric_358: double | metric_359: double | metric_360: double | metric_361: double | metric_362: double | metric_363: double | metric_364: double | metric_365: double | metric_366: double | metric_367: double | metric_368: double | metric_369: double | metric_370: double | metric_371: double | metric_372: double | metric_373: double | metric_374: double | metric_375: double | metric_376: double | metric_377: double | metric_378: double | metric_379: double | metric_380: double | metric_381: double | metric_382: double | metric_383: double | metric_384: double | metric_385: double | metric_386: double | metric_387: double | metric_388: double | metric_389: double | metric_390: double | metric_391: double | metric_392: double | metric_393: double | metric_394: double | metric_395: double | metric_396: double | metric_397: double | metric_398: double | metric_399: double | metric_400: double | metric_401: double | metric_402: double | metric_403: double | metric_404: double | metric_405: double | metric_406: double | metric_407: double | metric_408: double | metric_409: double | metric_410: double | metric_411: double | metric_412: double | metric_413: double | metric_414: double | metric_415: double | metric_416: double | metric_417: double | metric_418: double | metric_419: double | metric_420: double | metric_421: double | metric_422: double | metric_423: double | metric_424: double | metric_425: double | metric_426: double | metric_427: double | metric_428: double | metric_429: double | metric_430: double | metric_431: double | metric_432: double | metric_433: double | metric_434: double | metric_435: double | metric_436: double | metric_437: double | metric_438: double | metric_439: double | metric_440: double | metric_441: double | metric_442: double | metric_443: double | metric_444: double | metric_445: double | metric_446: double | metric_447: double | metric_448: double | metric_449: double | metric_450: double | metric_451: double | metric_452: double | metric_453: double | metric_454: double | metric_455: double | metric_456: double | metric_457: double | metric_458: double | metric_459: double | metric_460: double | metric_461: double | metric_462: double | metric_463: double | metric_464: double | metric_465: double | metric_466: double | metric_467: double | metric_468: double | metric_469: double | metric_470: double | metric_471: double | metric_472: double | metric_473: double | metric_474: double | metric_475: double | metric_476: double | metric_477: double | metric_478: double | metric_479: double | metric_480: double | metric_481: double | metric_482: double | metric_483: double | metric_484: double | metric_485: double | metric_486: double | metric_487: double | metric_488: double | metric_489: double | metric_490: double | metric_491: double | metric_492: double | metric_493: double | metric_494: double | metric_495: double | metric_496: double | metric_497: double | metric_498: double | metric_499: double\n",
      "\n",
      "Schema: simulated-wide_10000runs_10mod_5sec_100samples_50metrics_subset1000\n",
      "  Table: simulated-wide_10000runs_10mod_5sec_100samples_50metrics_subset1000\n",
      "    Columns: run_id: bigint | creation_date: timestamp(6) | type: varchar | sample_name: varchar | metric_0: double | metric_1: double | metric_2: double | metric_3: double | metric_4: double | metric_5: double | metric_6: double | metric_7: double | metric_8: double | metric_9: double | metric_10: double | metric_11: double | metric_12: double | metric_13: double | metric_14: double | metric_15: double | metric_16: double | metric_17: double | metric_18: double | metric_19: double | metric_20: double | metric_21: double | metric_22: double | metric_23: double | metric_24: double | metric_25: double | metric_26: double | metric_27: double | metric_28: double | metric_29: double | metric_30: double | metric_31: double | metric_32: double | metric_33: double | metric_34: double | metric_35: double | metric_36: double | metric_37: double | metric_38: double | metric_39: double | metric_40: double | metric_41: double | metric_42: double | metric_43: double | metric_44: double | metric_45: double | metric_46: double | metric_47: double | metric_48: double | metric_49: double | metric_50: double | metric_51: double | metric_52: double | metric_53: double | metric_54: double | metric_55: double | metric_56: double | metric_57: double | metric_58: double | metric_59: double | metric_60: double | metric_61: double | metric_62: double | metric_63: double | metric_64: double | metric_65: double | metric_66: double | metric_67: double | metric_68: double | metric_69: double | metric_70: double | metric_71: double | metric_72: double | metric_73: double | metric_74: double | metric_75: double | metric_76: double | metric_77: double | metric_78: double | metric_79: double | metric_80: double | metric_81: double | metric_82: double | metric_83: double | metric_84: double | metric_85: double | metric_86: double | metric_87: double | metric_88: double | metric_89: double | metric_90: double | metric_91: double | metric_92: double | metric_93: double | metric_94: double | metric_95: double | metric_96: double | metric_97: double | metric_98: double | metric_99: double | metric_100: double | metric_101: double | metric_102: double | metric_103: double | metric_104: double | metric_105: double | metric_106: double | metric_107: double | metric_108: double | metric_109: double | metric_110: double | metric_111: double | metric_112: double | metric_113: double | metric_114: double | metric_115: double | metric_116: double | metric_117: double | metric_118: double | metric_119: double | metric_120: double | metric_121: double | metric_122: double | metric_123: double | metric_124: double | metric_125: double | metric_126: double | metric_127: double | metric_128: double | metric_129: double | metric_130: double | metric_131: double | metric_132: double | metric_133: double | metric_134: double | metric_135: double | metric_136: double | metric_137: double | metric_138: double | metric_139: double | metric_140: double | metric_141: double | metric_142: double | metric_143: double | metric_144: double | metric_145: double | metric_146: double | metric_147: double | metric_148: double | metric_149: double | metric_150: double | metric_151: double | metric_152: double | metric_153: double | metric_154: double | metric_155: double | metric_156: double | metric_157: double | metric_158: double | metric_159: double | metric_160: double | metric_161: double | metric_162: double | metric_163: double | metric_164: double | metric_165: double | metric_166: double | metric_167: double | metric_168: double | metric_169: double | metric_170: double | metric_171: double | metric_172: double | metric_173: double | metric_174: double | metric_175: double | metric_176: double | metric_177: double | metric_178: double | metric_179: double | metric_180: double | metric_181: double | metric_182: double | metric_183: double | metric_184: double | metric_185: double | metric_186: double | metric_187: double | metric_188: double | metric_189: double | metric_190: double | metric_191: double | metric_192: double | metric_193: double | metric_194: double | metric_195: double | metric_196: double | metric_197: double | metric_198: double | metric_199: double | metric_200: double | metric_201: double | metric_202: double | metric_203: double | metric_204: double | metric_205: double | metric_206: double | metric_207: double | metric_208: double | metric_209: double | metric_210: double | metric_211: double | metric_212: double | metric_213: double | metric_214: double | metric_215: double | metric_216: double | metric_217: double | metric_218: double | metric_219: double | metric_220: double | metric_221: double | metric_222: double | metric_223: double | metric_224: double | metric_225: double | metric_226: double | metric_227: double | metric_228: double | metric_229: double | metric_230: double | metric_231: double | metric_232: double | metric_233: double | metric_234: double | metric_235: double | metric_236: double | metric_237: double | metric_238: double | metric_239: double | metric_240: double | metric_241: double | metric_242: double | metric_243: double | metric_244: double | metric_245: double | metric_246: double | metric_247: double | metric_248: double | metric_249: double | metric_250: double | metric_251: double | metric_252: double | metric_253: double | metric_254: double | metric_255: double | metric_256: double | metric_257: double | metric_258: double | metric_259: double | metric_260: double | metric_261: double | metric_262: double | metric_263: double | metric_264: double | metric_265: double | metric_266: double | metric_267: double | metric_268: double | metric_269: double | metric_270: double | metric_271: double | metric_272: double | metric_273: double | metric_274: double | metric_275: double | metric_276: double | metric_277: double | metric_278: double | metric_279: double | metric_280: double | metric_281: double | metric_282: double | metric_283: double | metric_284: double | metric_285: double | metric_286: double | metric_287: double | metric_288: double | metric_289: double | metric_290: double | metric_291: double | metric_292: double | metric_293: double | metric_294: double | metric_295: double | metric_296: double | metric_297: double | metric_298: double | metric_299: double | metric_300: double | metric_301: double | metric_302: double | metric_303: double | metric_304: double | metric_305: double | metric_306: double | metric_307: double | metric_308: double | metric_309: double | metric_310: double | metric_311: double | metric_312: double | metric_313: double | metric_314: double | metric_315: double | metric_316: double | metric_317: double | metric_318: double | metric_319: double | metric_320: double | metric_321: double | metric_322: double | metric_323: double | metric_324: double | metric_325: double | metric_326: double | metric_327: double | metric_328: double | metric_329: double | metric_330: double | metric_331: double | metric_332: double | metric_333: double | metric_334: double | metric_335: double | metric_336: double | metric_337: double | metric_338: double | metric_339: double | metric_340: double | metric_341: double | metric_342: double | metric_343: double | metric_344: double | metric_345: double | metric_346: double | metric_347: double | metric_348: double | metric_349: double | metric_350: double | metric_351: double | metric_352: double | metric_353: double | metric_354: double | metric_355: double | metric_356: double | metric_357: double | metric_358: double | metric_359: double | metric_360: double | metric_361: double | metric_362: double | metric_363: double | metric_364: double | metric_365: double | metric_366: double | metric_367: double | metric_368: double | metric_369: double | metric_370: double | metric_371: double | metric_372: double | metric_373: double | metric_374: double | metric_375: double | metric_376: double | metric_377: double | metric_378: double | metric_379: double | metric_380: double | metric_381: double | metric_382: double | metric_383: double | metric_384: double | metric_385: double | metric_386: double | metric_387: double | metric_388: double | metric_389: double | metric_390: double | metric_391: double | metric_392: double | metric_393: double | metric_394: double | metric_395: double | metric_396: double | metric_397: double | metric_398: double | metric_399: double | metric_400: double | metric_401: double | metric_402: double | metric_403: double | metric_404: double | metric_405: double | metric_406: double | metric_407: double | metric_408: double | metric_409: double | metric_410: double | metric_411: double | metric_412: double | metric_413: double | metric_414: double | metric_415: double | metric_416: double | metric_417: double | metric_418: double | metric_419: double | metric_420: double | metric_421: double | metric_422: double | metric_423: double | metric_424: double | metric_425: double | metric_426: double | metric_427: double | metric_428: double | metric_429: double | metric_430: double | metric_431: double | metric_432: double | metric_433: double | metric_434: double | metric_435: double | metric_436: double | metric_437: double | metric_438: double | metric_439: double | metric_440: double | metric_441: double | metric_442: double | metric_443: double | metric_444: double | metric_445: double | metric_446: double | metric_447: double | metric_448: double | metric_449: double | metric_450: double | metric_451: double | metric_452: double | metric_453: double | metric_454: double | metric_455: double | metric_456: double | metric_457: double | metric_458: double | metric_459: double | metric_460: double | metric_461: double | metric_462: double | metric_463: double | metric_464: double | metric_465: double | metric_466: double | metric_467: double | metric_468: double | metric_469: double | metric_470: double | metric_471: double | metric_472: double | metric_473: double | metric_474: double | metric_475: double | metric_476: double | metric_477: double | metric_478: double | metric_479: double | metric_480: double | metric_481: double | metric_482: double | metric_483: double | metric_484: double | metric_485: double | metric_486: double | metric_487: double | metric_488: double | metric_489: double | metric_490: double | metric_491: double | metric_492: double | metric_493: double | metric_494: double | metric_495: double | metric_496: double | metric_497: double | metric_498: double | metric_499: double\n",
      "\n",
      "Schema: simulated-wide_10000runs_10mod_5sec_100samples_50metrics_subset2000\n",
      "  Table: simulated-wide_10000runs_10mod_5sec_100samples_50metrics_subset2000\n",
      "    Columns: run_id: bigint | creation_date: timestamp(6) | type: varchar | sample_name: varchar | metric_0: double | metric_1: double | metric_2: double | metric_3: double | metric_4: double | metric_5: double | metric_6: double | metric_7: double | metric_8: double | metric_9: double | metric_10: double | metric_11: double | metric_12: double | metric_13: double | metric_14: double | metric_15: double | metric_16: double | metric_17: double | metric_18: double | metric_19: double | metric_20: double | metric_21: double | metric_22: double | metric_23: double | metric_24: double | metric_25: double | metric_26: double | metric_27: double | metric_28: double | metric_29: double | metric_30: double | metric_31: double | metric_32: double | metric_33: double | metric_34: double | metric_35: double | metric_36: double | metric_37: double | metric_38: double | metric_39: double | metric_40: double | metric_41: double | metric_42: double | metric_43: double | metric_44: double | metric_45: double | metric_46: double | metric_47: double | metric_48: double | metric_49: double | metric_50: double | metric_51: double | metric_52: double | metric_53: double | metric_54: double | metric_55: double | metric_56: double | metric_57: double | metric_58: double | metric_59: double | metric_60: double | metric_61: double | metric_62: double | metric_63: double | metric_64: double | metric_65: double | metric_66: double | metric_67: double | metric_68: double | metric_69: double | metric_70: double | metric_71: double | metric_72: double | metric_73: double | metric_74: double | metric_75: double | metric_76: double | metric_77: double | metric_78: double | metric_79: double | metric_80: double | metric_81: double | metric_82: double | metric_83: double | metric_84: double | metric_85: double | metric_86: double | metric_87: double | metric_88: double | metric_89: double | metric_90: double | metric_91: double | metric_92: double | metric_93: double | metric_94: double | metric_95: double | metric_96: double | metric_97: double | metric_98: double | metric_99: double | metric_100: double | metric_101: double | metric_102: double | metric_103: double | metric_104: double | metric_105: double | metric_106: double | metric_107: double | metric_108: double | metric_109: double | metric_110: double | metric_111: double | metric_112: double | metric_113: double | metric_114: double | metric_115: double | metric_116: double | metric_117: double | metric_118: double | metric_119: double | metric_120: double | metric_121: double | metric_122: double | metric_123: double | metric_124: double | metric_125: double | metric_126: double | metric_127: double | metric_128: double | metric_129: double | metric_130: double | metric_131: double | metric_132: double | metric_133: double | metric_134: double | metric_135: double | metric_136: double | metric_137: double | metric_138: double | metric_139: double | metric_140: double | metric_141: double | metric_142: double | metric_143: double | metric_144: double | metric_145: double | metric_146: double | metric_147: double | metric_148: double | metric_149: double | metric_150: double | metric_151: double | metric_152: double | metric_153: double | metric_154: double | metric_155: double | metric_156: double | metric_157: double | metric_158: double | metric_159: double | metric_160: double | metric_161: double | metric_162: double | metric_163: double | metric_164: double | metric_165: double | metric_166: double | metric_167: double | metric_168: double | metric_169: double | metric_170: double | metric_171: double | metric_172: double | metric_173: double | metric_174: double | metric_175: double | metric_176: double | metric_177: double | metric_178: double | metric_179: double | metric_180: double | metric_181: double | metric_182: double | metric_183: double | metric_184: double | metric_185: double | metric_186: double | metric_187: double | metric_188: double | metric_189: double | metric_190: double | metric_191: double | metric_192: double | metric_193: double | metric_194: double | metric_195: double | metric_196: double | metric_197: double | metric_198: double | metric_199: double | metric_200: double | metric_201: double | metric_202: double | metric_203: double | metric_204: double | metric_205: double | metric_206: double | metric_207: double | metric_208: double | metric_209: double | metric_210: double | metric_211: double | metric_212: double | metric_213: double | metric_214: double | metric_215: double | metric_216: double | metric_217: double | metric_218: double | metric_219: double | metric_220: double | metric_221: double | metric_222: double | metric_223: double | metric_224: double | metric_225: double | metric_226: double | metric_227: double | metric_228: double | metric_229: double | metric_230: double | metric_231: double | metric_232: double | metric_233: double | metric_234: double | metric_235: double | metric_236: double | metric_237: double | metric_238: double | metric_239: double | metric_240: double | metric_241: double | metric_242: double | metric_243: double | metric_244: double | metric_245: double | metric_246: double | metric_247: double | metric_248: double | metric_249: double | metric_250: double | metric_251: double | metric_252: double | metric_253: double | metric_254: double | metric_255: double | metric_256: double | metric_257: double | metric_258: double | metric_259: double | metric_260: double | metric_261: double | metric_262: double | metric_263: double | metric_264: double | metric_265: double | metric_266: double | metric_267: double | metric_268: double | metric_269: double | metric_270: double | metric_271: double | metric_272: double | metric_273: double | metric_274: double | metric_275: double | metric_276: double | metric_277: double | metric_278: double | metric_279: double | metric_280: double | metric_281: double | metric_282: double | metric_283: double | metric_284: double | metric_285: double | metric_286: double | metric_287: double | metric_288: double | metric_289: double | metric_290: double | metric_291: double | metric_292: double | metric_293: double | metric_294: double | metric_295: double | metric_296: double | metric_297: double | metric_298: double | metric_299: double | metric_300: double | metric_301: double | metric_302: double | metric_303: double | metric_304: double | metric_305: double | metric_306: double | metric_307: double | metric_308: double | metric_309: double | metric_310: double | metric_311: double | metric_312: double | metric_313: double | metric_314: double | metric_315: double | metric_316: double | metric_317: double | metric_318: double | metric_319: double | metric_320: double | metric_321: double | metric_322: double | metric_323: double | metric_324: double | metric_325: double | metric_326: double | metric_327: double | metric_328: double | metric_329: double | metric_330: double | metric_331: double | metric_332: double | metric_333: double | metric_334: double | metric_335: double | metric_336: double | metric_337: double | metric_338: double | metric_339: double | metric_340: double | metric_341: double | metric_342: double | metric_343: double | metric_344: double | metric_345: double | metric_346: double | metric_347: double | metric_348: double | metric_349: double | metric_350: double | metric_351: double | metric_352: double | metric_353: double | metric_354: double | metric_355: double | metric_356: double | metric_357: double | metric_358: double | metric_359: double | metric_360: double | metric_361: double | metric_362: double | metric_363: double | metric_364: double | metric_365: double | metric_366: double | metric_367: double | metric_368: double | metric_369: double | metric_370: double | metric_371: double | metric_372: double | metric_373: double | metric_374: double | metric_375: double | metric_376: double | metric_377: double | metric_378: double | metric_379: double | metric_380: double | metric_381: double | metric_382: double | metric_383: double | metric_384: double | metric_385: double | metric_386: double | metric_387: double | metric_388: double | metric_389: double | metric_390: double | metric_391: double | metric_392: double | metric_393: double | metric_394: double | metric_395: double | metric_396: double | metric_397: double | metric_398: double | metric_399: double | metric_400: double | metric_401: double | metric_402: double | metric_403: double | metric_404: double | metric_405: double | metric_406: double | metric_407: double | metric_408: double | metric_409: double | metric_410: double | metric_411: double | metric_412: double | metric_413: double | metric_414: double | metric_415: double | metric_416: double | metric_417: double | metric_418: double | metric_419: double | metric_420: double | metric_421: double | metric_422: double | metric_423: double | metric_424: double | metric_425: double | metric_426: double | metric_427: double | metric_428: double | metric_429: double | metric_430: double | metric_431: double | metric_432: double | metric_433: double | metric_434: double | metric_435: double | metric_436: double | metric_437: double | metric_438: double | metric_439: double | metric_440: double | metric_441: double | metric_442: double | metric_443: double | metric_444: double | metric_445: double | metric_446: double | metric_447: double | metric_448: double | metric_449: double | metric_450: double | metric_451: double | metric_452: double | metric_453: double | metric_454: double | metric_455: double | metric_456: double | metric_457: double | metric_458: double | metric_459: double | metric_460: double | metric_461: double | metric_462: double | metric_463: double | metric_464: double | metric_465: double | metric_466: double | metric_467: double | metric_468: double | metric_469: double | metric_470: double | metric_471: double | metric_472: double | metric_473: double | metric_474: double | metric_475: double | metric_476: double | metric_477: double | metric_478: double | metric_479: double | metric_480: double | metric_481: double | metric_482: double | metric_483: double | metric_484: double | metric_485: double | metric_486: double | metric_487: double | metric_488: double | metric_489: double | metric_490: double | metric_491: double | metric_492: double | metric_493: double | metric_494: double | metric_495: double | metric_496: double | metric_497: double | metric_498: double | metric_499: double\n",
      "\n",
      "Schema: simulated-wide_1000runs_10mod_5sec_100samples_50metrics\n",
      "\n",
      "Schema: simulated-wide_1000runs_10mod_5sec_100samples_50metrics_subset1000\n",
      "  Table: simulated-wide_1000runs_10mod_5sec_100samples_50metrics_subset1000\n",
      "    Columns: run_id: bigint | creation_date: timestamp(6) | type: varchar | sample_name: varchar | metric_0: double | metric_1: double | metric_2: double | metric_3: double | metric_4: double | metric_5: double | metric_6: double | metric_7: double | metric_8: double | metric_9: double | metric_10: double | metric_11: double | metric_12: double | metric_13: double | metric_14: double | metric_15: double | metric_16: double | metric_17: double | metric_18: double | metric_19: double | metric_20: double | metric_21: double | metric_22: double | metric_23: double | metric_24: double | metric_25: double | metric_26: double | metric_27: double | metric_28: double | metric_29: double | metric_30: double | metric_31: double | metric_32: double | metric_33: double | metric_34: double | metric_35: double | metric_36: double | metric_37: double | metric_38: double | metric_39: double | metric_40: double | metric_41: double | metric_42: double | metric_43: double | metric_44: double | metric_45: double | metric_46: double | metric_47: double | metric_48: double | metric_49: double | metric_50: double | metric_51: double | metric_52: double | metric_53: double | metric_54: double | metric_55: double | metric_56: double | metric_57: double | metric_58: double | metric_59: double | metric_60: double | metric_61: double | metric_62: double | metric_63: double | metric_64: double | metric_65: double | metric_66: double | metric_67: double | metric_68: double | metric_69: double | metric_70: double | metric_71: double | metric_72: double | metric_73: double | metric_74: double | metric_75: double | metric_76: double | metric_77: double | metric_78: double | metric_79: double | metric_80: double | metric_81: double | metric_82: double | metric_83: double | metric_84: double | metric_85: double | metric_86: double | metric_87: double | metric_88: double | metric_89: double | metric_90: double | metric_91: double | metric_92: double | metric_93: double | metric_94: double | metric_95: double | metric_96: double | metric_97: double | metric_98: double | metric_99: double | metric_100: double | metric_101: double | metric_102: double | metric_103: double | metric_104: double | metric_105: double | metric_106: double | metric_107: double | metric_108: double | metric_109: double | metric_110: double | metric_111: double | metric_112: double | metric_113: double | metric_114: double | metric_115: double | metric_116: double | metric_117: double | metric_118: double | metric_119: double | metric_120: double | metric_121: double | metric_122: double | metric_123: double | metric_124: double | metric_125: double | metric_126: double | metric_127: double | metric_128: double | metric_129: double | metric_130: double | metric_131: double | metric_132: double | metric_133: double | metric_134: double | metric_135: double | metric_136: double | metric_137: double | metric_138: double | metric_139: double | metric_140: double | metric_141: double | metric_142: double | metric_143: double | metric_144: double | metric_145: double | metric_146: double | metric_147: double | metric_148: double | metric_149: double | metric_150: double | metric_151: double | metric_152: double | metric_153: double | metric_154: double | metric_155: double | metric_156: double | metric_157: double | metric_158: double | metric_159: double | metric_160: double | metric_161: double | metric_162: double | metric_163: double | metric_164: double | metric_165: double | metric_166: double | metric_167: double | metric_168: double | metric_169: double | metric_170: double | metric_171: double | metric_172: double | metric_173: double | metric_174: double | metric_175: double | metric_176: double | metric_177: double | metric_178: double | metric_179: double | metric_180: double | metric_181: double | metric_182: double | metric_183: double | metric_184: double | metric_185: double | metric_186: double | metric_187: double | metric_188: double | metric_189: double | metric_190: double | metric_191: double | metric_192: double | metric_193: double | metric_194: double | metric_195: double | metric_196: double | metric_197: double | metric_198: double | metric_199: double | metric_200: double | metric_201: double | metric_202: double | metric_203: double | metric_204: double | metric_205: double | metric_206: double | metric_207: double | metric_208: double | metric_209: double | metric_210: double | metric_211: double | metric_212: double | metric_213: double | metric_214: double | metric_215: double | metric_216: double | metric_217: double | metric_218: double | metric_219: double | metric_220: double | metric_221: double | metric_222: double | metric_223: double | metric_224: double | metric_225: double | metric_226: double | metric_227: double | metric_228: double | metric_229: double | metric_230: double | metric_231: double | metric_232: double | metric_233: double | metric_234: double | metric_235: double | metric_236: double | metric_237: double | metric_238: double | metric_239: double | metric_240: double | metric_241: double | metric_242: double | metric_243: double | metric_244: double | metric_245: double | metric_246: double | metric_247: double | metric_248: double | metric_249: double | metric_250: double | metric_251: double | metric_252: double | metric_253: double | metric_254: double | metric_255: double | metric_256: double | metric_257: double | metric_258: double | metric_259: double | metric_260: double | metric_261: double | metric_262: double | metric_263: double | metric_264: double | metric_265: double | metric_266: double | metric_267: double | metric_268: double | metric_269: double | metric_270: double | metric_271: double | metric_272: double | metric_273: double | metric_274: double | metric_275: double | metric_276: double | metric_277: double | metric_278: double | metric_279: double | metric_280: double | metric_281: double | metric_282: double | metric_283: double | metric_284: double | metric_285: double | metric_286: double | metric_287: double | metric_288: double | metric_289: double | metric_290: double | metric_291: double | metric_292: double | metric_293: double | metric_294: double | metric_295: double | metric_296: double | metric_297: double | metric_298: double | metric_299: double | metric_300: double | metric_301: double | metric_302: double | metric_303: double | metric_304: double | metric_305: double | metric_306: double | metric_307: double | metric_308: double | metric_309: double | metric_310: double | metric_311: double | metric_312: double | metric_313: double | metric_314: double | metric_315: double | metric_316: double | metric_317: double | metric_318: double | metric_319: double | metric_320: double | metric_321: double | metric_322: double | metric_323: double | metric_324: double | metric_325: double | metric_326: double | metric_327: double | metric_328: double | metric_329: double | metric_330: double | metric_331: double | metric_332: double | metric_333: double | metric_334: double | metric_335: double | metric_336: double | metric_337: double | metric_338: double | metric_339: double | metric_340: double | metric_341: double | metric_342: double | metric_343: double | metric_344: double | metric_345: double | metric_346: double | metric_347: double | metric_348: double | metric_349: double | metric_350: double | metric_351: double | metric_352: double | metric_353: double | metric_354: double | metric_355: double | metric_356: double | metric_357: double | metric_358: double | metric_359: double | metric_360: double | metric_361: double | metric_362: double | metric_363: double | metric_364: double | metric_365: double | metric_366: double | metric_367: double | metric_368: double | metric_369: double | metric_370: double | metric_371: double | metric_372: double | metric_373: double | metric_374: double | metric_375: double | metric_376: double | metric_377: double | metric_378: double | metric_379: double | metric_380: double | metric_381: double | metric_382: double | metric_383: double | metric_384: double | metric_385: double | metric_386: double | metric_387: double | metric_388: double | metric_389: double | metric_390: double | metric_391: double | metric_392: double | metric_393: double | metric_394: double | metric_395: double | metric_396: double | metric_397: double | metric_398: double | metric_399: double | metric_400: double | metric_401: double | metric_402: double | metric_403: double | metric_404: double | metric_405: double | metric_406: double | metric_407: double | metric_408: double | metric_409: double | metric_410: double | metric_411: double | metric_412: double | metric_413: double | metric_414: double | metric_415: double | metric_416: double | metric_417: double | metric_418: double | metric_419: double | metric_420: double | metric_421: double | metric_422: double | metric_423: double | metric_424: double | metric_425: double | metric_426: double | metric_427: double | metric_428: double | metric_429: double | metric_430: double | metric_431: double | metric_432: double | metric_433: double | metric_434: double | metric_435: double | metric_436: double | metric_437: double | metric_438: double | metric_439: double | metric_440: double | metric_441: double | metric_442: double | metric_443: double | metric_444: double | metric_445: double | metric_446: double | metric_447: double | metric_448: double | metric_449: double | metric_450: double | metric_451: double | metric_452: double | metric_453: double | metric_454: double | metric_455: double | metric_456: double | metric_457: double | metric_458: double | metric_459: double | metric_460: double | metric_461: double | metric_462: double | metric_463: double | metric_464: double | metric_465: double | metric_466: double | metric_467: double | metric_468: double | metric_469: double | metric_470: double | metric_471: double | metric_472: double | metric_473: double | metric_474: double | metric_475: double | metric_476: double | metric_477: double | metric_478: double | metric_479: double | metric_480: double | metric_481: double | metric_482: double | metric_483: double | metric_484: double | metric_485: double | metric_486: double | metric_487: double | metric_488: double | metric_489: double | metric_490: double | metric_491: double | metric_492: double | metric_493: double | metric_494: double | metric_495: double | metric_496: double | metric_497: double | metric_498: double | metric_499: double\n",
      "\n",
      "Schema: simulated-wide_10runs_10mod_5sec_100samples_50metrics\n",
      "  Table: simulated-wide_10runs_10mod_5sec_100samples_50metrics\n",
      "    Columns: type: varchar | creation_date: timestamp(6) | run_id: bigint | data_sources: varchar | multiqc_version: double | modules: double | anchor: varchar | plot_type: varchar | plot_input_data: varchar | sample_name: varchar | metric_0: double | metric_1: double | metric_2: double | metric_3: double | metric_4: double | metric_5: double | metric_6: double | metric_7: double | metric_8: double | metric_9: double | metric_10: double | metric_11: double | metric_12: double | metric_13: double | metric_14: double | metric_15: double | metric_16: double | metric_17: double | metric_18: double | metric_19: double | metric_20: double | metric_21: double | metric_22: double | metric_23: double | metric_24: double | metric_25: double | metric_26: double | metric_27: double | metric_28: double | metric_29: double | metric_30: double | metric_31: double | metric_32: double | metric_33: double | metric_34: double | metric_35: double | metric_36: double | metric_37: double | metric_38: double | metric_39: double | metric_40: double | metric_41: double | metric_42: double | metric_43: double | metric_44: double | metric_45: double | metric_46: double | metric_47: double | metric_48: double | metric_49: double | metric_50: double | metric_51: double | metric_52: double | metric_53: double | metric_54: double | metric_55: double | metric_56: double | metric_57: double | metric_58: double | metric_59: double | metric_60: double | metric_61: double | metric_62: double | metric_63: double | metric_64: double | metric_65: double | metric_66: double | metric_67: double | metric_68: double | metric_69: double | metric_70: double | metric_71: double | metric_72: double | metric_73: double | metric_74: double | metric_75: double | metric_76: double | metric_77: double | metric_78: double | metric_79: double | metric_80: double | metric_81: double | metric_82: double | metric_83: double | metric_84: double | metric_85: double | metric_86: double | metric_87: double | metric_88: double | metric_89: double | metric_90: double | metric_91: double | metric_92: double | metric_93: double | metric_94: double | metric_95: double | metric_96: double | metric_97: double | metric_98: double | metric_99: double | metric_100: double | metric_101: double | metric_102: double | metric_103: double | metric_104: double | metric_105: double | metric_106: double | metric_107: double | metric_108: double | metric_109: double | metric_110: double | metric_111: double | metric_112: double | metric_113: double | metric_114: double | metric_115: double | metric_116: double | metric_117: double | metric_118: double | metric_119: double | metric_120: double | metric_121: double | metric_122: double | metric_123: double | metric_124: double | metric_125: double | metric_126: double | metric_127: double | metric_128: double | metric_129: double | metric_130: double | metric_131: double | metric_132: double | metric_133: double | metric_134: double | metric_135: double | metric_136: double | metric_137: double | metric_138: double | metric_139: double | metric_140: double | metric_141: double | metric_142: double | metric_143: double | metric_144: double | metric_145: double | metric_146: double | metric_147: double | metric_148: double | metric_149: double | metric_150: double | metric_151: double | metric_152: double | metric_153: double | metric_154: double | metric_155: double | metric_156: double | metric_157: double | metric_158: double | metric_159: double | metric_160: double | metric_161: double | metric_162: double | metric_163: double | metric_164: double | metric_165: double | metric_166: double | metric_167: double | metric_168: double | metric_169: double | metric_170: double | metric_171: double | metric_172: double | metric_173: double | metric_174: double | metric_175: double | metric_176: double | metric_177: double | metric_178: double | metric_179: double | metric_180: double | metric_181: double | metric_182: double | metric_183: double | metric_184: double | metric_185: double | metric_186: double | metric_187: double | metric_188: double | metric_189: double | metric_190: double | metric_191: double | metric_192: double | metric_193: double | metric_194: double | metric_195: double | metric_196: double | metric_197: double | metric_198: double | metric_199: double | metric_200: double | metric_201: double | metric_202: double | metric_203: double | metric_204: double | metric_205: double | metric_206: double | metric_207: double | metric_208: double | metric_209: double | metric_210: double | metric_211: double | metric_212: double | metric_213: double | metric_214: double | metric_215: double | metric_216: double | metric_217: double | metric_218: double | metric_219: double | metric_220: double | metric_221: double | metric_222: double | metric_223: double | metric_224: double | metric_225: double | metric_226: double | metric_227: double | metric_228: double | metric_229: double | metric_230: double | metric_231: double | metric_232: double | metric_233: double | metric_234: double | metric_235: double | metric_236: double | metric_237: double | metric_238: double | metric_239: double | metric_240: double | metric_241: double | metric_242: double | metric_243: double | metric_244: double | metric_245: double | metric_246: double | metric_247: double | metric_248: double | metric_249: double | metric_250: double | metric_251: double | metric_252: double | metric_253: double | metric_254: double | metric_255: double | metric_256: double | metric_257: double | metric_258: double | metric_259: double | metric_260: double | metric_261: double | metric_262: double | metric_263: double | metric_264: double | metric_265: double | metric_266: double | metric_267: double | metric_268: double | metric_269: double | metric_270: double | metric_271: double | metric_272: double | metric_273: double | metric_274: double | metric_275: double | metric_276: double | metric_277: double | metric_278: double | metric_279: double | metric_280: double | metric_281: double | metric_282: double | metric_283: double | metric_284: double | metric_285: double | metric_286: double | metric_287: double | metric_288: double | metric_289: double | metric_290: double | metric_291: double | metric_292: double | metric_293: double | metric_294: double | metric_295: double | metric_296: double | metric_297: double | metric_298: double | metric_299: double | metric_300: double | metric_301: double | metric_302: double | metric_303: double | metric_304: double | metric_305: double | metric_306: double | metric_307: double | metric_308: double | metric_309: double | metric_310: double | metric_311: double | metric_312: double | metric_313: double | metric_314: double | metric_315: double | metric_316: double | metric_317: double | metric_318: double | metric_319: double | metric_320: double | metric_321: double | metric_322: double | metric_323: double | metric_324: double | metric_325: double | metric_326: double | metric_327: double | metric_328: double | metric_329: double | metric_330: double | metric_331: double | metric_332: double | metric_333: double | metric_334: double | metric_335: double | metric_336: double | metric_337: double | metric_338: double | metric_339: double | metric_340: double | metric_341: double | metric_342: double | metric_343: double | metric_344: double | metric_345: double | metric_346: double | metric_347: double | metric_348: double | metric_349: double | metric_350: double | metric_351: double | metric_352: double | metric_353: double | metric_354: double | metric_355: double | metric_356: double | metric_357: double | metric_358: double | metric_359: double | metric_360: double | metric_361: double | metric_362: double | metric_363: double | metric_364: double | metric_365: double | metric_366: double | metric_367: double | metric_368: double | metric_369: double | metric_370: double | metric_371: double | metric_372: double | metric_373: double | metric_374: double | metric_375: double | metric_376: double | metric_377: double | metric_378: double | metric_379: double | metric_380: double | metric_381: double | metric_382: double | metric_383: double | metric_384: double | metric_385: double | metric_386: double | metric_387: double | metric_388: double | metric_389: double | metric_390: double | metric_391: double | metric_392: double | metric_393: double | metric_394: double | metric_395: double | metric_396: double | metric_397: double | metric_398: double | metric_399: double | metric_400: double | metric_401: double | metric_402: double | metric_403: double | metric_404: double | metric_405: double | metric_406: double | metric_407: double | metric_408: double | metric_409: double | metric_410: double | metric_411: double | metric_412: double | metric_413: double | metric_414: double | metric_415: double | metric_416: double | metric_417: double | metric_418: double | metric_419: double | metric_420: double | metric_421: double | metric_422: double | metric_423: double | metric_424: double | metric_425: double | metric_426: double | metric_427: double | metric_428: double | metric_429: double | metric_430: double | metric_431: double | metric_432: double | metric_433: double | metric_434: double | metric_435: double | metric_436: double | metric_437: double | metric_438: double | metric_439: double | metric_440: double | metric_441: double | metric_442: double | metric_443: double | metric_444: double | metric_445: double | metric_446: double | metric_447: double | metric_448: double | metric_449: double | metric_450: double | metric_451: double | metric_452: double | metric_453: double | metric_454: double | metric_455: double | metric_456: double | metric_457: double | metric_458: double | metric_459: double | metric_460: double | metric_461: double | metric_462: double | metric_463: double | metric_464: double | metric_465: double | metric_466: double | metric_467: double | metric_468: double | metric_469: double | metric_470: double | metric_471: double | metric_472: double | metric_473: double | metric_474: double | metric_475: double | metric_476: double | metric_477: double | metric_478: double | metric_479: double | metric_480: double | metric_481: double | metric_482: double | metric_483: double | metric_484: double | metric_485: double | metric_486: double | metric_487: double | metric_488: double | metric_489: double | metric_490: double | metric_491: double | metric_492: double | metric_493: double | metric_494: double | metric_495: double | metric_496: double | metric_497: double | metric_498: double | metric_499: double\n",
      "\n",
      "Schema: system\n",
      "  Table: iceberg_tables\n",
      "    Columns: table_schema: varchar | table_name: varchar\n"
     ]
    }
   ],
   "source": [
    "# Print columns for each schema in the iceberg catalog\n",
    "def print_columns_for_all_schemas():\n",
    "    # First, get all schemas\n",
    "    cursor.execute(\"SHOW SCHEMAS FROM iceberg\")\n",
    "    schemas = cursor.fetchall()\n",
    "    \n",
    "    # For each schema, get tables and their columns\n",
    "    for schema_row in schemas:\n",
    "        schema = schema_row[0]\n",
    "        if schema == \"information_schema\":\n",
    "            continue\n",
    "        print(f\"\\nSchema: {schema}\")\n",
    "        \n",
    "        # Get tables in this schema\n",
    "        cursor.execute(f'SHOW TABLES FROM iceberg.\"{schema}\"')\n",
    "        tables = cursor.fetchall()\n",
    "        \n",
    "        for table_row in tables:\n",
    "            table = table_row[0]\n",
    "            print(f\"  Table: {table}\")\n",
    "            \n",
    "            # Get columns for this table\n",
    "            cursor.execute(f'SHOW COLUMNS FROM iceberg.\"{schema}\".\"{table}\"')\n",
    "            columns = cursor.fetchall()\n",
    "            \n",
    "            # Print all columns in one line\n",
    "            cols = [f'{col[0]}: {col[1]}' for col in columns]\n",
    "            print(f\"    Columns: {' | '.join(cols)}\")\n",
    "\n",
    "# Execute the function\n",
    "print_columns_for_all_schemas()"
   ]
  },
  {
   "cell_type": "code",
   "execution_count": 231,
   "metadata": {},
   "outputs": [
    {
     "name": "stdout",
     "output_type": "stream",
     "text": [
      "anchor: varchar | type: varchar | creation_date: timestamp(6) | plot_type: varchar | plot_input_data: varchar | sample: varchar | samtools-coverage-table / numreads: double | samtools-coverage-table / covbases: double | samtools-coverage-table / coverage: double | samtools-coverage-table / meandepth: double | samtools-coverage-table / meanbaseq: double | samtools-coverage-table / meanmapq: double | general_stats_table / samtools: coverage / numreads: double | general_stats_table / samtools: coverage / covbases: double | general_stats_table / samtools: coverage / coverage: double | general_stats_table / samtools: coverage / meandepth: double | general_stats_table / samtools: coverage / meanbaseq: double | general_stats_table / samtools: coverage / meanmapq: double | config: varchar | data_sources: varchar | multiqc_version: varchar | modules: varchar\n",
      " | table_row | 2025-05-21 16:26:29.505259 | None | None | NA12878_sorted_chrM_chr20_rehead_60pdown | 0.750591 | 8.983488 | 13.936327510616694 | 1.6043681481908614 | 255.0 | 59.19930599147984 | 0.750591 | 8.983488 | 13.936327510616694 | 1.6043681481908614 | 255.0 | 59.19930599147984 | None | None | None | None\n",
      " | table_row | 2025-05-21 16:26:29.505259 | None | None | bc_anchored_10_reads | 9.999999999999999e-06 | 0.000156 | 1.7254728459241235 | 0.12531798694834642 | 0.3174870036500387 | 0.5107399623935406 | 9.999999999999999e-06 | 0.000156 | 1.7254728459241235 | 0.12531798694834642 | 0.3174870036500387 | 0.5107399623935406 | None | None | None | None\n",
      " | table_row | 2025-05-21 16:26:29.505259 | None | None | test.paired_end | 0.141 | 0.029525 | 2.95243 | 16.7743 | 40.9 | 60.0 | 0.141 | 0.029525 | 2.95243 | 16.7743 | 40.9 | 60.0 | None | None | None | None\n"
     ]
    }
   ],
   "source": [
    "def print_columns_and_few_rows(name):\n",
    "    cursor.execute(f'SHOW COLUMNS FROM iceberg.\"{name}\".\"{name}\"')\n",
    "    columns = cursor.fetchall()\n",
    "    outputs = [[f'{col[0]}: {col[1]}' for col in columns]]\n",
    "\n",
    "    cursor.execute(f'SELECT * FROM iceberg.\"{name}\".\"{name}\" LIMIT 5')\n",
    "    rows = cursor.fetchall()\n",
    "    for row in rows:\n",
    "        outputs.append([str(r) for r in row])\n",
    "    \n",
    "    for out in outputs:\n",
    "        print(\" | \".join(out))\n",
    "\n",
    "print_columns_and_few_rows(\"reallife-small-test-wide\")"
   ]
  },
  {
   "cell_type": "markdown",
   "metadata": {},
   "source": [
    "### Find average of a metric across all samples and projects"
   ]
  },
  {
   "cell_type": "code",
   "execution_count": 232,
   "metadata": {},
   "outputs": [],
   "source": [
    "def average_of_metrics(name, metric, format):\n",
    "    \"\"\"\n",
    "    Print the average of the requested metric.\n",
    "    \"\"\"\n",
    "    is_simulated = \"simulated\" in name\n",
    "    if format == \"long\":\n",
    "        # Handle the optional “anchor / metric” syntax\n",
    "        if \" / \" in metric:\n",
    "            metric = metric.split(\" / \")[-1]  # general_stats_table / samtools: coverage / numreads\n",
    "            anchor = metric.split(\" / \")[0]\n",
    "            anchor_and = f\"AND anchor = '{anchor}'\"\n",
    "        else:\n",
    "            metric_name = metric\n",
    "            anchor_and = \"\"        \n",
    "        metric_col = \"metric_name\" if is_simulated else \"metric\"\n",
    "        value_col  = \"val_raw\"\n",
    "        run_query(name, f\"\"\"\n",
    "        SELECT AVG({value_col}) AS mean\n",
    "        FROM {{table}}\n",
    "        WHERE {metric_col} = '{metric_name}' {anchor_and}\n",
    "        \"\"\")\n",
    "    else:\n",
    "        run_query(name, f\"\"\"\n",
    "        SELECT AVG({metric}) FROM {{table}}\n",
    "        \"\"\")\n"
   ]
  },
  {
   "cell_type": "code",
   "execution_count": 233,
   "metadata": {},
   "outputs": [],
   "source": [
    "def metric_dates_samples_stats(name, metric, format, samples):\n",
    "    \"\"\"\n",
    "    Print min, max, mean and median for a metric over the requested samples\n",
    "    and date window.\n",
    "\n",
    "    Parameters\n",
    "    ----------\n",
    "    name     : str   – logical “run-set” name (used by run_query to pick a DB)\n",
    "    metric   : str   – metric of interest; may be written as \"anchor / metric\"\n",
    "    format   : str   – \"long\" or \"wide\"\n",
    "    samples  : list  – list of sample identifiers\n",
    "    \"\"\"\n",
    "    # Convert `samples` into the SQL IN (…) list\n",
    "    samples_sql = \", \".join(f\"'{s}'\" for s in samples)\n",
    "    is_simulated = \"simulated\" in name\n",
    "\n",
    "    if format == \"long\":\n",
    "        # Handle the optional “anchor / metric” syntax\n",
    "        if \" / \" in metric:\n",
    "            metric = metric.split(\" / \")[-1]  # general_stats_table / samtools: coverage / numreads\n",
    "            anchor = metric.split(\" / \")[0]\n",
    "            anchor_and = f\"AND anchor = '{anchor}'\"\n",
    "        else:\n",
    "            metric_name = metric\n",
    "            anchor_and = \"\"\n",
    "\n",
    "        metric_col = \"metric_name\" if is_simulated else \"metric\"\n",
    "        sample_col = \"sample_name\" if is_simulated else \"sample\"\n",
    "        value_col  = \"val_raw\"\n",
    "\n",
    "        query = f\"\"\"\n",
    "        SELECT\n",
    "            MIN({value_col})    AS min,\n",
    "            MAX({value_col})    AS max,\n",
    "            AVG({value_col})    AS mean,\n",
    "            approx_percentile({value_col}, 0.5)    AS median\n",
    "        FROM {{table}}\n",
    "        WHERE {metric_col} = '{metric_name}' {anchor_and}\n",
    "          AND creation_date BETWEEN TIMESTAMP '2025-03-15'\n",
    "                               AND TIMESTAMP '2025-12-31'\n",
    "          AND {sample_col} IN ({samples_sql})\n",
    "        \"\"\"\n",
    "    else:  # wide format\n",
    "        sample_col = \"sample_name\" if is_simulated else \"sample\"\n",
    "        value_col  = f'\"{metric}\"'  # quote because metric names may contain punctuation\n",
    "\n",
    "        query = f\"\"\"\n",
    "        SELECT\n",
    "            MIN({value_col})    AS min,\n",
    "            MAX({value_col})    AS max,\n",
    "            AVG({value_col})    AS mean,\n",
    "            approx_percentile({value_col}, 0.5)    AS median\n",
    "        FROM {{table}}\n",
    "        WHERE creation_date BETWEEN TIMESTAMP '2025-03-15'\n",
    "                               AND TIMESTAMP '2025-12-31'\n",
    "          AND {sample_col} IN ({samples_sql})\n",
    "        \"\"\"\n",
    "\n",
    "    # Expect run_query to return a DataFrame when as_df=True\n",
    "    stats_df = run_query(name, query, as_df=True, verbose=False)\n",
    "    if stats_df.is_empty():\n",
    "        print(\"No rows matched the given filters.\")\n",
    "        return\n",
    "\n",
    "    row = stats_df.row(0, named=True)\n",
    "    print(\n",
    "        f\"Statistics for “{metric}” (samples={samples}, 2025-03-15 → 2025-12-31):\\n\"\n",
    "        f\"  min   : {row['min']}\\n\"\n",
    "        f\"  max   : {row['max']}\\n\"\n",
    "        f\"  mean  : {row['mean']}\\n\"\n",
    "        f\"  median: {row['median']}\"\n",
    "    )"
   ]
  },
  {
   "cell_type": "code",
   "execution_count": 234,
   "metadata": {},
   "outputs": [],
   "source": [
    "def metric_outliers_conditional(name, metric_filter, condition, metric_outlier, threshold=1.5, limit=10, verbose=False):\n",
    "    \"\"\"\n",
    "    Find samples that satisfy a condition on one metric, then identify outliers on another metric using IQR.\n",
    "    \"\"\"\n",
    "    is_simulated = \"simulated\" in name\n",
    "    format = \"long\" if \"wide\" not in name else \"wide\"\n",
    "\n",
    "    metric_col = \"metric_name\" if is_simulated else \"metric\"\n",
    "    sample_col = \"sample_name\" if is_simulated else \"sample\"\n",
    "\n",
    "    if format == \"long\":\n",
    "        anchor_filter_clause = \"\"\n",
    "        if \" / \" in metric_filter:\n",
    "            anchor_filter = metric_filter.split(\" / \")[0]\n",
    "            metric_filter = metric_filter.split(\" / \")[-1]\n",
    "            anchor_filter_clause = f\"AND anchor = '{anchor_filter}'\"\n",
    "\n",
    "        anchor_outlier_clause = \"\"\n",
    "        if \" / \" in metric_outlier:\n",
    "            anchor_outlier = metric_outlier.split(\" / \")[0]\n",
    "            metric_outlier = metric_outlier.split(\" / \")[-1]\n",
    "            anchor_outlier_clause = f\"AND anchor = '{anchor_outlier}'\"\n",
    "\n",
    "        query = f\"\"\"\n",
    "        WITH filtered_samples AS (\n",
    "            SELECT DISTINCT {sample_col}\n",
    "            FROM {{table}}\n",
    "            WHERE {metric_col} = '{metric_filter}' {anchor_filter_clause}\n",
    "              AND val_raw {condition}\n",
    "        ),\n",
    "        outlier_data AS (\n",
    "            SELECT {sample_col}, val_raw\n",
    "            FROM {{table}}\n",
    "            WHERE {metric_col} = '{metric_outlier}' {anchor_outlier_clause}\n",
    "              AND {sample_col} IN (SELECT {sample_col} FROM filtered_samples)\n",
    "        ),\n",
    "        stats AS (\n",
    "            SELECT \n",
    "                approx_percentile(val_raw, 0.25) AS q1,\n",
    "                approx_percentile(val_raw, 0.75) AS q3\n",
    "            FROM outlier_data\n",
    "        ),\n",
    "        with_bounds AS (\n",
    "            SELECT \n",
    "                q1,\n",
    "                q3,\n",
    "                (q3 - q1) AS iqr,\n",
    "                q1 - (q3 - q1) * {threshold} AS lower_bound,\n",
    "                q3 + (q3 - q1) * {threshold} AS upper_bound\n",
    "            FROM stats\n",
    "        )\n",
    "        SELECT \n",
    "            od.{sample_col},\n",
    "            od.val_raw AS \"{metric_outlier}_value\",\n",
    "            wb.q1,\n",
    "            wb.q3,\n",
    "            wb.iqr * {threshold} AS iqr_range,\n",
    "            CASE \n",
    "                WHEN od.val_raw < wb.lower_bound THEN 'low_outlier'\n",
    "                WHEN od.val_raw > wb.upper_bound THEN 'high_outlier'\n",
    "                ELSE 'normal'\n",
    "            END AS outlier_status\n",
    "        FROM outlier_data od\n",
    "        CROSS JOIN with_bounds wb\n",
    "        WHERE od.val_raw < wb.lower_bound OR od.val_raw > wb.upper_bound\n",
    "        ORDER BY od.val_raw DESC\n",
    "        LIMIT {limit}\n",
    "        \"\"\"\n",
    "        run_query(name, query, verbose=verbose)\n",
    "\n",
    "    else:\n",
    "        query = f\"\"\"\n",
    "        WITH filtered_samples AS (\n",
    "            SELECT {sample_col}\n",
    "            FROM {{table}}\n",
    "            WHERE \"{metric_filter}\" {condition}\n",
    "        ),\n",
    "        outlier_data AS (\n",
    "            SELECT {sample_col}, \"{metric_outlier}\" AS metric_value\n",
    "            FROM {{table}}\n",
    "            WHERE {sample_col} IN (SELECT {sample_col} FROM filtered_samples)\n",
    "        ),\n",
    "        stats AS (\n",
    "            SELECT \n",
    "                approx_percentile(metric_value, 0.25) AS q1,\n",
    "                approx_percentile(metric_value, 0.75) AS q3\n",
    "            FROM outlier_data\n",
    "        ),\n",
    "        with_bounds AS (\n",
    "            SELECT \n",
    "                q1,\n",
    "                q3,\n",
    "                (q3 - q1) AS iqr,\n",
    "                q1 - (q3 - q1) * {threshold} AS lower_bound,\n",
    "                q3 + (q3 - q1) * {threshold} AS upper_bound\n",
    "            FROM stats\n",
    "        )\n",
    "        SELECT \n",
    "            od.{sample_col},\n",
    "            od.metric_value AS \"{metric_outlier}_value\",\n",
    "            wb.q1,\n",
    "            wb.q3,\n",
    "            wb.iqr * {threshold} AS iqr_range,\n",
    "            CASE \n",
    "                WHEN od.metric_value < wb.lower_bound THEN 'low_outlier'\n",
    "                WHEN od.metric_value > wb.upper_bound THEN 'high_outlier'\n",
    "                ELSE 'normal'\n",
    "            END AS outlier_status\n",
    "        FROM outlier_data od\n",
    "        CROSS JOIN with_bounds wb\n",
    "        WHERE od.metric_value < wb.lower_bound OR od.metric_value > wb.upper_bound\n",
    "        ORDER BY od.metric_value DESC\n",
    "        LIMIT {limit}\n",
    "        \"\"\"\n",
    "        run_query(name, query, verbose=verbose)"
   ]
  },
  {
   "cell_type": "code",
   "execution_count": null,
   "metadata": {},
   "outputs": [
    {
     "name": "stdout",
     "output_type": "stream",
     "text": [
      "Statistics for “general_stats_table / samtools: coverage / numreads” (samples=['NA12878_sorted_chrM_chr20_rehead_60pdown', 'test.paired_end'], 2025-03-15 → 2025-12-31):\n",
      "  min   : 0.141\n",
      "  max   : 0.750591\n",
      "  mean  : 0.4457955\n",
      "  median: 0.750591\n"
     ]
    }
   ],
   "source": [
    "metric_dates_samples_stats(\n",
    "    \"reallife-small-test-wide\",\n",
    "    metric=\"general_stats_table / samtools: coverage / numreads\",\n",
    "    format=\"wide\",\n",
    "    samples=[\"NA12878_sorted_chrM_chr20_rehead_60pdown\", \"test.paired_end\"]\n",
    ")"
   ]
  },
  {
   "cell_type": "code",
   "execution_count": 264,
   "metadata": {},
   "outputs": [
    {
     "name": "stdout",
     "output_type": "stream",
     "text": [
      "0 rows\n",
      "\n"
     ]
    }
   ],
   "source": [
    "metric_outliers_conditional(\n",
    "    \"reallife-small-test-wide\", \n",
    "    metric_filter=\"general_stats_table / samtools: coverage / coverage\", \n",
    "    condition=\"> 2\", \n",
    "    metric_outlier=\"general_stats_table / samtools: coverage / meanmapq\", \n",
    ")"
   ]
  },
  {
   "cell_type": "code",
   "execution_count": null,
   "metadata": {},
   "outputs": [
    {
     "name": "stdout",
     "output_type": "stream",
     "text": [
      "anchor: varchar | type: varchar | creation_date: timestamp(6) | plot_type: varchar | plot_input_data: varchar | sample: varchar | bismark-methylation-dp / percent_cpg_meth: double | bismark-methylation-dp / percent_chg_meth: double | bismark-methylation-dp / percent_chh_meth: double | general_stats_table / qualimap: bamqc / avg_gc: double | general_stats_table / qualimap: bamqc / 1_x_pc: double | general_stats_table / qualimap: bamqc / 5_x_pc: double | general_stats_table / qualimap: bamqc / 10_x_pc: double | general_stats_table / qualimap: bamqc / 30_x_pc: double | general_stats_table / qualimap: bamqc / 50_x_pc: double | general_stats_table / qualimap: bamqc / median_coverage: double | general_stats_table / qualimap: bamqc / mean_coverage: double | general_stats_table / qualimap: bamqc / general_error_rate: double | general_stats_table / qualimap: bamqc / percentage_aligned: double | general_stats_table / qualimap: bamqc / mapped_reads: double | general_stats_table / qualimap: bamqc / total_reads: double | general_stats_table / qualimap: bamqc / ns: double | general_stats_table / qualimap: bamqc / duplication_rate: double | general_stats_table / bismark / percent_cpg_meth: double | general_stats_table / bismark / percent_chg_meth: double | general_stats_table / bismark / percent_chh_meth: double | general_stats_table / bismark / total_c: double | general_stats_table / bismark / dup_reads_percent: double | general_stats_table / bismark / dedup_reads: double | general_stats_table / bismark / aligned_reads: double | general_stats_table / bismark / percent_aligned: double | general_stats_table / cutadapt / percent_trimmed: double | general_stats_table / fastqc / percent_duplicates: double | general_stats_table / fastqc / percent_gc: double | general_stats_table / fastqc / avg_sequence_length: double | general_stats_table / fastqc / median_sequence_length: double | general_stats_table / fastqc / percent_fails: double | general_stats_table / fastqc / total_sequences: double | config: varchar | data_sources: varchar | multiqc_version: varchar | modules: varchar\n",
      " | table_row | 2025-05-21 20:08:15.978593 | None | None | Bisulfite_2_S2_DNA_H12_R1 | 74.7 | 0.8 | 0.5 | 24.318481848184817 | 0.014304405414483556 | 1.0373054436828252e-05 | 2.6757348900652383e-06 | 1.0263092729017352e-06 | 0.0 | 0.0 | 0.0001 | 19.830000000000002 | 100.0 | 0.006931 | 0.006931 | 0.0 | 0.17 | 74.7 | 0.8 | 0.5 | 0.080714 | 38.0 | 0.006931 | 0.011179 | 44.10731899782995 | 7.538156259095348 | 41.08108108108108 | 28.0 | 53.640402446241865 | 57.0 | 27.27272727272727 | 0.025345 | None | None | None | None\n",
      " | table_row | 2025-05-21 20:08:15.978593 | None | None | Helicase_1_S3_DNA_J22_R1 | 71.9 | 1.8 | 2.1 | 24.371985157699445 | 0.030496413505249027 | 1.693410300287863e-05 | 4.655045630661442e-06 | 1.649425617163503e-06 | 0.0 | 0.0 | 0.0003 | 19.81 | 100.0 | 0.015059 | 0.015059 | 0.0 | 0.13 | 71.9 | 1.8 | 2.1 | 0.178284 | 62.7 | 0.015059 | 0.040375 | 63.28270716759925 | 2.58193882722099 | 55.55869030265983 | 26.0 | 56.51764078932932 | 58.0 | 27.27272727272727 | 0.063801 | None | None | None | None\n",
      " | table_row | 2025-05-21 20:08:15.978593 | None | None | Helicase_1_S3_DNA_E21_R1 | 69.6 | 1.7 | 2.2 | 24.407992565055764 | 0.030545089887906652 | 2.3201920348099943e-05 | 6.011240026995878e-06 | 1.9060029353889368e-06 | 5.131546364508676e-07 | 0.0 | 0.0003 | 19.73 | 100.0 | 0.015094 | 0.015094 | 0.0 | 0.23 | 69.6 | 1.7 | 2.2 | 0.177913 | 62.44 | 0.015094 | 0.040181999999999995 | 61.93184445369214 | 2.727660114841576 | 55.54168400610348 | 26.0 | 56.42843051124366 | 57.0 | 18.181818181818183 | 0.064881 | None | None | None | None\n",
      " | table_row | 2025-05-21 20:08:15.978593 | None | None | Helicase_1_S3_DNA_I7_R1 | 70.7 | 2.1 | 2.2 | 24.398860398860396 | 0.030129288016771033 | 1.7850450567969467e-05 | 5.534739293148644e-06 | 1.83269513018167e-06 | 4.765007338472342e-07 | 0.0 | 0.0003 | 19.66 | 100.0 | 0.014877999999999999 | 0.014877999999999999 | 0.0 | 0.28 | 70.7 | 2.1 | 2.2 | 0.175072 | 62.05 | 0.014877999999999999 | 0.039208 | 63.07187439675697 | 2.0256672879326705 | 54.800205906955796 | 25.0 | 56.83688308345666 | 58.0 | 18.181818181818183 | 0.062164 | None | None | None | None\n",
      " | table_row | 2025-05-21 20:08:15.978593 | None | None | NaOH_S8_DNA_I7_R1 | 73.8 | 0.8 | 0.7 | 24.8683574879227 | 0.02149227236895867 | 1.466156104145336e-05 | 5.314815877526843e-06 | 1.979310740596204e-06 | 4.031929286399674e-07 | 0.0 | 0.0002 | 20.31 | 100.0 | 0.010705 | 0.010705 | 0.0 | 0.23 | 73.8 | 0.8 | 0.7 | 0.129074 | 43.9 | 0.010705 | 0.019081 | 64.89032477469819 | 1.5227500844245994 | 38.112565890154734 | 25.0 | 57.120931814317295 | 57.0 | 9.090909090909092 | 0.029404999999999997 | None | None | None | None\n"
     ]
    }
   ],
   "source": [
    "print_columns_and_few_rows(\"reallife-wide_bsstuff\")"
   ]
  },
  {
   "cell_type": "code",
   "execution_count": 166,
   "metadata": {},
   "outputs": [
    {
     "name": "stdout",
     "output_type": "stream",
     "text": [
      "Statistics for “general_stats_table / qualimap: bamqc / avg_gc” (samples=['Bisulfite_2_S2_DNA_H12_R1', 'Helicase_1_S3_DNA_J22_R1'], 2025-03-15 → 2025-12-31):\n",
      "  min   : 24.318481848184817\n",
      "  max   : 24.371985157699445\n",
      "  mean  : 24.34523350294213\n",
      "  median: 24.371985157699445\n"
     ]
    }
   ],
   "source": [
    "metric_dates_samples_stats(\n",
    "    \"reallife-wide_bsstuff\", \n",
    "    metric=\"general_stats_table / qualimap: bamqc / avg_gc\", \n",
    "    format=\"wide\",\n",
    "    samples=[\"Bisulfite_2_S2_DNA_H12_R1\", \"Helicase_1_S3_DNA_J22_R1\"]\n",
    ")\n"
   ]
  },
  {
   "cell_type": "code",
   "execution_count": null,
   "metadata": {},
   "outputs": [
    {
     "name": "stdout",
     "output_type": "stream",
     "text": [
      "Statistics for “general_stats_table / qualimap: bamqc / avg_gc” (samples=['Bisulfite_2_S2_DNA_H12_R1', 'Helicase_1_S3_DNA_J22_R1'], 2025-03-15 → 2025-12-31):\n",
      "  min   : 24.318481848184817\n",
      "  max   : 24.371985157699445\n",
      "  mean  : 24.34523350294213\n",
      "  median: 24.371985157699445\n"
     ]
    }
   ],
   "source": [
    "metric_dates_samples_stats(\n",
    "    \"reallife-bsstuff\", \n",
    "    metric=\"general_stats_table / qualimap: bamqc / avg_gc\", \n",
    "    format=\"wide\",\n",
    "    samples=[\"Bisulfite_2_S2_DNA_H12_R1\", \"Helicase_1_S3_DNA_J22_R1\"]\n",
    ")"
   ]
  },
  {
   "cell_type": "code",
   "execution_count": 38,
   "metadata": {},
   "outputs": [
    {
     "name": "stdout",
     "output_type": "stream",
     "text": [
      "run_id: varchar | creation_date: timestamp(6) | module_name: varchar | sample_name: varchar | metric_name: varchar | metric_min: double | metric_max: double | metric_dmin: double | metric_dmax: double | metric_scale: varchar | metric_color: varchar | val_raw: double | val_raw_type: varchar\n",
      "run_1 | 2025-04-06 17:12:32.456908 | module_0 | sample_0 | metric_0 | 5.495419114785129 | 96.75975901945004 | 1.6238252032547913 | 9.031953154242153 | Accent | #61fe79 | 74.83896928398039 | float\n",
      "run_1 | 2025-04-06 17:12:32.456908 | module_0 | sample_0 | metric_1 | 5.69906284939199 | 92.00361465604668 | 2.2255552424325087 | 9.113154542081853 | Paired | #dd7c16 | 66.98567783316085 | float\n",
      "run_1 | 2025-04-06 17:12:32.456908 | module_0 | sample_0 | metric_2 | 8.959603245979986 | 90.2454446445848 | 2.801095339031841 | 9.269297642148208 | Set3 | #6c31bb | 30.19826258471592 | float\n",
      "run_1 | 2025-04-06 17:12:32.456908 | module_0 | sample_0 | metric_3 | 9.707969533101707 | 94.3023425378321 | 2.7669724742354123 | 9.674536733563674 | Pastel2 | #814c3c | 46.75128832683491 | float\n",
      "run_1 | 2025-04-06 17:12:32.456908 | module_0 | sample_0 | metric_4 | 1.399579312007021 | 95.51110100364266 | 1.9553850478417938 | 9.15609385184401 | Pastel2 | #3c02dc | 65.78733600604562 | float\n"
     ]
    }
   ],
   "source": [
    "print_columns_and_few_rows(\"simulated-long_10runs_10mod_5sec_100samples_50metrics\")"
   ]
  },
  {
   "cell_type": "code",
   "execution_count": 14,
   "metadata": {},
   "outputs": [
    {
     "name": "stdout",
     "output_type": "stream",
     "text": [
      "run_id: varchar | creation_date: timestamp(6) | module_name: varchar | sample_name: varchar | metric_name: varchar | metric_min: double | metric_max: double | metric_dmin: double | metric_dmax: double | metric_scale: varchar | metric_color: varchar | val_raw: double | val_raw_type: varchar\n",
      "run_1 | 2025-02-27 08:30:29.421394 | module_0 | sample_0 | metric_0 | 8.187422717238181 | 99.09294188036411 | 2.800081586567719 | 9.686040573432331 | Pastel2 | #718754 | 53.227891884914506 | float\n",
      "run_1 | 2025-02-27 08:30:29.421394 | module_0 | sample_0 | metric_1 | 0.6189464903850472 | 95.00990616596145 | 2.504969401613949 | 9.75638499643777 | Accent | #d62c2b | 57.879120040092 | float\n",
      "run_1 | 2025-02-27 08:30:29.421394 | module_0 | sample_0 | metric_2 | 0.8117001920682132 | 91.84371073523403 | 1.5076375825884356 | 9.1234107926833 | Accent | #263ead | 51.424642994452576 | float\n",
      "run_1 | 2025-02-27 08:30:29.421394 | module_0 | sample_0 | metric_3 | 6.110040575627345 | 90.39865100056717 | 1.0801228393125046 | 9.356706742720656 | Dark2 | #cafc54 | 63.123572324846975 | float\n",
      "run_1 | 2025-02-27 08:30:29.421394 | module_0 | sample_0 | metric_4 | 3.0366208307436526 | 98.22088301737301 | 2.790279660123385 | 9.329270736466029 | Accent | #50bd27 | 27.625674680288363 | float\n"
     ]
    }
   ],
   "source": [
    "print_columns_and_few_rows(\"simulated-long_10000runs_10mod_5sec_100samples_50metrics\")"
   ]
  },
  {
   "cell_type": "code",
   "execution_count": 100,
   "metadata": {},
   "outputs": [
    {
     "name": "stdout",
     "output_type": "stream",
     "text": [
      "run_id: bigint | creation_date: timestamp(6) | type: varchar | sample_name: varchar | metric_0: double | metric_1: double | metric_2: double | metric_3: double | metric_4: double | metric_5: double | metric_6: double | metric_7: double | metric_8: double | metric_9: double | metric_10: double | metric_11: double | metric_12: double | metric_13: double | metric_14: double | metric_15: double | metric_16: double | metric_17: double | metric_18: double | metric_19: double | metric_20: double | metric_21: double | metric_22: double | metric_23: double | metric_24: double | metric_25: double | metric_26: double | metric_27: double | metric_28: double | metric_29: double | metric_30: double | metric_31: double | metric_32: double | metric_33: double | metric_34: double | metric_35: double | metric_36: double | metric_37: double | metric_38: double | metric_39: double | metric_40: double | metric_41: double | metric_42: double | metric_43: double | metric_44: double | metric_45: double | metric_46: double | metric_47: double | metric_48: double | metric_49: double | metric_50: double | metric_51: double | metric_52: double | metric_53: double | metric_54: double | metric_55: double | metric_56: double | metric_57: double | metric_58: double | metric_59: double | metric_60: double | metric_61: double | metric_62: double | metric_63: double | metric_64: double | metric_65: double | metric_66: double | metric_67: double | metric_68: double | metric_69: double | metric_70: double | metric_71: double | metric_72: double | metric_73: double | metric_74: double | metric_75: double | metric_76: double | metric_77: double | metric_78: double | metric_79: double | metric_80: double | metric_81: double | metric_82: double | metric_83: double | metric_84: double | metric_85: double | metric_86: double | metric_87: double | metric_88: double | metric_89: double | metric_90: double | metric_91: double | metric_92: double | metric_93: double | metric_94: double | metric_95: double | metric_96: double | metric_97: double | metric_98: double | metric_99: double | metric_100: double | metric_101: double | metric_102: double | metric_103: double | metric_104: double | metric_105: double | metric_106: double | metric_107: double | metric_108: double | metric_109: double | metric_110: double | metric_111: double | metric_112: double | metric_113: double | metric_114: double | metric_115: double | metric_116: double | metric_117: double | metric_118: double | metric_119: double | metric_120: double | metric_121: double | metric_122: double | metric_123: double | metric_124: double | metric_125: double | metric_126: double | metric_127: double | metric_128: double | metric_129: double | metric_130: double | metric_131: double | metric_132: double | metric_133: double | metric_134: double | metric_135: double | metric_136: double | metric_137: double | metric_138: double | metric_139: double | metric_140: double | metric_141: double | metric_142: double | metric_143: double | metric_144: double | metric_145: double | metric_146: double | metric_147: double | metric_148: double | metric_149: double | metric_150: double | metric_151: double | metric_152: double | metric_153: double | metric_154: double | metric_155: double | metric_156: double | metric_157: double | metric_158: double | metric_159: double | metric_160: double | metric_161: double | metric_162: double | metric_163: double | metric_164: double | metric_165: double | metric_166: double | metric_167: double | metric_168: double | metric_169: double | metric_170: double | metric_171: double | metric_172: double | metric_173: double | metric_174: double | metric_175: double | metric_176: double | metric_177: double | metric_178: double | metric_179: double | metric_180: double | metric_181: double | metric_182: double | metric_183: double | metric_184: double | metric_185: double | metric_186: double | metric_187: double | metric_188: double | metric_189: double | metric_190: double | metric_191: double | metric_192: double | metric_193: double | metric_194: double | metric_195: double | metric_196: double | metric_197: double | metric_198: double | metric_199: double | metric_200: double | metric_201: double | metric_202: double | metric_203: double | metric_204: double | metric_205: double | metric_206: double | metric_207: double | metric_208: double | metric_209: double | metric_210: double | metric_211: double | metric_212: double | metric_213: double | metric_214: double | metric_215: double | metric_216: double | metric_217: double | metric_218: double | metric_219: double | metric_220: double | metric_221: double | metric_222: double | metric_223: double | metric_224: double | metric_225: double | metric_226: double | metric_227: double | metric_228: double | metric_229: double | metric_230: double | metric_231: double | metric_232: double | metric_233: double | metric_234: double | metric_235: double | metric_236: double | metric_237: double | metric_238: double | metric_239: double | metric_240: double | metric_241: double | metric_242: double | metric_243: double | metric_244: double | metric_245: double | metric_246: double | metric_247: double | metric_248: double | metric_249: double | metric_250: double | metric_251: double | metric_252: double | metric_253: double | metric_254: double | metric_255: double | metric_256: double | metric_257: double | metric_258: double | metric_259: double | metric_260: double | metric_261: double | metric_262: double | metric_263: double | metric_264: double | metric_265: double | metric_266: double | metric_267: double | metric_268: double | metric_269: double | metric_270: double | metric_271: double | metric_272: double | metric_273: double | metric_274: double | metric_275: double | metric_276: double | metric_277: double | metric_278: double | metric_279: double | metric_280: double | metric_281: double | metric_282: double | metric_283: double | metric_284: double | metric_285: double | metric_286: double | metric_287: double | metric_288: double | metric_289: double | metric_290: double | metric_291: double | metric_292: double | metric_293: double | metric_294: double | metric_295: double | metric_296: double | metric_297: double | metric_298: double | metric_299: double | metric_300: double | metric_301: double | metric_302: double | metric_303: double | metric_304: double | metric_305: double | metric_306: double | metric_307: double | metric_308: double | metric_309: double | metric_310: double | metric_311: double | metric_312: double | metric_313: double | metric_314: double | metric_315: double | metric_316: double | metric_317: double | metric_318: double | metric_319: double | metric_320: double | metric_321: double | metric_322: double | metric_323: double | metric_324: double | metric_325: double | metric_326: double | metric_327: double | metric_328: double | metric_329: double | metric_330: double | metric_331: double | metric_332: double | metric_333: double | metric_334: double | metric_335: double | metric_336: double | metric_337: double | metric_338: double | metric_339: double | metric_340: double | metric_341: double | metric_342: double | metric_343: double | metric_344: double | metric_345: double | metric_346: double | metric_347: double | metric_348: double | metric_349: double | metric_350: double | metric_351: double | metric_352: double | metric_353: double | metric_354: double | metric_355: double | metric_356: double | metric_357: double | metric_358: double | metric_359: double | metric_360: double | metric_361: double | metric_362: double | metric_363: double | metric_364: double | metric_365: double | metric_366: double | metric_367: double | metric_368: double | metric_369: double | metric_370: double | metric_371: double | metric_372: double | metric_373: double | metric_374: double | metric_375: double | metric_376: double | metric_377: double | metric_378: double | metric_379: double | metric_380: double | metric_381: double | metric_382: double | metric_383: double | metric_384: double | metric_385: double | metric_386: double | metric_387: double | metric_388: double | metric_389: double | metric_390: double | metric_391: double | metric_392: double | metric_393: double | metric_394: double | metric_395: double | metric_396: double | metric_397: double | metric_398: double | metric_399: double | metric_400: double | metric_401: double | metric_402: double | metric_403: double | metric_404: double | metric_405: double | metric_406: double | metric_407: double | metric_408: double | metric_409: double | metric_410: double | metric_411: double | metric_412: double | metric_413: double | metric_414: double | metric_415: double | metric_416: double | metric_417: double | metric_418: double | metric_419: double | metric_420: double | metric_421: double | metric_422: double | metric_423: double | metric_424: double | metric_425: double | metric_426: double | metric_427: double | metric_428: double | metric_429: double | metric_430: double | metric_431: double | metric_432: double | metric_433: double | metric_434: double | metric_435: double | metric_436: double | metric_437: double | metric_438: double | metric_439: double | metric_440: double | metric_441: double | metric_442: double | metric_443: double | metric_444: double | metric_445: double | metric_446: double | metric_447: double | metric_448: double | metric_449: double | metric_450: double | metric_451: double | metric_452: double | metric_453: double | metric_454: double | metric_455: double | metric_456: double | metric_457: double | metric_458: double | metric_459: double | metric_460: double | metric_461: double | metric_462: double | metric_463: double | metric_464: double | metric_465: double | metric_466: double | metric_467: double | metric_468: double | metric_469: double | metric_470: double | metric_471: double | metric_472: double | metric_473: double | metric_474: double | metric_475: double | metric_476: double | metric_477: double | metric_478: double | metric_479: double | metric_480: double | metric_481: double | metric_482: double | metric_483: double | metric_484: double | metric_485: double | metric_486: double | metric_487: double | metric_488: double | metric_489: double | metric_490: double | metric_491: double | metric_492: double | metric_493: double | metric_494: double | metric_495: double | metric_496: double | metric_497: double | metric_498: double | metric_499: double\n",
      "1899 | 2025-05-16 19:54:53.837897 | table_row | sample_0 | 4.687183307320993 | 3.295815087333099 | 4.437414309457217 | 1.864092467709798 | 4.5922543046993605 | 2.7131121228004296 | 3.2721900937247694 | 4.821392355088307 | 4.635335621332034 | 3.478387947832271 | 4.4834073232015506 | 3.707145494356445 | 2.276786529194081 | 4.147483060746981 | 3.4485141340939496 | 2.204561423310575 | 1.5664813419795087 | 2.5668911966765156 | 3.3643386754680957 | 1.3461260795492347 | 1.34007282768742 | 4.096336242676458 | 4.288759458540523 | 4.0762314780990625 | 0.6628000551754931 | 2.972066798215924 | 0.26731470119046474 | 0.7924374068993251 | 1.4996003509060363 | 3.004374302950712 | 4.638084280068656 | 0.930690208046604 | 2.6098106830736967 | 3.1801399132272055 | 4.17819801761871 | 1.2618017035464586 | 1.1498656849706723 | 1.8340472646089723 | 4.355804871241494 | 3.3821575803276636 | 3.187521645691352 | 1.9905472632490833 | 1.3663015306577375 | 0.618858611991327 | 1.3600133309275275 | 3.575380172301954 | 4.938985819132504 | 4.893971291821566 | 2.1458147058651655 | 0.1327081191027646 | 0.524172048122053 | 3.578019164499122 | 3.5128950761700772 | 4.0687745308215915 | 3.976553690161399 | 3.596134661371888 | 0.9944371668189933 | 4.622202685364075 | 4.178770215924221 | 3.5792009756620353 | 1.9713529134676118 | 0.4703559876014263 | 1.3222442316472334 | 1.1635189791649225 | 1.2557259532617486 | 4.213616458296508 | 1.0165391737977603 | 4.644299759829584 | 0.9450200971376116 | 2.6661864087633407 | 1.016822890063875 | 0.7596367352083183 | 3.9604922942471448 | 2.3335199895402376 | 2.1887338732359374 | 3.007741323840226 | 3.1837675723119734 | 2.533458673453998 | 3.122134787576067 | 2.2828374556772597 | 0.4652397001535158 | 1.3214265336767954 | 1.4696226668665124 | 3.317753160104367 | 3.234831651336816 | 4.224171053634013 | 4.704304226198778 | 1.6075344190948577 | 3.325784760939304 | 0.21006313136289478 | 2.52561352683921 | 2.0215324119242766 | 3.2059619468296576 | 3.5737740522611334 | 2.23146201919512 | 1.9292935247936394 | 2.6843712087750426 | 3.9239840709995417 | 3.4681116922779536 | 1.2047165643927111 | 4.430086214141895 | 0.9283989492398637 | 3.7198994711512254 | 0.7522915105970124 | 3.6407326501801647 | 1.168551496692698 | 1.9727726003393902 | 4.294160084788089 | 0.04008714641851596 | 4.133583361107549 | 2.0221462249013196 | 0.928984287790991 | 4.73130155777958 | 1.6760612608889713 | 2.7141515058229078 | 1.0634993343148946 | 2.7061088599096115 | 2.656637959328256 | 0.037119402602184826 | 0.599282110189075 | 0.16316931257871925 | 1.8886084909948309 | 3.2886855139088897 | 0.9408182392408837 | 2.7897916099620854 | 2.173816435201315 | 2.690670321222579 | 0.34277050418491495 | 2.4678433115157636 | 2.7559902279054347 | 2.022784540427989 | 4.461912707394817 | 1.8598140607390783 | 1.015301095170667 | 0.06336170766566895 | 3.357189336526764 | 3.950032325445587 | 4.062318504434712 | 4.697115301948019 | 4.5154779185945015 | 1.6685683397785023 | 2.2802694333181157 | 4.691935665981971 | 1.5405629525010056 | 3.6800572830161418 | 3.4839413087866777 | 3.686069555318956 | 4.464823181614599 | 4.037785102423262 | 4.336855409802059 | 4.37399283854175 | 2.5638175308082167 | 4.570031623828061 | 1.3473288101598007 | 4.373714438039319 | 4.151016149258334 | 3.543454236608785 | 0.54971654641781 | 2.3031402319564735 | 1.3876255841231189 | 4.796741910769808 | 2.937484575776722 | 3.8659663601048617 | 3.45610166102194 | 4.787735116202289 | 0.3743073634134658 | 3.1430716003312744 | 4.732186013366645 | 4.0694667890231075 | 3.942201876260367 | 2.8003524300512495 | 4.174253875287336 | 0.6293162382281636 | 2.768529773968616 | 4.468708068332586 | 1.6699556092513275 | 3.665756880780328 | 3.7483029825532252 | 2.616341663445005 | 3.428192117778442 | 2.420945204365696 | 3.9992612081009677 | 0.42374806589743574 | 3.0192288743506293 | 3.9315689768295234 | 2.2837402448718374 | 2.2777298659004908 | 2.7549850226398 | 3.723927640908195 | 1.249285894010506 | 2.0718466971665954 | 3.917776833525605 | 4.0322907881963275 | 0.4687343929296778 | 4.105439231131104 | 1.6935457032405166 | 2.0723648494790665 | 2.3475704068992798 | 2.838364995373537 | 3.504674870824123 | 3.9564519520898225 | 0.5950571955563821 | 3.3713979817032285 | 1.48621275698822 | 2.625901076196675 | 4.663621491797061 | 3.0189448350902626 | 4.726215794306852 | 0.04717603750500898 | 1.2611198092045528 | 1.1165033379476625 | 3.700383889109985 | 1.0401018876104096 | 2.700994601449537 | 0.14124341298266452 | 0.8056810214271692 | 3.9352193215143694 | 0.8619645016190086 | 3.3203439891794444 | 1.5221563762072328 | 4.203590269946708 | 2.646680994669377 | 1.2058794686722725 | 4.443173899635235 | 4.766534471885153 | 3.5909801922278155 | 2.7560898811899417 | 1.0527109330625084 | 4.869910166423504 | 3.3904645345214233 | 3.1743637269550815 | 1.1234255749946915 | 0.7789595678520594 | 1.6294000609212145 | 1.2777728646802078 | 0.2551880744188295 | 4.215241204870038 | 0.25520528646050256 | 2.477434977087108 | 1.8481312650847421 | 1.110690832427614 | 1.882857502150852 | 1.8903864641006858 | 3.082825658195665 | 3.727318521534388 | 4.650363748753034 | 1.2318029620769115 | 2.998729705371902 | 4.6141091189449845 | 4.17083943729612 | 4.281876887645481 | 0.5389036585797147 | 3.227265649182634 | 0.3127759923161477 | 4.705731526790366 | 2.258644357524137 | 3.215561977447427 | 1.192956586584934 | 4.872954733013159 | 3.9091265162567828 | 0.37983456223697254 | 2.999049053011852 | 1.4783424495747783 | 4.986945163130752 | 2.24988564775464 | 0.6347112208956968 | 4.464859358353637 | 4.151033777561752 | 0.49456296294377144 | 3.4770108357560883 | 3.050714672140308 | 2.351782780397016 | 2.4735209020562534 | 3.0598938511041696 | 3.7182653349857926 | 4.6538326550431055 | 4.255123417166182 | 2.336184032558917 | 1.2954269206732731 | 2.88405419539267 | 0.5921179091499185 | 2.9639634039588305 | 3.531657956297441 | 3.537474275012026 | 1.963300147654436 | 3.2076015023729605 | 1.963339549570191 | 3.3587879193620935 | 4.0583030589414415 | 0.11607124396862012 | 3.0013257169100487 | 3.2008769252705265 | 0.8369584385196965 | 4.981248486957956 | 3.2587002154266465 | 4.740008912465786 | 4.612030905570515 | 4.971674476136882 | 2.5759764906102505 | 1.9303297076866284 | 0.16524896800314715 | 4.8931002552572975 | 2.1534094094891887 | 0.6597622302723977 | 1.5611124808765804 | 4.272429361857319 | 0.15144606223498058 | 2.449525556299445 | 1.1724705922453593 | 0.8657686899436179 | 3.671731735432153 | 3.8730572265746526 | 1.5612741469640956 | 4.475378492952309 | 0.9531165445739803 | 1.2266100018463648 | 0.5755672474628215 | 3.9857787106295364 | 3.8740624167605153 | 3.045936193620401 | 3.488120317363634 | 1.5876158465087509 | 1.4607804643294013 | 3.222995491392955 | 3.969426460334746 | 4.328761068405969 | 0.31500382368978896 | 4.026650414773049 | 2.091090532316679 | 3.4991939260777194 | 3.2948761035179963 | 4.597377046330501 | 1.4854624659864646 | 0.12502781065880209 | 4.512261353333343 | 3.9763793229182145 | 1.112885779606092 | 3.563149971074631 | 4.193347589501215 | 4.059678143598006 | 4.857770638402553 | 1.167908530428425 | 1.5110054599492662 | 1.1647992623564551 | 3.324251670253167 | 1.3491051588080583 | 3.7975033364547066 | 2.4538043688739664 | 1.3241341609912416 | 4.43926870561492 | 1.0170810029400912 | 2.575238099899403 | 3.161154030498108 | 0.4020736969511979 | 4.605060584159066 | 1.4446681875280758 | 3.2504256480004505 | 4.494024909828421 | 3.5187655515046705 | 3.4188212128790245 | 1.716147473263205 | 4.741623362395744 | 3.6935630661266847 | 4.805888829809063 | 0.1478515243202222 | 4.5533176029994165 | 0.10046028028724674 | 0.6763267117982746 | 1.4882012437395646 | 0.7173444759459913 | 2.0764214120857316 | 4.320434948462111 | 4.947950081530001 | 3.7105481649886825 | 0.40562217187390726 | 0.6624719366464649 | 4.7286223069233415 | 3.4047544097181 | 4.664190236243259 | 2.1487707363491375 | 0.605442795436415 | 3.4125531827774482 | 4.104208711229185 | 1.0295558369351832 | 4.923474278285541 | 2.5933091173134013 | 0.8899879319558684 | 1.0708769416757176 | 2.981680985795516 | 3.5108683383384243 | 4.0752897106470805 | 4.921944264881739 | 2.997225209724459 | 4.048169144554132 | 2.7555791932142046 | 2.26454041832981 | 0.2749785679748401 | 4.5059151724240945 | 2.394976110444131 | 0.8729924342814849 | 3.6455151013900746 | 4.163572332277105 | 2.619237429957013 | 0.8573485271974013 | 2.1866064372854237 | 4.184874459139113 | 1.685464471124856 | 0.8201975159445901 | 0.0957536271576509 | 0.10837701229442664 | 2.002432964446195 | 2.4013876045170113 | 2.4167255216425927 | 1.7463657796831022 | 3.350413956426368 | 2.3129097789311857 | 4.346354877030416 | 1.878844262185872 | 4.682447048490562 | 2.702090117478236 | 0.732032174307537 | 3.429835052801873 | 1.0469396733888865 | 0.9250597993953646 | 3.7096488747133085 | 3.3114123239664313 | 0.21794144876766008 | 4.071215549982698 | 2.4589250780106036 | 3.1088162202874563 | 3.5464729629602756 | 2.8182106541879937 | 4.521771718662743 | 0.46769891712038547 | 0.59024155485848 | 4.844443989250892 | 0.4738524085125906 | 0.39867650619384076 | 4.6853047359693765 | 4.70922253837448 | 1.5736191656560878 | 2.59200556350281 | 1.2316986688031495 | 0.6582863193678412 | 1.8460601960061895 | 3.851974284822455 | 1.4479368094853717 | 3.4278463258412573 | 0.49156441984902155 | 2.521212255987016 | 1.2630582763061287 | 0.7257627931555027 | 4.327546213032561 | 2.840444652080297 | 0.975384453461205 | 4.112892373447291 | 3.965909527195601 | 1.7081989618462439 | 1.5986654113271581 | 3.5628322214876675 | 3.0807863394038195 | 2.9552797710929197 | 2.8058068917871593 | 2.4247295608919623 | 1.015326717440566 | 3.1195233703106795 | 3.005671584759078 | 3.2375619087577636 | 2.60870477262457 | 0.10643550866428708 | 3.100936823563178 | 1.4968850422634072 | 1.795186217625766 | 2.178422801217427 | 3.3805517764474704 | 1.5921695412852832 | 2.981200516206965 | 3.7467870170441433 | 1.5831693065862995 | 4.4551061076187946 | 2.44105967402443 | 2.0683980379399363 | 3.7110449011664266 | 1.1108658797611821 | 3.9399046919167797 | 3.886643867646009 | 2.2000019247827445 | 0.8004519463676452 | 4.7297486648931955 | 1.7719867879302664 | 0.4359837968742175 | 4.957001599020334 | 2.529236992526711 | 1.4741602211217146 | 0.6350589202088786 | 0.7437839176735128 | 4.845454024537948 | 0.21586391907325864 | 2.235393735484192 | 1.0547093802289043\n",
      "1899 | 2025-05-16 19:54:53.837897 | table_row | sample_1 | 4.242615831319492 | 1.5722254380159324 | 1.527810156099208 | 3.0195298778312814 | 4.727461506521955 | 2.09515889240408 | 4.247709547285786 | 4.934881707410226 | 3.8423643144003443 | 3.721416517002669 | 1.6083634013389936 | 2.080831574358419 | 4.179394256961404 | 3.925433142223858 | 1.5382233689787932 | 0.9852760515030462 | 4.947889235939996 | 4.739578603165925 | 0.5403787062120841 | 4.845303253958779 | 0.0751160002494583 | 0.2242970210958367 | 0.6668023258502564 | 2.213318628523866 | 1.0697045706245651 | 3.9774430390067317 | 2.917867117756619 | 3.3804501292483464 | 1.4794807516144388 | 2.3957877613896383 | 1.7435145321502155 | 2.770422895817885 | 4.073871226899382 | 4.188875709457019 | 4.990004121072584 | 3.324215550317292 | 4.911559050700871 | 4.547678167374293 | 1.683966581565135 | 3.2710949100634723 | 1.932091130609379 | 3.2353153792602907 | 4.280472743254568 | 3.094058893626076 | 0.8799951974902714 | 4.5552111540938425 | 1.9099589169999664 | 3.8194454142142815 | 0.6149172709620082 | 2.6948984060194574 | 0.2335361412323983 | 2.183587612431114 | 0.9411510124189526 | 4.4383749629954705 | 2.121778167786963 | 4.816382869840565 | 3.951470580267939 | 0.7436210745170763 | 1.6035090371620337 | 3.6902090825916978 | 3.4682022965569526 | 0.24771496067294563 | 2.2342011705364677 | 1.4673423576535571 | 4.487687970810994 | 2.38072885149412 | 3.350329523094545 | 1.8248231158679213 | 1.201063281238146 | 4.547612310632042 | 1.1958791420961297 | 4.517000885090407 | 3.7052331468733897 | 3.219392700364581 | 2.3757461631170305 | 2.206592599272808 | 4.418915166435574 | 0.11382470742443251 | 0.872028982155677 | 0.47329791467211835 | 0.29564524779490675 | 2.7906985134506543 | 2.00829849460213 | 2.7876052194822236 | 4.781978843293428 | 0.339330549924326 | 3.8459593563136867 | 3.8303066743531113 | 3.6420950432022456 | 2.379976895093645 | 3.422696384668689 | 4.217114802971652 | 3.7312141722561174 | 2.3000447963906563 | 3.631889868108668 | 3.169044498113038 | 3.6032966203854757 | 2.9808229789805063 | 1.0758275905265813 | 3.2100427336782236 | 2.9781153125229127 | 4.736748350762745 | 3.3111474801220635 | 2.126146709072289 | 3.004179523761596 | 1.0740673805331935 | 3.8613575523304733 | 2.68833977621552 | 1.5015347121991574 | 1.742645149720622 | 4.010058053665625 | 2.2400378793523332 | 0.8019389497977247 | 2.9316256065452935 | 4.092101418407124 | 2.432548791293897 | 2.070911663330577 | 2.601191626295721 | 3.950899623827311 | 1.9586356739540267 | 1.653561582070124 | 3.2452564665719885 | 2.788808630336786 | 3.4956546658392273 | 2.277867767185491 | 0.3034375274343798 | 1.7145469941860774 | 4.4638122953842565 | 1.1393849407821244 | 3.7751100866241267 | 0.7299815748961097 | 3.2240039468433683 | 3.3505839063258835 | 4.629074952731388 | 3.449081487046701 | 2.6413448039770344 | 2.999580459550975 | 1.6937898942921825 | 3.1559722696552726 | 3.271650228661198 | 0.30859430685815203 | 1.6946936540510815 | 4.943051959948593 | 3.687606605519112 | 2.518960682283393 | 3.7298559404547147 | 3.385311373055424 | 1.44433776796702 | 0.47284377146224077 | 0.8790054208289416 | 2.0736148775216385 | 3.4142607491961225 | 4.02598943151753 | 3.4574124441032055 | 2.539529662893813 | 1.9254764196088048 | 2.9871650783940944 | 0.38960497364705804 | 4.383041778795247 | 1.3865721730461378 | 0.5601836713979302 | 0.8830796985827832 | 2.1019604278963095 | 1.725135239321962 | 1.0193550738202661 | 1.8707558598829088 | 0.1308549998638786 | 3.7806225998349174 | 2.394848686984463 | 0.8820628921847412 | 2.8718512041446154 | 0.42324550874679734 | 0.46120698298735996 | 2.0090429765085167 | 3.581734128353939 | 1.8602461001348454 | 0.7731806251626083 | 3.375804471728578 | 4.663357819784293 | 1.4481331518572542 | 3.2465782894172124 | 4.902710105701285 | 1.4129977378111676 | 3.186837768608704 | 3.0941676218113368 | 2.501362031713394 | 2.5165262357451623 | 4.091889269674495 | 4.714933304285704 | 2.6951951324368526 | 1.9560325396618994 | 3.5915400713125507 | 1.7398339319796792 | 0.5272825645289897 | 3.0444839107924775 | 4.350752098720117 | 0.13766673026896714 | 1.3282307422894624 | 1.8958655647627283 | 0.9056168696719563 | 1.133743869461778 | 0.9318310744914671 | 3.2417598463331943 | 4.885450698990629 | 1.5676517757012465 | 1.0679272818197556 | 2.9108737131309477 | 3.143423632389295 | 4.558966914119544 | 1.3528096390731048 | 3.921978244426134 | 4.048071784942516 | 1.3739002194357242 | 2.418913812717802 | 3.883489965956069 | 2.40256344218663 | 3.9870997566711157 | 0.9144979129980396 | 0.887482831937389 | 2.0345675933486667 | 0.13227996408129938 | 2.3609255868110868 | 4.1266142750215655 | 0.03308845885189371 | 4.485686141763426 | 3.7532772531893337 | 1.3984171565531507 | 2.4982457273204606 | 1.4400848945038536 | 4.634309582887765 | 4.3808796580746625 | 1.1659155246916797 | 0.8938262924678908 | 4.725604492671182 | 4.247849097262844 | 4.606333864777932 | 0.5307886110090626 | 3.898921230234506 | 3.9197227489545554 | 1.681211945182091 | 2.745532588780526 | 3.0718104083958746 | 2.030989686533014 | 4.768835866257443 | 4.593278064277528 | 1.6897061580310069 | 0.39476283660657085 | 0.15736521880155507 | 0.46043420398164225 | 0.8811312638081842 | 3.177870156393681 | 2.301516084234736 | 1.705628940359739 | 3.52978237101041 | 3.6822249706195183 | 3.4986128157542717 | 2.3942732301702767 | 3.0374696716524143 | 4.639105137604604 | 4.536742646389207 | 1.2932692616993164 | 1.5486186651814964 | 4.026117570652965 | 0.27318466688162235 | 2.1965674578458483 | 0.8395583771059767 | 3.131712923336829 | 0.6185987523424141 | 2.0494948700961837 | 2.627877548131657 | 0.18272765229361776 | 1.1802548401934743 | 3.2066995892429135 | 2.3390277207558237 | 4.419717866944464 | 2.37860441604628 | 3.560174853288725 | 2.4604423063494374 | 0.18849846189243458 | 1.2537763501212151 | 1.1283329204870218 | 0.8170062602188949 | 4.861200726364333 | 0.828836288476788 | 0.6031046859409328 | 4.139466814944612 | 2.306889149644771 | 0.05407051566909904 | 1.0201479354187304 | 0.2661287762843584 | 4.633646421242281 | 3.494494255564784 | 2.710628863202786 | 2.0951602391930386 | 4.523240177498048 | 2.8162980489066447 | 0.1472960221538422 | 4.184136497026144 | 4.254180134681388 | 0.8139953049507997 | 1.1204677769022242 | 4.990515969143605 | 3.1095167458440227 | 3.106950759510637 | 4.499329981313767 | 3.268635650482775 | 4.958219502482238 | 0.10245922025944487 | 2.6609164961889364 | 2.618041085084104 | 0.7381063386831671 | 2.1651068490171728 | 2.096907931115071 | 2.343092038557249 | 1.0993550574264865 | 3.3145082557613192 | 0.36452438114649377 | 2.505807659767625 | 3.705329044449997 | 2.770586887591021 | 2.352249227649815 | 3.220799194564161 | 3.1832354607833526 | 2.687357165627521 | 0.2856204350307612 | 3.963968537630681 | 2.5950621593259426 | 4.012548300061799 | 2.0237915499748738 | 1.9474063556781123 | 1.8023585919804175 | 4.050290033208399 | 2.5673329932328306 | 3.940245576454628 | 4.599183933337262 | 3.7503616550854115 | 0.47786558072686225 | 0.8952234943384502 | 3.8947419278584494 | 0.35887136668355746 | 1.660797928513131 | 2.803412228792332 | 3.9123024197888694 | 0.603949620884705 | 1.3530949709964613 | 3.567812918807358 | 2.228189715574369 | 0.9308937714437471 | 0.4742774149496659 | 1.3521509608583815 | 1.5923180417254716 | 2.015768100344877 | 2.2513766156154933 | 4.20077193246474 | 4.428018098906467 | 1.0195771895963979 | 0.21643270012936977 | 4.417543871115392 | 1.6421621826813309 | 0.07747070327691341 | 2.0900155769255004 | 0.4569916626287779 | 1.3598001847827206 | 0.4438724997766058 | 2.6207549486936923 | 3.429817930736025 | 4.0636043351742455 | 3.411941938864136 | 1.728648032838609 | 2.6090487682548824 | 3.9607889284990487 | 4.254896469712475 | 2.5666396246364083 | 0.7774770299467648 | 2.308082710869026 | 0.3479908482456501 | 4.245822246109038 | 1.6170279160852508 | 3.570470786509035 | 4.987081858986023 | 2.329010859423974 | 2.1538810898528356 | 2.354658875733366 | 4.269269204345206 | 2.333444405643115 | 4.505220843304968 | 4.783561492282151 | 4.047216598951754 | 1.3663234867012197 | 1.096487618344889 | 0.8102900258185763 | 1.2712239405969021 | 2.801826006600092 | 4.16888002629375 | 3.5331080470035365 | 3.4632909631250057 | 4.457366811680888 | 3.374877956658539 | 1.223828944426818 | 1.9967279131295412 | 2.6926532814629827 | 0.32020253666564025 | 1.7122021552526556 | 3.5640548093141877 | 1.2630062713914487 | 4.08718271695074 | 1.4762873299559043 | 1.2228184822630361 | 1.1007705372939984 | 0.0281039193171978 | 1.238394958987536 | 4.543984615690376 | 0.30299867375679634 | 0.7245126709553124 | 3.4209697783064614 | 4.998576012831923 | 4.03144831369342 | 1.9872094261542457 | 1.1114648430505385 | 2.397607863868938 | 2.1297306638094997 | 1.4170405768710026 | 1.6267808216787005 | 1.7478402274962161 | 0.9607349014025657 | 3.0663501155993367 | 2.5607568533983276 | 1.1828326072387085 | 2.6854442994002725 | 1.406487288096464 | 4.97310843068963 | 3.713843355541975 | 1.6571015622768033 | 3.1755211142249813 | 3.4836982959730936 | 2.5533458450156927 | 2.35118648716812 | 4.560318963039683 | 1.8747736148047756 | 2.8052198135018664 | 0.6214310101247777 | 1.7633289382183475 | 1.3938769843045025 | 2.355679271412839 | 1.1592935887606748 | 4.87742442088736 | 1.5782261635687245 | 2.1522912436994712 | 4.871319734978057 | 1.634335429807715 | 4.44469513067553 | 3.9263204513138468 | 2.189494329742379 | 1.6118999775363763 | 0.4352701933807879 | 4.2299365530575495 | 2.7760858483645072 | 3.5804060279184515 | 3.6609469237162346 | 2.367951097941308 | 0.8612771284365961 | 0.5314506293221855 | 0.29989860601698726 | 2.3250779343300634 | 1.0332335523349734 | 0.2512341978027266 | 4.505200578602581 | 1.8987455943694882 | 4.733082561482919 | 0.201259433832775 | 4.766932759032306 | 1.0885514846604876 | 4.531738001854136 | 4.817683704410417 | 3.97823079663195 | 1.325753418702671 | 0.002743112223180244 | 3.8194202012515817 | 0.8037586568094574 | 2.952412125546471 | 1.8280928303758075 | 1.1057720956768358 | 1.888556995426252 | 1.61930528659319 | 4.8031332754318985 | 4.345128245127478 | 2.21032144709877 | 2.0519671536637385 | 1.1980276251006146 | 3.263762846691733 | 2.733094303721445 | 3.875901120893132 | 3.561606907533533 | 1.2901172261179972 | 4.777224089856837 | 4.8321885718587225 | 4.149240451478048 | 3.457528844642031 | 4.264901150007529 | 3.715910045804544\n",
      "1899 | 2025-05-16 19:54:53.837897 | table_row | sample_2 | 3.2092744763271854 | 1.617857025616329 | 0.6351147615436326 | 2.7163746439817875 | 3.8156462900579315 | 0.8989973857656997 | 3.210922877706971 | 4.28350843626295 | 1.6003343440268964 | 2.864244919675072 | 4.535524047964257 | 0.680145682471423 | 1.6636178356479758 | 0.1643149864628607 | 4.326509619591797 | 1.5958061309674427 | 2.112615510254128 | 1.1740799469702607 | 3.236273260514324 | 4.964223584650778 | 3.479078378839767 | 1.379656182927131 | 2.8273245786052073 | 3.8689638914152615 | 2.6477795684843315 | 3.93000076699788 | 4.807422309872536 | 1.3710545957202576 | 2.446495423127524 | 4.1562255853315575 | 1.5480316324232573 | 0.8630086966746953 | 3.7413445536441947 | 2.6833384606983723 | 2.8204589343213406 | 2.7420275733214505 | 0.7575002691298655 | 4.888466701925777 | 4.506428837997906 | 0.37114657695367037 | 1.1278499937876763 | 3.4917820056552507 | 4.40741391835761 | 2.288903808408003 | 3.0597265772018427 | 4.295614166468083 | 0.1341187925558407 | 1.9678670745101305 | 4.326362501964031 | 2.5706425697140736 | 4.271294848724027 | 1.7309765080504491 | 1.2747423928015045 | 1.3922167416967572 | 0.36907310421802286 | 4.860127468689494 | 1.5240750707648716 | 3.713525332069773 | 2.9934465802960846 | 2.304652035672941 | 3.1224582758107777 | 3.9065160866097393 | 0.5674545832539751 | 2.310336586673799 | 2.780210336805296 | 4.968317602268683 | 3.5699443034213063 | 3.1029288729948865 | 0.8382573788806091 | 3.4734990192206956 | 1.3340607213983913 | 1.1742100505448323 | 4.517352964046067 | 0.46858594370928985 | 1.9776614426181078 | 3.5440697465020103 | 2.498181751837856 | 2.4391318945396634 | 0.2080281772756104 | 0.47535328234325935 | 0.23747383153145674 | 2.5388087663253307 | 2.7684474568392003 | 2.1401654673821477 | 3.811274805344349 | 2.645514502514027 | 1.601822738399446 | 4.913956586879591 | 0.2992345599672752 | 4.649100340382112 | 4.857300684392372 | 0.13044638948823795 | 1.5448107822438155 | 4.185146490926513 | 2.494717323382285 | 1.8867337796638317 | 0.9048842388759704 | 3.5060654445732857 | 3.3201905799306797 | 1.1783805370470817 | 4.068820083591371 | 0.6308101879170019 | 1.1611239916536065 | 4.2354456349891905 | 2.52431812078414 | 3.7340169714520215 | 3.8175372010947637 | 2.6570095899083856 | 0.8523803762802878 | 2.6993673037194115 | 0.21768222571067475 | 2.407095537320913 | 3.97635790024509 | 1.956430589068302 | 1.5071307280768165 | 2.387884865488989 | 3.0352109534780665 | 4.478987730664862 | 0.3126949769496562 | 1.5689764583187649 | 4.575927935031923 | 1.5220357478811564 | 0.9081811466432776 | 3.2245955422429047 | 1.3060818681845694 | 0.2475892257771778 | 4.941866341804761 | 3.034956706130415 | 1.509445108432605 | 1.3537276597550822 | 0.11985480252746039 | 3.297915757170756 | 0.8306425820777458 | 1.1958074009998758 | 4.762545627650226 | 1.813587004226895 | 2.8318944303397835 | 2.9390845941998993 | 1.142046881493704 | 0.3502319746866889 | 2.009924099590725 | 1.7875706016602648 | 0.7153480891291908 | 0.05074580381240368 | 3.923783719557479 | 3.80430085957103 | 0.7360828446632539 | 4.426447881215822 | 2.4440122498792096 | 0.6530610564833467 | 3.025470717511118 | 2.7222715640469164 | 0.5791828953928957 | 4.787291911772351 | 0.5552371046952131 | 1.7046069267328772 | 1.797161516939857 | 4.826542589618244 | 4.395567922588348 | 1.0698604170620063 | 2.489308883358645 | 2.3789728249669957 | 2.5549159613317576 | 4.068223855673453 | 3.6752505931334616 | 3.438197674956572 | 4.144785963570117 | 3.2466534274251 | 0.13233738703950448 | 3.969343753069966 | 0.9273419987973597 | 0.07689948979572703 | 2.546891217306509 | 1.0166454745947844 | 2.480669969257768 | 2.2268765238216615 | 1.2858340025533799 | 1.6114879949931804 | 2.83768104458542 | 3.8348172559198823 | 2.776465250448563 | 2.9426109827274556 | 3.444318331327383 | 1.5111388933035308 | 4.713699203299233 | 1.681555459257424 | 2.8300988387827064 | 3.628662848694098 | 2.7373510593030908 | 1.9286605397288992 | 4.492376533597379 | 4.629194078012938 | 3.6359840601927758 | 1.310754778764816 | 3.332069783976812 | 3.322001882774397 | 2.5759197360347645 | 0.3307794349773119 | 3.4048254902452335 | 3.002455183626418 | 1.4325182880209486 | 2.665239154966548 | 1.717057292477056 | 3.3812589246207905 | 3.7598899308838893 | 2.273886271051194 | 4.437177389954598 | 2.1050249887048733 | 3.1794566319136397 | 3.291300937154036 | 4.885070888960032 | 1.819852491353609 | 3.2249321067225245 | 2.604401481690941 | 3.5965035270324752 | 4.157220396195792 | 4.047490658233138 | 1.6659725294724492 | 0.12535333153928907 | 0.1397722929445122 | 4.108996749439755 | 3.279057423629152 | 2.103232905482419 | 1.9797237512750654 | 3.0938671043170363 | 3.6630446362395332 | 0.8885712487334502 | 2.5309567654987593 | 1.739584198620407 | 2.5304050827011397 | 0.05213328083791269 | 3.5790338336598895 | 0.38504238420051795 | 1.110531421918356 | 2.2849171429537947 | 2.3192588645239947 | 4.938198075180846 | 3.0148315148772937 | 2.9750721810607956 | 2.956513980810293 | 0.20025208625139845 | 3.1389423484081176 | 2.992681522691699 | 2.8387431712947757 | 2.911665998007776 | 3.975254698680067 | 1.6046671361147846 | 4.620085864954798 | 1.754341122234591 | 0.010227808215875211 | 4.746651242387122 | 4.364177301532204 | 3.1076137932873578 | 3.771885255847851 | 2.1253870320599115 | 0.4852869001933574 | 3.8515402770828273 | 0.8265646266726351 | 2.0034840201042288 | 0.25195167621371917 | 1.2862852727654435 | 1.1036568466068497 | 3.7607015606311145 | 0.07642854312350011 | 2.473416255983812 | 4.470374493309598 | 0.776020793754949 | 3.007116826188754 | 4.806945651341204 | 1.1549798210955746 | 3.3645916502539834 | 1.511685772958511 | 3.577777435571133 | 3.598275423717736 | 1.5859366506633203 | 3.662201605270195 | 0.196924590760576 | 2.7824557816387774 | 3.705334602491068 | 2.9152794631276384 | 0.9054149254687532 | 0.6533288068916082 | 2.2124573428104934 | 3.3939169019057776 | 1.582485179139646 | 3.7548869205450592 | 4.832769950284743 | 4.594881149479585 | 2.1633996746376543 | 1.226436479185603 | 4.59932087550844 | 3.4858623832714413 | 0.4826014975957782 | 1.7000345140924311 | 2.076966526182222 | 4.2565541747791436 | 0.684383779887312 | 1.9522772895033447 | 1.1497853396554159 | 2.6194194085114573 | 3.3168401258009723 | 3.441910871592009 | 1.0126371644549093 | 3.2928249918443004 | 0.9574536914570925 | 2.821166642885344 | 3.9030170268404163 | 2.860726936480761 | 2.882487381656233 | 1.481725767837883 | 1.6821918841350696 | 3.340575016199855 | 1.1601765039458611 | 1.2735727277366022 | 1.9037484009094852 | 1.8181545982412533 | 2.338237937124679 | 0.430451825661437 | 2.261335826712785 | 2.4941210476851645 | 0.6219968078797439 | 0.39732789824729775 | 1.1710795449010059 | 3.249330476033399 | 3.1754498259809596 | 4.4014121739121945 | 1.1647762173532699 | 3.068877267968921 | 3.779003113714183 | 1.988374572312865 | 3.716850536134182 | 4.264886066892415 | 1.2360970224047474 | 1.3182473477161216 | 2.737471730388128 | 4.949082434979381 | 0.5890524706478978 | 1.5885064185048048 | 4.60972353280238 | 2.1870937505374677 | 4.355738979942513 | 4.311058316819964 | 0.568294407205972 | 0.44165235196492125 | 0.6046680880007455 | 0.06442059172139358 | 0.8116932990879822 | 4.8272612724897614 | 4.277551386317163 | 0.6520192593284757 | 3.0701578375851413 | 1.640076554512323 | 1.6125191320065952 | 1.99078886913505 | 4.786338036909489 | 3.5525348336626346 | 0.18405921878308362 | 4.969674845382946 | 1.3246425604270762 | 0.3919130261435477 | 1.8805973521381225 | 4.750066667657817 | 0.863379805669815 | 4.956450784935765 | 4.741046925472856 | 4.851577638737761 | 0.6084304158695675 | 2.3329277143376608 | 3.9239081254867814 | 4.01980087463503 | 1.5917049890872987 | 0.2084906143816606 | 2.442097846113031 | 2.720824215728426 | 1.672210255471246 | 4.173970240519706 | 4.3871710016392065 | 4.815225507669175 | 0.6867514368761979 | 0.7033850590109969 | 2.863701435535431 | 1.4661368880735197 | 3.539072902786989 | 3.088828902422414 | 0.786153302893276 | 1.100841068197943 | 2.0399439835240996 | 2.0466354830367566 | 0.7284500757762663 | 4.447398270272208 | 1.4152650366045383 | 0.4732192349150216 | 1.9909570598534265 | 1.1919552569789134 | 1.2847418453257147 | 3.4012053791890926 | 4.341709582607906 | 1.0713007368586946 | 4.774797357712184 | 4.5057271517386885 | 2.1659680053000647 | 3.2292934582972843 | 4.153477891933885 | 2.9923523733607995 | 1.6956640823065232 | 0.4003798035675238 | 1.673483980410186 | 4.779659175837766 | 0.7502475546746734 | 1.2678994655706954 | 4.482656410353466 | 4.158091937781037 | 3.5735776074700674 | 0.1692609007519208 | 4.216309245089709 | 1.3590827489659567 | 0.5069846853719051 | 4.455563872264408 | 1.3296589955135434 | 2.0396433433865497 | 2.3230038097465524 | 1.2756258633674604 | 4.910328613549118 | 4.919552892192342 | 3.2166552492702847 | 4.489874721082093 | 0.7852534525535743 | 0.799556296630492 | 4.566185282346142 | 2.3882300876058107 | 1.677418477124738 | 0.5436403960579023 | 4.638322359762437 | 3.4037428882403487 | 3.6740571306309993 | 1.903516001694714 | 3.319279885933552 | 4.215992549165246 | 2.0716167938179746 | 0.6539980496281267 | 3.003652410507163 | 1.2176477968862072 | 0.7101522783685082 | 4.089173232448629 | 4.534908248829922 | 4.378871857535005 | 0.6934887584886412 | 2.3945557869486596 | 1.3121481888390985 | 4.124961032634921 | 4.147647211874669 | 3.4500855816201215 | 0.2657281582173582 | 2.0847384404143448 | 3.537464120813448 | 4.655405920206153 | 2.287619835622837 | 0.5252268731521692 | 2.7865920693834303 | 4.127902387824305 | 4.161661360412668 | 3.7593976536411633 | 1.8868863577188448 | 1.4422611497488154 | 1.2377129933171194 | 2.7799869524038896 | 2.3440074949263208 | 4.006370605020323 | 4.298528103886983 | 1.477476210577355 | 2.4306172534773647 | 3.5879911787577248 | 3.21440239372011 | 3.4653825065430195 | 4.4786783857872905 | 3.013537003795332 | 3.390000900669663 | 4.781702041869212 | 1.2762595791667568 | 4.473150905905116 | 2.974961256848671 | 0.8195733113951487 | 1.3919110092438947 | 3.1091432374765415 | 4.751674265886912 | 2.076078073529011 | 4.411236612729093 | 4.830933743976532 | 4.80544243393574 | 4.834181444142011 | 3.985497800728741 | 4.619205044276454 | 1.4786891282929786 | 4.704130117442399 | 3.981675229206851 | 1.3036705749876183 | 1.9268209344483518 | 3.191037701431783 | 4.142917824797101 | 1.486063087181394\n",
      "1899 | 2025-05-16 19:54:53.837897 | table_row | sample_3 | 1.7474949258934087 | 1.6564027975530697 | 4.356902534891064 | 1.155497159794376 | 3.676942431127869 | 2.4567851436769583 | 0.5807124798037433 | 3.9481086923223123 | 2.12378730037313 | 0.3751448552530873 | 1.9893980277735572 | 4.842123699109252 | 4.505836777325202 | 3.2014403404642486 | 0.7317336905891064 | 3.7309455436121466 | 2.2211019508598047 | 4.896235493797104 | 0.20891856623437177 | 1.4264979353303853 | 0.004118486991964154 | 2.8339162930269453 | 4.412491284536973 | 2.849322256775179 | 2.92688075804107 | 1.41549698208105 | 4.3032592717058735 | 2.8114041052000966 | 2.24051295262412 | 3.4113934174960536 | 0.0040946473024011665 | 4.895185841747222 | 1.5908005802419627 | 2.844596642456451 | 4.112429565854456 | 0.21523542935630746 | 0.7044444662509708 | 2.6556554506883523 | 0.1723980167606659 | 2.7006702197250485 | 4.766306375158474 | 3.8063560570512096 | 1.7107051333168688 | 0.7909378343945855 | 2.5035471534710823 | 1.1640892835595928 | 3.9842851057255935 | 0.9060549743710095 | 4.381331504249838 | 4.665124289495174 | 3.751096803187934 | 4.448009339774071 | 0.24030921298939634 | 4.106454979964612 | 2.0719200341441057 | 2.715725372701725 | 4.389149478139541 | 3.8244161742431855 | 3.376230823502931 | 3.830957457373509 | 4.439275139910648 | 0.0679965066909527 | 2.383695196108182 | 1.9135503984983837 | 1.1306281921039667 | 0.9563638658947965 | 1.8912654479337738 | 2.2852859448546 | 1.8268047163000423 | 0.9121826605399486 | 3.5115328797778416 | 3.730499425024173 | 0.7621123217987069 | 4.276527897602904 | 1.544249753305083 | 0.754575558369725 | 1.8518779535281171 | 3.9081704435464255 | 0.5911959424178598 | 2.0098028474326775 | 2.2143521041205645 | 1.1310163357024678 | 2.4593496871752425 | 1.8496610027212395 | 1.203563098246772 | 2.7838911855773407 | 1.3218636573376674 | 1.5511070630867203 | 0.4197703130577829 | 1.7754448608371427 | 3.4118791828232062 | 0.8516082683893494 | 4.418524297302861 | 0.2825569408099199 | 4.002887334081607 | 2.005603159047112 | 3.6087848299852814 | 4.14679912691664 | 3.7660322265814674 | 0.4630191580352927 | 3.9802453569038576 | 2.8892362659078934 | 2.9336889967999524 | 4.130023075818461 | 3.4183658519841664 | 2.46643306941483 | 1.3064586942304146 | 3.7745394392991676 | 4.380940391418284 | 2.763218561736175 | 3.717976858582645 | 1.5732122252428233 | 0.24462097370013314 | 3.3169981712173913 | 0.20770650887896147 | 2.8611668420828815 | 2.4962232595860456 | 2.23527212525676 | 3.4042538296101017 | 4.1361065215347494 | 0.6838281028130966 | 3.0682013575236233 | 1.14446301362551 | 4.237731017266722 | 4.781763968633868 | 2.4044954432976278 | 3.7980801320769992 | 3.888584165329421 | 4.412114346783659 | 4.669013697300194 | 2.2370952393387733 | 0.1243403832491391 | 0.7534496202961322 | 0.5056349352775358 | 0.6213553504202474 | 0.8028698602563272 | 0.5612713165292099 | 3.6254205747607204 | 3.949701798255823 | 4.820337205666411 | 2.944985329229834 | 0.3636895531521228 | 2.370516952248804 | 1.5262822550029942 | 3.650870456890182 | 2.338448619614108 | 3.4568015863880106 | 3.534283405357257 | 2.7284321075551263 | 1.5258133569862864 | 0.6833925582720835 | 2.670152708621343 | 1.6706310309570205 | 0.9101609071242922 | 1.0311185755908525 | 0.22432010864374463 | 2.688078760190658 | 3.2263171666757158 | 2.004667276200843 | 1.269089735108981 | 2.8984710624686305 | 2.5354498263671044 | 2.2482488559157936 | 1.5040163993134192 | 1.6708357440230803 | 2.6488187493454967 | 1.3725726329644687 | 2.1418090992457293 | 2.752936898119713 | 1.6670156093836423 | 1.8422872313903904 | 0.4941013855721793 | 1.2569576296506284 | 2.840114625305685 | 0.8977652194616143 | 1.3773547400609165 | 2.9366780116041573 | 0.8847283730285888 | 0.0676657109782991 | 1.0039871700845198 | 1.952069598155906 | 0.19300258531911363 | 3.183073607394035 | 3.4692771937553255 | 4.459852566946644 | 3.3528140246571922 | 2.7332656584847284 | 2.3134349903822966 | 2.3549979304399002 | 2.3245380593853175 | 3.732249697444452 | 3.956131496461282 | 3.106248198055153 | 2.9310591576426352 | 3.4291643429307888 | 4.703789426230939 | 4.46287616109199 | 0.08715950939672035 | 1.095073268674247 | 2.8837802293251666 | 1.5744808400199766 | 2.435814411876856 | 3.541409723521685 | 1.6042649513725293 | 0.46847351553943983 | 1.5439449991033256 | 1.5293620193594664 | 3.1026556340130833 | 1.2891624335226948 | 4.773918236625588 | 4.280291313449221 | 2.8354555809444886 | 2.4551549717693626 | 0.3117690777803711 | 4.278391003572152 | 2.659959833588135 | 0.37433638955807924 | 4.814594086668763 | 4.182737857753192 | 2.8237813758211265 | 1.2744286323852216 | 2.8677569457368888 | 4.412486187523239 | 2.489019235776924 | 1.2660377389588096 | 3.1474912906594046 | 2.408905967314471 | 3.538058731291482 | 3.4608706088806156 | 3.629498785203787 | 3.788511444694965 | 2.229411235142573 | 4.821731849847843 | 2.0531103839025207 | 2.4975411196540263 | 4.39469620336357 | 4.4922228762265215 | 3.219680807607105 | 0.8157232370964324 | 0.04578505041345493 | 1.7970766706378205 | 2.2826071853870316 | 3.844358339104229 | 4.962779496191477 | 1.1842699823718155 | 0.12180091496383161 | 1.9321059297021825 | 0.5103987133698323 | 0.3925359723584637 | 4.8108449287003205 | 0.9502028628643922 | 0.7070887953168925 | 0.4004952707655418 | 0.7953995268834579 | 3.406200223503651 | 0.7104562044182783 | 0.6448788932900268 | 0.39627935652974955 | 4.942072751880934 | 3.0692894148226135 | 1.0751230536233174 | 0.29111920084648024 | 3.924464862198853 | 3.053054384824301 | 1.5915321741096156 | 1.7533032540304772 | 4.851795820837735 | 0.725189660597233 | 1.3679624799629342 | 4.577543446375728 | 3.5835480697664575 | 2.81926208428262 | 3.1344158896608905 | 1.0872425710399558 | 0.8402280722184247 | 2.73799586707212 | 4.582541518675926 | 2.97291713920214 | 3.430862472057885 | 2.1851097266119694 | 4.184264470470928 | 0.5574355746514698 | 2.9004051969928084 | 0.8489713410111399 | 3.945892668945013 | 1.9460822925890913 | 4.853361357587306 | 1.4550844548549695 | 1.912513366364677 | 4.038297116499842 | 0.1941623946472637 | 0.5862611999213607 | 1.2666272503271552 | 1.9982391828985517 | 0.2628207192016513 | 3.214805472080818 | 3.380116849188743 | 2.1516063286809857 | 4.815458973791971 | 3.428969505540327 | 1.4393159992903866 | 1.2246988650037456 | 3.513438142718555 | 1.9709592705688523 | 1.9126563753586168 | 0.9605577831307383 | 0.3524621417901652 | 0.6380057614508067 | 1.5482642824679715 | 2.6885935311854707 | 1.739070397118786 | 4.642714649510424 | 3.835743811665793 | 0.4863467717205089 | 2.8664368874213952 | 1.156989964107441 | 1.5737388202156737 | 3.3668660942797675 | 3.082201576119898 | 4.019465783875438 | 2.4067991087197393 | 3.502355519369588 | 1.907034366819964 | 4.317399527969425 | 2.419618490002164 | 0.7392847101135741 | 1.7909305664883584 | 2.8101856781439145 | 2.6563867665252476 | 4.38314738112899 | 3.4369262533780756 | 3.5985960483735036 | 1.2344681736793617 | 3.7791337437420323 | 1.8426005689542002 | 0.13626119766814104 | 2.575749253257489 | 3.7593334488483485 | 0.2363293181289744 | 2.2192054421953964 | 4.296612267108183 | 1.325369340645357 | 1.7112384616708542 | 3.716896867412902 | 2.6902583416939025 | 0.09594626321939637 | 4.549285928983369 | 4.6876753473056585 | 4.780087617479075 | 3.1207028782210244 | 0.15222675818146625 | 4.322052395650774 | 4.810439037544699 | 1.8935091154305832 | 3.067677801501512 | 0.8660311017985001 | 3.6663701121685714 | 0.3749808770710328 | 1.544945197680474 | 0.16839615195444468 | 0.20761985315550013 | 4.402079206594214 | 4.941079035544472 | 0.15136750073322325 | 2.4174928672686096 | 0.9822525476719357 | 1.3018442401742165 | 3.5571595168371473 | 4.11513296027644 | 4.267196709100437 | 2.231847646956364 | 2.708274781575798 | 3.4394379269356765 | 3.925487738226579 | 1.894339770291889 | 0.8561058700734314 | 4.985007488517847 | 0.449578893384055 | 4.832542366813756 | 3.4316067314548815 | 1.238255907821395 | 4.577903108366129 | 1.810503285611037 | 4.437527562287355 | 3.5633329243250533 | 4.313103253734054 | 3.5987068026261975 | 1.4560221071947828 | 4.611219692460879 | 2.9621383150672376 | 3.0519456137473187 | 4.181893569488634 | 4.916969018526526 | 1.6764531978743857 | 1.5437067359381658 | 3.7592798377058663 | 2.0743316419608937 | 3.3763573451600246 | 1.7618072248284222 | 4.510850045241365 | 2.479267346916111 | 4.627452385025175 | 1.0085701883095721 | 4.049675704133869 | 3.9101150527523503 | 4.977289631654333 | 0.9685765056330781 | 1.6152277996964504 | 0.2615307342273654 | 4.953111299435266 | 0.5007132258741176 | 0.7880044857622159 | 3.816320866968091 | 2.926818197766358 | 4.872814758712433 | 2.4822045366256953 | 3.836509640924339 | 4.566601942614701 | 4.01429932926007 | 0.361843873676978 | 3.949193915208802 | 0.6932337738340372 | 0.6506644949565837 | 4.308535431142833 | 4.962915012439836 | 2.7598230485456625 | 3.414202616763575 | 0.7544113115800666 | 1.1254205970685942 | 2.0973545280185837 | 3.8208649389177554 | 2.5186616315781873 | 4.939059594782388 | 4.859098510103826 | 0.9421149501902032 | 3.177667811905364 | 2.4973444382864933 | 3.730259057800451 | 1.8720607928712552 | 0.26188426612493154 | 0.7154409291910208 | 0.7227123287742959 | 4.580351559857855 | 2.084386175515312 | 2.1165523264481365 | 1.080550803432681 | 1.7496721356652245 | 1.027696281256238 | 3.9322532429778394 | 2.555214063887684 | 0.4881177135110498 | 4.997693329861748 | 1.0661111863642525 | 2.633267567734454 | 1.208157793172192 | 0.216869655477675 | 4.29421858081772 | 1.0372739476117583 | 4.053906657996489 | 4.9522809729595485 | 4.746573825239332 | 3.9629409338244272 | 0.6055582559473566 | 2.1038219935024953 | 2.2112159870153576 | 1.5456682402219368 | 0.2720198983239591 | 4.2393986370003445 | 2.7521699771154933 | 2.7631836428878778 | 1.2265373493534992 | 2.582354360574564 | 4.388296144483789 | 1.6193924297153506 | 1.5358407237853995 | 1.064332143553779 | 3.66159777437073 | 2.336228557013484 | 2.6539925506913518 | 1.0303413398735795 | 2.142127500516666 | 0.641960582971029 | 3.7673759829717994 | 0.38523648997814575 | 2.7012401781692392 | 1.9249020022012626 | 3.649184974840598 | 0.5035547732091811 | 3.186764118158333 | 1.1459889874197937 | 4.531890084534356 | 3.5715451245504815 | 0.5641500973617414 | 0.2085992422509897 | 2.1719601040489733 | 1.1353668797780314 | 3.1814244394069298 | 4.4159471846828176 | 3.6261152292405594 | 3.9539548158024784\n",
      "1899 | 2025-05-16 19:54:53.837897 | table_row | sample_4 | 3.8636469535977787 | 4.963065727506831 | 1.3708141750654357 | 4.53170972969212 | 0.0008588351871319233 | 2.924808120797256 | 3.165415592279473 | 1.3794991830732561 | 0.40375432712486614 | 3.5243804147700306 | 4.631740963273162 | 2.4314901203515458 | 4.796173044268395 | 0.20410704166779203 | 4.339088311859432 | 4.571337160335214 | 3.437241965584457 | 1.794197096534536 | 3.0000319977445655 | 1.019573388947637 | 4.05579550929104 | 3.096269035297249 | 2.7241971034136037 | 2.827600151457001 | 3.203758496797104 | 2.312668758943807 | 3.4250993062448187 | 4.8299282458375865 | 3.572560987912394 | 0.8981366493747839 | 3.5947091874786192 | 2.021061448084109 | 0.5419052188384055 | 2.9889628607972805 | 1.1732712720602128 | 3.6861209042051564 | 4.898093653713777 | 4.1839186354023195 | 4.323297555290352 | 0.5831315922458391 | 1.7174235753379907 | 3.8363635172472055 | 3.2780129109232634 | 4.2933436244486005 | 3.0114612853188314 | 2.5230334298010875 | 2.8816068794580403 | 4.621915493581154 | 0.2821732204907307 | 2.5609828066388647 | 4.507669830812775 | 1.7201283183514515 | 3.853702979290197 | 1.8129385941447818 | 3.42643895114853 | 3.6731934875929513 | 4.551922577594011 | 0.4913487268489619 | 1.7487158080908043 | 3.8615487217269524 | 0.09264055844361796 | 3.9585638419438385 | 2.8304087041624006 | 2.0454152215042862 | 0.44775275311499496 | 1.8142329218945235 | 2.7595736012027476 | 4.346233246323099 | 0.9339400439949064 | 4.80471123118382 | 2.7503109445241942 | 2.2496635919189885 | 2.8135203088557463 | 4.668572437907491 | 0.6956102218607724 | 2.5624647771377496 | 2.8132542474828144 | 0.7093457376055845 | 0.42766210386878556 | 4.2703435064787705 | 3.153949982873498 | 4.8456708755422015 | 4.49577994056102 | 0.9866966550508666 | 3.9010680101043738 | 4.83813536847167 | 0.9433342354936713 | 0.6003503763919432 | 3.7158068785686433 | 4.501473842621849 | 3.4382969909507155 | 3.618397868713477 | 0.3092730070813515 | 4.752580909812477 | 3.3037978471004523 | 3.784953433295179 | 2.5853793086345807 | 4.573085289316255 | 3.304366638932162 | 3.390269544531652 | 2.3336175481768717 | 4.211197990080791 | 3.8493236598328635 | 1.539752500859148 | 3.6527258263679747 | 4.557671073319653 | 1.0363709676213795 | 0.79344673817344 | 2.4724145942774483 | 3.585773331873814 | 4.070419650256575 | 0.7906764990422149 | 0.16667875815443212 | 3.1321171038979796 | 1.217130969448585 | 4.067487999392477 | 1.6012239330414517 | 3.8712715868186995 | 2.165723969633235 | 3.728420886243165 | 1.5595933426360116 | 1.1873053349107254 | 4.288157976126568 | 4.884223755130539 | 2.4600854624228665 | 4.172920317760046 | 4.7730491525244005 | 3.185837882501998 | 3.7696901974801817 | 0.6049864504282548 | 4.906734328624823 | 4.42373837584986 | 3.109780595220567 | 0.5761400807879113 | 2.093939239840915 | 1.9756736481483317 | 3.0229795217689466 | 4.01503962178375 | 1.119145534081552 | 1.109542700262633 | 3.7049344205068433 | 1.983511159686611 | 2.4844960895632298 | 2.0221266057389413 | 4.164019605576322 | 1.6459709518856709 | 2.2610952674049214 | 4.355092230358112 | 1.9934536356100914 | 0.04038603650684536 | 4.886983182464151 | 0.4025746984057521 | 4.197589582809273 | 4.728816284763135 | 0.7120434094329953 | 4.387902024385581 | 0.4168032822531492 | 2.763425809159223 | 4.160045261665889 | 4.73708536692658 | 3.401584481546607 | 4.278161775905281 | 3.6995533587296774 | 4.327174045317236 | 0.27082588659853524 | 3.9910610597977225 | 0.4134499819232612 | 4.291807213488667 | 3.3428160970040417 | 3.09930363084 | 2.3839212169058484 | 0.6514736156229228 | 3.899337032277356 | 2.116381825640474 | 1.0407081906263083 | 4.475533976626505 | 4.108553729048997 | 4.6022755397915684 | 4.903429255240961 | 3.8364473938369597 | 0.7862809493648515 | 1.98701275567932 | 4.795389592953604 | 2.3837515687344824 | 4.6268029283997 | 3.4129073141023403 | 0.6724480008969913 | 1.00577456410758 | 1.459744089832703 | 2.615852844360549 | 3.185114171761265 | 4.5314015655778626 | 1.8753027629049606 | 0.7138370433877672 | 3.705270368322078 | 0.2261242499931243 | 4.834715414576616 | 0.4744744830887748 | 2.9012670731130132 | 4.092899919360367 | 3.8413062631950945 | 3.5838781086296883 | 0.2139283486011062 | 1.66390034876286 | 3.4724442390892745 | 0.22064891364263373 | 2.3699059329315415 | 0.7677272437222854 | 3.8076389105876545 | 1.9199831850956128 | 4.432818933645379 | 4.361472510537202 | 3.2300555506977497 | 0.3686287051223047 | 0.49697127881210057 | 0.7224389914110912 | 3.2809574300940314 | 0.2035834516222168 | 0.47048406470852955 | 1.3702171070918405 | 3.8833015923424243 | 3.424695031914043 | 1.1502708960329122 | 3.8453230494411845 | 4.253697788678295 | 0.32142806373216426 | 2.590568699796804 | 1.0091374352926885 | 4.572940652856409 | 0.6045615007188404 | 3.4808639955396097 | 3.575638151789524 | 4.963290295794999 | 2.3915159657228395 | 0.052111397245400704 | 4.092760554790214 | 1.114638490231853 | 2.0281793486315762 | 4.320092674441913 | 2.479256922779383 | 0.0771989292764036 | 1.2554875467696336 | 4.108373028449323 | 0.29387973059771977 | 4.781010199914095 | 1.6011504089608186 | 4.0603324490989845 | 3.627027809190959 | 4.018431323150711 | 1.722598008526159 | 4.576828356802832 | 0.9518347770867297 | 0.6263499315015486 | 0.23033211869002812 | 4.906974297370529 | 0.8307677178281747 | 4.8478632017637615 | 1.0271823421836341 | 0.9000581808882846 | 2.7285645659184983 | 1.5224309014805804 | 3.34400690129252 | 2.648178238882177 | 0.05352204910569591 | 0.6564470069969691 | 2.7126676154579386 | 3.25701482901569 | 2.625904430841164 | 4.370735510259953 | 4.032684177016267 | 3.805414972839716 | 4.6965823804426945 | 3.5673866058090105 | 1.9551583986823395 | 4.348488100430524 | 2.980364753773768 | 1.1757551174806262 | 1.974686449464289 | 0.4421504877232535 | 2.908401847791557 | 2.11049497793312 | 0.11586042116021822 | 0.11323013324128217 | 4.600228942161639 | 2.294529245331362 | 3.7869641328823245 | 3.111351223819527 | 3.7358672670712045 | 4.527614581726571 | 3.070610147893038 | 3.139159161418283 | 4.092993329326044 | 3.5965784406709176 | 2.8658322529486915 | 2.523609977150164 | 0.17509837465600475 | 3.009996797409142 | 0.16668920768658002 | 0.871068401655703 | 4.019889176031241 | 4.997037614460539 | 4.678410536411252 | 2.9519198449268473 | 0.4458302367232264 | 1.145906818071567 | 2.643971196786594 | 3.21111903251359 | 4.459223123746533 | 3.023090136141018 | 0.9718228722567462 | 0.29119359321817195 | 3.394948886960552 | 1.2055972839912483 | 3.9011049003869367 | 2.111116577552 | 0.3932569595423169 | 1.1549098002738956 | 2.592049211784734 | 1.561916616842417 | 4.7600462752794135 | 2.497628317001273 | 3.1309032043093152 | 1.5728002580827904 | 2.1442338592138572 | 0.42112781669431054 | 1.9732610294988728 | 4.5327557586848375 | 4.072246702899764 | 1.6672584914103927 | 3.066954406177195 | 1.7450766522908663 | 4.559120504380036 | 1.7162957990380168 | 4.490067766528477 | 3.8237191616869284 | 3.566784219598361 | 1.2022604720051877 | 3.8165407926976918 | 1.7494512297922404 | 1.526988802675202 | 0.2650079051299492 | 2.2566094320962593 | 2.06740600978522 | 1.2590219616186205 | 4.838410663061105 | 2.564118487935115 | 3.7553507494599607 | 2.3823534878316135 | 1.1643651198222487 | 4.627696076599379 | 1.0705777451000524 | 0.5303055310338406 | 1.2436711874897899 | 3.1893841070060986 | 1.971234997955578 | 1.535661787581157 | 0.1193851038444188 | 3.671924937625885 | 0.9293863002408259 | 2.054320822209462 | 1.991829780607433 | 1.1630636989967469 | 0.15999739310788907 | 0.5958981353978599 | 2.987029398497161 | 3.9241076537700916 | 4.03721442178432 | 3.233835366514995 | 1.8646686547003577 | 4.150289879243859 | 3.6536173100110507 | 4.231583797315153 | 0.4792347545867648 | 1.4974964092845489 | 3.9609257686069683 | 2.1339107432992126 | 3.2529613403054207 | 0.5867103004342816 | 2.290362831418175 | 3.4337811052604925 | 1.3913635867626368 | 3.0931405356408623 | 1.9957369083518328 | 0.9242593175052283 | 3.8991851398928667 | 2.5756071069653235 | 2.8641321194086644 | 0.6709802756743194 | 2.2964616179973985 | 3.119512281248973 | 4.00601712997527 | 0.6310153673267882 | 2.2968603016386413 | 4.770051934851495 | 0.7789423209442403 | 0.270027380931005 | 1.7250731697150017 | 2.391358751245281 | 0.2032190501405151 | 0.7541304468022081 | 0.9628046803261342 | 3.500131773267717 | 2.315783752127591 | 4.041462539574833 | 1.1010757740646375 | 3.3838071792866327 | 2.66149185991366 | 2.91736453095539 | 3.1846220592602084 | 2.0731070454825535 | 2.52896643218602 | 4.4606681944809194 | 0.511583755704243 | 4.232721516431464 | 2.7370721372047795 | 2.8816961174107485 | 0.8849056405232014 | 4.748234313803269 | 2.8621426814642446 | 0.32152927891349714 | 1.2611047178198502 | 3.0623758773666676 | 1.6496299408844743 | 3.6276097272347156 | 1.6831281468621788 | 1.071309924052689 | 1.6160340407737932 | 4.728068788554253 | 2.293218148600716 | 2.409319201249085 | 1.013191385662397 | 4.271648451501221 | 4.401006488136009 | 2.0375678638926282 | 0.7151975688173284 | 4.35135709635362 | 1.7939146669746782 | 0.14048046715317453 | 2.266652267498767 | 2.055193070277091 | 1.2034017676591442 | 1.5055413188054978 | 1.366375597978207 | 0.3179213740106751 | 4.66292019175021 | 4.598192710000245 | 4.121614003087487 | 0.8883529095983456 | 3.6550610237762253 | 4.086473211944096 | 0.45720231210338746 | 0.7734528866494567 | 3.3348091738568635 | 0.6227868168122752 | 1.7995478575662456 | 4.860220149881958 | 1.9311673417542263 | 2.851520977083975 | 0.6904532047188439 | 3.6467911418424785 | 3.69589821870149 | 3.6640933855642315 | 3.3791975154162697 | 4.195351678275309 | 0.1713937161383089 | 2.012921101984598 | 0.7243179667189298 | 2.867737426190166 | 4.320616606195246 | 1.3794240958181385 | 4.726834859971204 | 3.6607985841328823 | 2.6594620576521018 | 2.7784227962802817 | 3.6010493676271964 | 3.926653611029267 | 0.4246385629789662 | 3.0637430663130334 | 4.345074301381403 | 1.6949480636325083 | 2.5875754300703937 | 0.713114478892406 | 2.55744447692916 | 3.4095530138614554 | 1.2082892313970173 | 2.717911319610944 | 4.904101339426862 | 2.1340136434961607 | 1.1510519285486116 | 3.66001232729285 | 1.2146378152705966 | 2.751803940056856 | 2.468362840462057 | 3.153732242773932 | 4.808595607901438 | 4.245171984886161 | 2.2496683946377534 | 4.499879132034112 | 1.1539447721162766 | 3.2533182618946777\n"
     ]
    }
   ],
   "source": [
    "print_columns_and_few_rows(\"simulated-wide_10000runs_10mod_5sec_100samples_50metrics\")"
   ]
  },
  {
   "cell_type": "code",
   "execution_count": 267,
   "metadata": {},
   "outputs": [
    {
     "name": "stdout",
     "output_type": "stream",
     "text": [
      "1 rows\n",
      "50.117647237753\n"
     ]
    }
   ],
   "source": [
    "average_of_metrics(\n",
    "    name=\"simulated-long_10000runs_10mod_5sec_100samples_50metrics_subset10\",\n",
    "    metric=\"metric_0\",\n",
    "    format=\"long\",  \n",
    ")"
   ]
  },
  {
   "cell_type": "code",
   "execution_count": 269,
   "metadata": {},
   "outputs": [
    {
     "name": "stdout",
     "output_type": "stream",
     "text": [
      "1 rows\n",
      "2.477719367334907\n"
     ]
    }
   ],
   "source": [
    "average_of_metrics(\n",
    "    name=\"simulated-wide_10runs_10mod_5sec_100samples_50metrics\",\n",
    "    metric=\"metric_0\",\n",
    "    format=\"wide\",\n",
    ")"
   ]
  },
  {
   "cell_type": "code",
   "execution_count": 272,
   "metadata": {},
   "outputs": [
    {
     "name": "stdout",
     "output_type": "stream",
     "text": [
      "1 rows\n",
      "49.97822153589666\n"
     ]
    }
   ],
   "source": [
    "average_of_metrics(\n",
    "    name=\"simulated-long_10000runs_10mod_5sec_100samples_50metrics_subset100\",\n",
    "    metric=\"metric_0\",\n",
    "    format=\"long\",\n",
    ")"
   ]
  },
  {
   "cell_type": "code",
   "execution_count": 273,
   "metadata": {},
   "outputs": [
    {
     "name": "stdout",
     "output_type": "stream",
     "text": [
      "1 rows\n",
      "2.5130486027913346\n"
     ]
    }
   ],
   "source": [
    "average_of_metrics(\n",
    "    name=\"simulated-wide_10000runs_10mod_5sec_100samples_50metrics_subset100\",\n",
    "    metric=\"metric_0\",\n",
    "    format=\"wide\",\n",
    ")"
   ]
  },
  {
   "cell_type": "code",
   "execution_count": null,
   "metadata": {},
   "outputs": [],
   "source": [
    "average_of_metrics(\n",
    "    name=\"simulated-long_10000runs_10mod_5sec_100samples_50metrics_subset1000\",\n",
    "    metric=\"metric_0\",\n",
    "    format=\"long\",\n",
    ")"
   ]
  },
  {
   "cell_type": "code",
   "execution_count": 236,
   "metadata": {},
   "outputs": [
    {
     "name": "stdout",
     "output_type": "stream",
     "text": [
      "1 rows\n",
      "2.500375932166651\n"
     ]
    }
   ],
   "source": [
    "average_of_metrics(\n",
    "    name=\"simulated-wide_10000runs_10mod_5sec_100samples_50metrics_subset1000\",\n",
    "    metric=\"metric_0\",\n",
    "    format=\"wide\",\n",
    ")"
   ]
  },
  {
   "cell_type": "code",
   "execution_count": null,
   "metadata": {},
   "outputs": [],
   "source": [
    "average_of_metrics(\n",
    "    name=\"simulated-long_10000runs_10mod_5sec_100samples_50metrics\",\n",
    "    metric=\"metric_0\",\n",
    "    format=\"long\",\n",
    ")"
   ]
  },
  {
   "cell_type": "code",
   "execution_count": null,
   "metadata": {},
   "outputs": [],
   "source": [
    "average_of_metrics(\n",
    "    name=\"simulated-wide_10000runs_10mod_5sec_100samples_50metrics\",\n",
    "    metric=\"metric_0\",\n",
    "    format=\"wide\",\n",
    ")"
   ]
  },
  {
   "cell_type": "code",
   "execution_count": 241,
   "metadata": {},
   "outputs": [
    {
     "name": "stdout",
     "output_type": "stream",
     "text": [
      "Statistics for “metric_0” (samples=['sample_0'], 2025-03-15 → 2025-12-31):\n",
      "  min   : 14.872785000133085\n",
      "  max   : 85.1203476176099\n",
      "  mean  : 50.816444740413814\n",
      "  median: 51.47962297335995\n"
     ]
    }
   ],
   "source": [
    "metric_dates_samples_stats(\n",
    "    name=\"simulated-long_10000runs_10mod_5sec_100samples_50metrics_subset10\",\n",
    "    format=\"long\",\n",
    "    metric=\"metric_0\",\n",
    "    samples=[\"sample_0\"],\n",
    ")   "
   ]
  },
  {
   "cell_type": "code",
   "execution_count": 239,
   "metadata": {},
   "outputs": [
    {
     "name": "stdout",
     "output_type": "stream",
     "text": [
      "Statistics for “metric_1” (samples=['sample_1'], 2025-03-15 → 2025-12-31):\n",
      "  min   : 0.1814643355246165\n",
      "  max   : 4.902889942215793\n",
      "  mean  : 2.649888129891732\n",
      "  median: 2.874458946670262\n"
     ]
    }
   ],
   "source": [
    "metric_dates_samples_stats(\n",
    "    name=\"simulated-wide_10runs_10mod_5sec_100samples_50metrics\",\n",
    "    format=\"wide\",\n",
    "    metric=\"metric_1\",\n",
    "    samples=[\"sample_1\"],\n",
    ")   "
   ]
  },
  {
   "cell_type": "code",
   "execution_count": 276,
   "metadata": {},
   "outputs": [
    {
     "name": "stdout",
     "output_type": "stream",
     "text": [
      "Statistics for “metric_0” (samples=['sample_0'], 2025-03-15 → 2025-12-31):\n",
      "  min   : 4.288868364124605\n",
      "  max   : 95.53434172573604\n",
      "  mean  : 49.732834710205886\n",
      "  median: 49.976846307803605\n"
     ]
    }
   ],
   "source": [
    "metric_dates_samples_stats(\n",
    "    name=\"simulated-long_10000runs_10mod_5sec_100samples_50metrics_subset100\",\n",
    "    format=\"long\",\n",
    "    metric=\"metric_0\",\n",
    "    samples=[\"sample_0\"],\n",
    ")   "
   ]
  },
  {
   "cell_type": "code",
   "execution_count": 277,
   "metadata": {},
   "outputs": [
    {
     "name": "stdout",
     "output_type": "stream",
     "text": [
      "Statistics for “metric_1” (samples=['sample_1'], 2025-03-15 → 2025-12-31):\n",
      "  min   : 0.011531067737503564\n",
      "  max   : 4.989384517252\n",
      "  mean  : 2.5464541927857933\n",
      "  median: 2.501499692276699\n"
     ]
    }
   ],
   "source": [
    "metric_dates_samples_stats(\n",
    "    name=\"simulated-wide_10000runs_10mod_5sec_100samples_50metrics_subset100\",\n",
    "    format=\"wide\",\n",
    "    metric=\"metric_1\",\n",
    "    samples=[\"sample_1\"],\n",
    ")   "
   ]
  },
  {
   "cell_type": "code",
   "execution_count": 246,
   "metadata": {},
   "outputs": [
    {
     "name": "stdout",
     "output_type": "stream",
     "text": [
      "Statistics for “metric_0” (samples=['sample_0'], 2025-03-15 → 2025-12-31):\n",
      "  min   : 2.6183105835895892\n",
      "  max   : 99.70785639689917\n",
      "  mean  : 49.91859277046798\n",
      "  median: 49.95359825113672\n"
     ]
    }
   ],
   "source": [
    "metric_dates_samples_stats(\n",
    "    name=\"simulated-long_10000runs_10mod_5sec_100samples_50metrics_subset1000\",\n",
    "    format=\"long\",\n",
    "    metric=\"metric_0\",\n",
    "    samples=[\"sample_0\"],\n",
    ")"
   ]
  },
  {
   "cell_type": "code",
   "execution_count": 247,
   "metadata": {},
   "outputs": [
    {
     "name": "stdout",
     "output_type": "stream",
     "text": [
      "Statistics for “metric_0” (samples=['sample_0'], 2025-03-15 → 2025-12-31):\n",
      "  min   : 0.014003305227338614\n",
      "  max   : 4.997923072131517\n",
      "  mean  : 2.4877507658731592\n",
      "  median: 2.494292917220527\n"
     ]
    }
   ],
   "source": [
    "metric_dates_samples_stats(\n",
    "    name=\"simulated-wide_10000runs_10mod_5sec_100samples_50metrics_subset1000\",\n",
    "    format=\"wide\",\n",
    "    metric=\"metric_0\",\n",
    "    samples=[\"sample_0\"],\n",
    ")"
   ]
  },
  {
   "cell_type": "code",
   "execution_count": null,
   "metadata": {},
   "outputs": [],
   "source": [
    "metric_dates_samples_stats(\n",
    "    name=\"simulated-wide_10000runs_10mod_5sec_100samples_50metrics\",\n",
    "    format=\"wide\",\n",
    "    metric=\"metric_0\",\n",
    "    samples=[\"sample_0\"],\n",
    ")"
   ]
  },
  {
   "cell_type": "code",
   "execution_count": null,
   "metadata": {},
   "outputs": [],
   "source": [
    "metric_dates_samples_stats(\n",
    "    name=\"simulated-long_10000runs_10mod_5sec_100samples_50metrics\",\n",
    "    format=\"long\",\n",
    "    metric=\"metric_0\",\n",
    "    samples=[\"sample_0\"],\n",
    ")"
   ]
  },
  {
   "cell_type": "code",
   "execution_count": null,
   "metadata": {},
   "outputs": [],
   "source": [
    "metric_dates_samples_stats(\n",
    "    name=\"simulated-long_10000runs_10mod_5sec_100samples_50metrics\",\n",
    "    format=\"long\",\n",
    "    metric=\"metric_0\",\n",
    "    samples=[\"sample_0\"],\n",
    ")"
   ]
  },
  {
   "cell_type": "code",
   "execution_count": 249,
   "metadata": {},
   "outputs": [
    {
     "name": "stdout",
     "output_type": "stream",
     "text": [
      "10 rows\n",
      "sample_75 | 99.35935019190657 | 38.87009592970488 | 61.26697657092866 | 33.59532096183567 | high_outlier\n",
      "sample_88 | 99.27853988936971 | 38.87009592970488 | 61.26697657092866 | 33.59532096183567 | high_outlier\n",
      "sample_67 | 99.27853988936971 | 38.87009592970488 | 61.26697657092866 | 33.59532096183567 | high_outlier\n",
      "sample_98 | 98.88736028181299 | 38.87009592970488 | 61.26697657092866 | 33.59532096183567 | high_outlier\n",
      "sample_98 | 98.39355327915406 | 38.87009592970488 | 61.26697657092866 | 33.59532096183567 | high_outlier\n",
      "sample_38 | 98.32300170115244 | 38.87009592970488 | 61.26697657092866 | 33.59532096183567 | high_outlier\n",
      "sample_8 | 98.2522302087748 | 38.87009592970488 | 61.26697657092866 | 33.59532096183567 | high_outlier\n",
      "sample_50 | 98.03025315827539 | 38.87009592970488 | 61.26697657092866 | 33.59532096183567 | high_outlier\n",
      "sample_68 | 98.03025315827539 | 38.87009592970488 | 61.26697657092866 | 33.59532096183567 | high_outlier\n",
      "sample_53 | 98.03025315827539 | 38.87009592970488 | 61.26697657092866 | 33.59532096183567 | high_outlier\n"
     ]
    }
   ],
   "source": [
    "metric_outliers_conditional(\n",
    "    name=\"simulated-long_10000runs_10mod_5sec_100samples_50metrics_subset10\",\n",
    "    metric_filter=\"metric_0\",\n",
    "    condition=\"> 0.5\",\n",
    "    metric_outlier=\"metric_1\",\n",
    "    threshold=1.5,\n",
    "    limit=10,\n",
    ")"
   ]
  },
  {
   "cell_type": "code",
   "execution_count": 255,
   "metadata": {},
   "outputs": [
    {
     "name": "stdout",
     "output_type": "stream",
     "text": [
      "0 rows\n",
      "\n"
     ]
    }
   ],
   "source": [
    "metric_outliers_conditional(\n",
    "    name=\"simulated-wide_10runs_10mod_5sec_100samples_50metrics\",\n",
    "    metric_filter=\"metric_1\",\n",
    "    condition=\"> 0.5\",\n",
    "    metric_outlier=\"metric_2\",\n",
    "    threshold=1.5,\n",
    "    limit=10,\n",
    ")"
   ]
  },
  {
   "cell_type": "code",
   "execution_count": 254,
   "metadata": {},
   "outputs": [
    {
     "name": "stdout",
     "output_type": "stream",
     "text": [
      "10 rows\n",
      "sample_63 | 99.99709198523344 | 38.8383455816897 | 61.172596498771014 | 33.50137637562197 | high_outlier\n",
      "sample_66 | 99.99709198523344 | 38.8383455816897 | 61.172596498771014 | 33.50137637562197 | high_outlier\n",
      "sample_25 | 99.99498849385381 | 38.8383455816897 | 61.172596498771014 | 33.50137637562197 | high_outlier\n",
      "sample_0 | 99.96127448326476 | 38.8383455816897 | 61.172596498771014 | 33.50137637562197 | high_outlier\n",
      "sample_34 | 99.96127448326476 | 38.8383455816897 | 61.172596498771014 | 33.50137637562197 | high_outlier\n",
      "sample_58 | 99.49329734144365 | 38.8383455816897 | 61.172596498771014 | 33.50137637562197 | high_outlier\n",
      "sample_96 | 99.44400105245796 | 38.8383455816897 | 61.172596498771014 | 33.50137637562197 | high_outlier\n",
      "sample_35 | 99.41214072883862 | 38.8383455816897 | 61.172596498771014 | 33.50137637562197 | high_outlier\n",
      "sample_48 | 99.41214072883862 | 38.8383455816897 | 61.172596498771014 | 33.50137637562197 | high_outlier\n",
      "sample_26 | 99.41214072883862 | 38.8383455816897 | 61.172596498771014 | 33.50137637562197 | high_outlier\n"
     ]
    }
   ],
   "source": [
    "metric_outliers_conditional(\n",
    "    name=\"simulated-long_10000runs_10mod_5sec_100samples_50metrics_subset100\",\n",
    "    metric_filter=\"metric_1\",\n",
    "    condition=\"> 0.5\",\n",
    "    metric_outlier=\"metric_2\",\n",
    "    threshold=1.5,\n",
    "    limit=10,\n",
    ")"
   ]
  },
  {
   "cell_type": "code",
   "execution_count": 260,
   "metadata": {},
   "outputs": [
    {
     "name": "stdout",
     "output_type": "stream",
     "text": [
      "0 rows\n",
      "\n"
     ]
    }
   ],
   "source": [
    "metric_outliers_conditional(\n",
    "    name=\"simulated-wide_10000runs_10mod_5sec_100samples_50metrics_subset100\",\n",
    "    metric_filter=\"metric_1\",\n",
    "    condition=\"> 0.5\",\n",
    "    metric_outlier=\"metric_2\",\n",
    "    threshold=1.5,\n",
    "    limit=10,\n",
    ")"
   ]
  },
  {
   "cell_type": "code",
   "execution_count": 262,
   "metadata": {},
   "outputs": [
    {
     "name": "stdout",
     "output_type": "stream",
     "text": [
      "10 rows\n",
      "sample_66 | 99.99709198523344 | 38.90067971338683 | 61.16945821994164 | 33.403167759832215 | high_outlier\n",
      "sample_63 | 99.99709198523344 | 38.90067971338683 | 61.16945821994164 | 33.403167759832215 | high_outlier\n",
      "sample_25 | 99.99498849385381 | 38.90067971338683 | 61.16945821994164 | 33.403167759832215 | high_outlier\n",
      "sample_34 | 99.96127448326476 | 38.90067971338683 | 61.16945821994164 | 33.403167759832215 | high_outlier\n",
      "sample_0 | 99.96127448326476 | 38.90067971338683 | 61.16945821994164 | 33.403167759832215 | high_outlier\n",
      "sample_58 | 99.49329734144365 | 38.90067971338683 | 61.16945821994164 | 33.403167759832215 | high_outlier\n",
      "sample_96 | 99.44400105245796 | 38.90067971338683 | 61.16945821994164 | 33.403167759832215 | high_outlier\n",
      "sample_26 | 99.41214072883862 | 38.90067971338683 | 61.16945821994164 | 33.403167759832215 | high_outlier\n",
      "sample_83 | 99.41214072883862 | 38.90067971338683 | 61.16945821994164 | 33.403167759832215 | high_outlier\n",
      "sample_48 | 99.41214072883862 | 38.90067971338683 | 61.16945821994164 | 33.403167759832215 | high_outlier\n"
     ]
    }
   ],
   "source": [
    "metric_outliers_conditional(\n",
    "    name=\"simulated-long_10000runs_10mod_5sec_100samples_50metrics_subset100\",\n",
    "    metric_filter=\"metric_1\",\n",
    "    condition=\"> 0.5\",\n",
    "    metric_outlier=\"metric_2\"\n",
    ")"
   ]
  },
  {
   "cell_type": "code",
   "execution_count": 257,
   "metadata": {},
   "outputs": [
    {
     "name": "stdout",
     "output_type": "stream",
     "text": [
      "0 rows\n",
      "\n"
     ]
    }
   ],
   "source": [
    "metric_outliers_conditional(\n",
    "    name=\"simulated-wide_10000runs_10mod_5sec_100samples_50metrics_subset1000\",\n",
    "    metric_filter=\"metric_0\",\n",
    "    condition=\"> 0.5\",\n",
    "    metric_outlier=\"metric_1\",\n",
    ")"
   ]
  },
  {
   "cell_type": "code",
   "execution_count": 256,
   "metadata": {},
   "outputs": [
    {
     "name": "stdout",
     "output_type": "stream",
     "text": [
      "10 rows\n",
      "sample_67 | 99.99466402226406 | 38.964785638904424 | 61.06644332141097 | 33.15248652375982 | high_outlier\n",
      "sample_19 | 99.99466402226406 | 38.964785638904424 | 61.06644332141097 | 33.15248652375982 | high_outlier\n",
      "sample_63 | 99.99466402226406 | 38.964785638904424 | 61.06644332141097 | 33.15248652375982 | high_outlier\n",
      "sample_55 | 99.98303423102604 | 38.964785638904424 | 61.06644332141097 | 33.15248652375982 | high_outlier\n",
      "sample_2 | 99.98303423102604 | 38.964785638904424 | 61.06644332141097 | 33.15248652375982 | high_outlier\n",
      "sample_41 | 99.98303423102604 | 38.964785638904424 | 61.06644332141097 | 33.15248652375982 | high_outlier\n",
      "sample_52 | 99.96232595873349 | 38.964785638904424 | 61.06644332141097 | 33.15248652375982 | high_outlier\n",
      "sample_99 | 99.9452570538043 | 38.964785638904424 | 61.06644332141097 | 33.15248652375982 | high_outlier\n",
      "sample_95 | 99.9452570538043 | 38.964785638904424 | 61.06644332141097 | 33.15248652375982 | high_outlier\n",
      "sample_89 | 99.93489602918602 | 38.964785638904424 | 61.06644332141097 | 33.15248652375982 | high_outlier\n"
     ]
    }
   ],
   "source": [
    "metric_outliers_conditional(\n",
    "    name=\"simulated-long_10000runs_10mod_5sec_100samples_50metrics_subset1000\",\n",
    "    metric_filter=\"metric_0\",\n",
    "    condition=\"> 0.5\",\n",
    "    metric_outlier=\"metric_1\",\n",
    ")"
   ]
  },
  {
   "cell_type": "code",
   "execution_count": 263,
   "metadata": {},
   "outputs": [
    {
     "ename": "KeyboardInterrupt",
     "evalue": "",
     "output_type": "error",
     "traceback": [
      "\u001b[31m---------------------------------------------------------------------------\u001b[39m",
      "\u001b[31mKeyboardInterrupt\u001b[39m                         Traceback (most recent call last)",
      "\u001b[36mCell\u001b[39m\u001b[36m \u001b[39m\u001b[32mIn[263]\u001b[39m\u001b[32m, line 1\u001b[39m\n\u001b[32m----> \u001b[39m\u001b[32m1\u001b[39m \u001b[43mmetric_outliers_conditional\u001b[49m\u001b[43m(\u001b[49m\n\u001b[32m      2\u001b[39m \u001b[43m    \u001b[49m\u001b[43mname\u001b[49m\u001b[43m=\u001b[49m\u001b[33;43m\"\u001b[39;49m\u001b[33;43msimulated-wide_10000runs_10mod_5sec_100samples_50metrics\u001b[39;49m\u001b[33;43m\"\u001b[39;49m\u001b[43m,\u001b[49m\n\u001b[32m      3\u001b[39m \u001b[43m    \u001b[49m\u001b[43mmetric_filter\u001b[49m\u001b[43m=\u001b[49m\u001b[33;43m\"\u001b[39;49m\u001b[33;43mmetric_0\u001b[39;49m\u001b[33;43m\"\u001b[39;49m\u001b[43m,\u001b[49m\n\u001b[32m      4\u001b[39m \u001b[43m    \u001b[49m\u001b[43mcondition\u001b[49m\u001b[43m=\u001b[49m\u001b[33;43m\"\u001b[39;49m\u001b[33;43m> 0.5\u001b[39;49m\u001b[33;43m\"\u001b[39;49m\u001b[43m,\u001b[49m\n\u001b[32m      5\u001b[39m \u001b[43m    \u001b[49m\u001b[43mmetric_outlier\u001b[49m\u001b[43m=\u001b[49m\u001b[33;43m\"\u001b[39;49m\u001b[33;43mmetric_1\u001b[39;49m\u001b[33;43m\"\u001b[39;49m\u001b[43m,\u001b[49m\n\u001b[32m      6\u001b[39m \u001b[43m)\u001b[49m\n",
      "\u001b[36mCell\u001b[39m\u001b[36m \u001b[39m\u001b[32mIn[234]\u001b[39m\u001b[32m, line 115\u001b[39m, in \u001b[36mmetric_outliers_conditional\u001b[39m\u001b[34m(name, metric_filter, condition, metric_outlier, threshold, limit, verbose)\u001b[39m\n\u001b[32m     71\u001b[39m \u001b[38;5;28;01melse\u001b[39;00m:\n\u001b[32m     72\u001b[39m     query = \u001b[33mf\u001b[39m\u001b[33m\"\"\"\u001b[39m\n\u001b[32m     73\u001b[39m \u001b[33m    WITH filtered_samples AS (\u001b[39m\n\u001b[32m     74\u001b[39m \u001b[33m        SELECT \u001b[39m\u001b[38;5;132;01m{\u001b[39;00msample_col\u001b[38;5;132;01m}\u001b[39;00m\n\u001b[32m   (...)\u001b[39m\u001b[32m    113\u001b[39m \u001b[33m    LIMIT \u001b[39m\u001b[38;5;132;01m{\u001b[39;00mlimit\u001b[38;5;132;01m}\u001b[39;00m\n\u001b[32m    114\u001b[39m \u001b[33m    \u001b[39m\u001b[33m\"\"\"\u001b[39m\n\u001b[32m--> \u001b[39m\u001b[32m115\u001b[39m     \u001b[43mrun_query\u001b[49m\u001b[43m(\u001b[49m\u001b[43mname\u001b[49m\u001b[43m,\u001b[49m\u001b[43m \u001b[49m\u001b[43mquery\u001b[49m\u001b[43m,\u001b[49m\u001b[43m \u001b[49m\u001b[43mverbose\u001b[49m\u001b[43m=\u001b[49m\u001b[43mverbose\u001b[49m\u001b[43m)\u001b[49m\n",
      "\u001b[36mCell\u001b[39m\u001b[36m \u001b[39m\u001b[32mIn[175]\u001b[39m\u001b[32m, line 24\u001b[39m, in \u001b[36mrun_query\u001b[39m\u001b[34m(name, query, as_df, verbose)\u001b[39m\n\u001b[32m     22\u001b[39m \u001b[38;5;28;01mif\u001b[39;00m verbose:\n\u001b[32m     23\u001b[39m     \u001b[38;5;28mprint\u001b[39m(query)                   \u001b[38;5;66;03m# always show the final SQL sent\u001b[39;00m\n\u001b[32m---> \u001b[39m\u001b[32m24\u001b[39m \u001b[43mcursor\u001b[49m\u001b[43m.\u001b[49m\u001b[43mexecute\u001b[49m\u001b[43m(\u001b[49m\u001b[43mquery\u001b[49m\u001b[43m)\u001b[49m\n\u001b[32m     26\u001b[39m \u001b[38;5;66;03m# Fetch all rows once, then decide what to do with them\u001b[39;00m\n\u001b[32m     27\u001b[39m rows = cursor.fetchall()\n",
      "\u001b[36mFile \u001b[39m\u001b[32m~/git/evals/.venv/lib/python3.13/site-packages/trino/dbapi.py:614\u001b[39m, in \u001b[36mCursor.execute\u001b[39m\u001b[34m(self, operation, params)\u001b[39m\n\u001b[32m    611\u001b[39m \u001b[38;5;28;01melse\u001b[39;00m:\n\u001b[32m    612\u001b[39m     \u001b[38;5;28mself\u001b[39m._query = trino.client.TrinoQuery(\u001b[38;5;28mself\u001b[39m._request, query=operation,\n\u001b[32m    613\u001b[39m                                           legacy_primitive_types=\u001b[38;5;28mself\u001b[39m._legacy_primitive_types)\n\u001b[32m--> \u001b[39m\u001b[32m614\u001b[39m     \u001b[38;5;28mself\u001b[39m._iterator = \u001b[38;5;28miter\u001b[39m(\u001b[38;5;28;43mself\u001b[39;49m\u001b[43m.\u001b[49m\u001b[43m_query\u001b[49m\u001b[43m.\u001b[49m\u001b[43mexecute\u001b[49m\u001b[43m(\u001b[49m\u001b[43m)\u001b[49m)\n\u001b[32m    615\u001b[39m \u001b[38;5;28;01mreturn\u001b[39;00m \u001b[38;5;28mself\u001b[39m\n",
      "\u001b[36mFile \u001b[39m\u001b[32m~/git/evals/.venv/lib/python3.13/site-packages/trino/client.py:900\u001b[39m, in \u001b[36mTrinoQuery.execute\u001b[39m\u001b[34m(self, additional_http_headers)\u001b[39m\n\u001b[32m    898\u001b[39m \u001b[38;5;66;03m# Execute should block until at least one row is received or query is finished or cancelled\u001b[39;00m\n\u001b[32m    899\u001b[39m \u001b[38;5;28;01mwhile\u001b[39;00m \u001b[38;5;129;01mnot\u001b[39;00m \u001b[38;5;28mself\u001b[39m.finished \u001b[38;5;129;01mand\u001b[39;00m \u001b[38;5;129;01mnot\u001b[39;00m \u001b[38;5;28mself\u001b[39m.cancelled \u001b[38;5;129;01mand\u001b[39;00m \u001b[38;5;28mlen\u001b[39m(\u001b[38;5;28mself\u001b[39m._result.rows) == \u001b[32m0\u001b[39m:\n\u001b[32m--> \u001b[39m\u001b[32m900\u001b[39m     \u001b[38;5;28mself\u001b[39m._result.rows += \u001b[38;5;28;43mself\u001b[39;49m\u001b[43m.\u001b[49m\u001b[43mfetch\u001b[49m\u001b[43m(\u001b[49m\u001b[43m)\u001b[49m\n\u001b[32m    901\u001b[39m \u001b[38;5;28;01mreturn\u001b[39;00m \u001b[38;5;28mself\u001b[39m._result\n",
      "\u001b[36mFile \u001b[39m\u001b[32m~/git/evals/.venv/lib/python3.13/site-packages/trino/client.py:917\u001b[39m, in \u001b[36mTrinoQuery.fetch\u001b[39m\u001b[34m(self)\u001b[39m\n\u001b[32m    915\u001b[39m \u001b[38;5;250m\u001b[39m\u001b[33;03m\"\"\"Continue fetching data for the current query_id\"\"\"\u001b[39;00m\n\u001b[32m    916\u001b[39m \u001b[38;5;28;01mtry\u001b[39;00m:\n\u001b[32m--> \u001b[39m\u001b[32m917\u001b[39m     response = \u001b[38;5;28;43mself\u001b[39;49m\u001b[43m.\u001b[49m\u001b[43m_request\u001b[49m\u001b[43m.\u001b[49m\u001b[43mget\u001b[49m\u001b[43m(\u001b[49m\u001b[38;5;28;43mself\u001b[39;49m\u001b[43m.\u001b[49m\u001b[43m_request\u001b[49m\u001b[43m.\u001b[49m\u001b[43mnext_uri\u001b[49m\u001b[43m)\u001b[49m\n\u001b[32m    918\u001b[39m \u001b[38;5;28;01mexcept\u001b[39;00m requests.exceptions.RequestException \u001b[38;5;28;01mas\u001b[39;00m e:\n\u001b[32m    919\u001b[39m     \u001b[38;5;28;01mraise\u001b[39;00m trino.exceptions.TrinoConnectionError(\u001b[33m\"\u001b[39m\u001b[33mfailed to fetch: \u001b[39m\u001b[38;5;132;01m{}\u001b[39;00m\u001b[33m\"\u001b[39m.format(e))\n",
      "\u001b[36mFile \u001b[39m\u001b[32m~/git/evals/.venv/lib/python3.13/site-packages/trino/client.py:644\u001b[39m, in \u001b[36mTrinoRequest.get\u001b[39m\u001b[34m(self, url)\u001b[39m\n\u001b[32m    643\u001b[39m \u001b[38;5;28;01mdef\u001b[39;00m\u001b[38;5;250m \u001b[39m\u001b[34mget\u001b[39m(\u001b[38;5;28mself\u001b[39m, url: \u001b[38;5;28mstr\u001b[39m) -> Response:\n\u001b[32m--> \u001b[39m\u001b[32m644\u001b[39m     \u001b[38;5;28;01mreturn\u001b[39;00m \u001b[38;5;28;43mself\u001b[39;49m\u001b[43m.\u001b[49m\u001b[43m_get\u001b[49m\u001b[43m(\u001b[49m\n\u001b[32m    645\u001b[39m \u001b[43m        \u001b[49m\u001b[43murl\u001b[49m\u001b[43m,\u001b[49m\n\u001b[32m    646\u001b[39m \u001b[43m        \u001b[49m\u001b[43mheaders\u001b[49m\u001b[43m=\u001b[49m\u001b[38;5;28;43mself\u001b[39;49m\u001b[43m.\u001b[49m\u001b[43mhttp_headers\u001b[49m\u001b[43m,\u001b[49m\n\u001b[32m    647\u001b[39m \u001b[43m        \u001b[49m\u001b[43mtimeout\u001b[49m\u001b[43m=\u001b[49m\u001b[38;5;28;43mself\u001b[39;49m\u001b[43m.\u001b[49m\u001b[43m_request_timeout\u001b[49m\u001b[43m,\u001b[49m\n\u001b[32m    648\u001b[39m \u001b[43m        \u001b[49m\u001b[43mproxies\u001b[49m\u001b[43m=\u001b[49m\u001b[43mPROXIES\u001b[49m\u001b[43m,\u001b[49m\n\u001b[32m    649\u001b[39m \u001b[43m    \u001b[49m\u001b[43m)\u001b[49m\n",
      "\u001b[36mFile \u001b[39m\u001b[32m~/git/evals/.venv/lib/python3.13/site-packages/trino/client.py:997\u001b[39m, in \u001b[36m_retry_with.<locals>.wrapper.<locals>.decorated\u001b[39m\u001b[34m(*args, **kwargs)\u001b[39m\n\u001b[32m    995\u001b[39m \u001b[38;5;28;01mfor\u001b[39;00m attempt \u001b[38;5;129;01min\u001b[39;00m \u001b[38;5;28mrange\u001b[39m(\u001b[32m1\u001b[39m, max_attempts + \u001b[32m1\u001b[39m):\n\u001b[32m    996\u001b[39m     \u001b[38;5;28;01mtry\u001b[39;00m:\n\u001b[32m--> \u001b[39m\u001b[32m997\u001b[39m         result = \u001b[43mfunc\u001b[49m\u001b[43m(\u001b[49m\u001b[43m*\u001b[49m\u001b[43margs\u001b[49m\u001b[43m,\u001b[49m\u001b[43m \u001b[49m\u001b[43m*\u001b[49m\u001b[43m*\u001b[49m\u001b[43mkwargs\u001b[49m\u001b[43m)\u001b[49m\n\u001b[32m    998\u001b[39m         \u001b[38;5;28;01mif\u001b[39;00m \u001b[38;5;28many\u001b[39m(guard(result) \u001b[38;5;28;01mfor\u001b[39;00m guard \u001b[38;5;129;01min\u001b[39;00m conditions):\n\u001b[32m    999\u001b[39m             \u001b[38;5;28;01mif\u001b[39;00m result.status_code == \u001b[32m429\u001b[39m \u001b[38;5;129;01mand\u001b[39;00m \u001b[33m\"\u001b[39m\u001b[33mRetry-After\u001b[39m\u001b[33m\"\u001b[39m \u001b[38;5;129;01min\u001b[39;00m result.headers:\n",
      "\u001b[36mFile \u001b[39m\u001b[32m~/git/evals/.venv/lib/python3.13/site-packages/requests/sessions.py:602\u001b[39m, in \u001b[36mSession.get\u001b[39m\u001b[34m(self, url, **kwargs)\u001b[39m\n\u001b[32m    594\u001b[39m \u001b[38;5;250m\u001b[39m\u001b[33mr\u001b[39m\u001b[33;03m\"\"\"Sends a GET request. Returns :class:`Response` object.\u001b[39;00m\n\u001b[32m    595\u001b[39m \n\u001b[32m    596\u001b[39m \u001b[33;03m:param url: URL for the new :class:`Request` object.\u001b[39;00m\n\u001b[32m    597\u001b[39m \u001b[33;03m:param \\*\\*kwargs: Optional arguments that ``request`` takes.\u001b[39;00m\n\u001b[32m    598\u001b[39m \u001b[33;03m:rtype: requests.Response\u001b[39;00m\n\u001b[32m    599\u001b[39m \u001b[33;03m\"\"\"\u001b[39;00m\n\u001b[32m    601\u001b[39m kwargs.setdefault(\u001b[33m\"\u001b[39m\u001b[33mallow_redirects\u001b[39m\u001b[33m\"\u001b[39m, \u001b[38;5;28;01mTrue\u001b[39;00m)\n\u001b[32m--> \u001b[39m\u001b[32m602\u001b[39m \u001b[38;5;28;01mreturn\u001b[39;00m \u001b[38;5;28;43mself\u001b[39;49m\u001b[43m.\u001b[49m\u001b[43mrequest\u001b[49m\u001b[43m(\u001b[49m\u001b[33;43m\"\u001b[39;49m\u001b[33;43mGET\u001b[39;49m\u001b[33;43m\"\u001b[39;49m\u001b[43m,\u001b[49m\u001b[43m \u001b[49m\u001b[43murl\u001b[49m\u001b[43m,\u001b[49m\u001b[43m \u001b[49m\u001b[43m*\u001b[49m\u001b[43m*\u001b[49m\u001b[43mkwargs\u001b[49m\u001b[43m)\u001b[49m\n",
      "\u001b[36mFile \u001b[39m\u001b[32m~/git/evals/.venv/lib/python3.13/site-packages/requests/sessions.py:589\u001b[39m, in \u001b[36mSession.request\u001b[39m\u001b[34m(self, method, url, params, data, headers, cookies, files, auth, timeout, allow_redirects, proxies, hooks, stream, verify, cert, json)\u001b[39m\n\u001b[32m    584\u001b[39m send_kwargs = {\n\u001b[32m    585\u001b[39m     \u001b[33m\"\u001b[39m\u001b[33mtimeout\u001b[39m\u001b[33m\"\u001b[39m: timeout,\n\u001b[32m    586\u001b[39m     \u001b[33m\"\u001b[39m\u001b[33mallow_redirects\u001b[39m\u001b[33m\"\u001b[39m: allow_redirects,\n\u001b[32m    587\u001b[39m }\n\u001b[32m    588\u001b[39m send_kwargs.update(settings)\n\u001b[32m--> \u001b[39m\u001b[32m589\u001b[39m resp = \u001b[38;5;28;43mself\u001b[39;49m\u001b[43m.\u001b[49m\u001b[43msend\u001b[49m\u001b[43m(\u001b[49m\u001b[43mprep\u001b[49m\u001b[43m,\u001b[49m\u001b[43m \u001b[49m\u001b[43m*\u001b[49m\u001b[43m*\u001b[49m\u001b[43msend_kwargs\u001b[49m\u001b[43m)\u001b[49m\n\u001b[32m    591\u001b[39m \u001b[38;5;28;01mreturn\u001b[39;00m resp\n",
      "\u001b[36mFile \u001b[39m\u001b[32m~/git/evals/.venv/lib/python3.13/site-packages/requests/sessions.py:703\u001b[39m, in \u001b[36mSession.send\u001b[39m\u001b[34m(self, request, **kwargs)\u001b[39m\n\u001b[32m    700\u001b[39m start = preferred_clock()\n\u001b[32m    702\u001b[39m \u001b[38;5;66;03m# Send the request\u001b[39;00m\n\u001b[32m--> \u001b[39m\u001b[32m703\u001b[39m r = \u001b[43madapter\u001b[49m\u001b[43m.\u001b[49m\u001b[43msend\u001b[49m\u001b[43m(\u001b[49m\u001b[43mrequest\u001b[49m\u001b[43m,\u001b[49m\u001b[43m \u001b[49m\u001b[43m*\u001b[49m\u001b[43m*\u001b[49m\u001b[43mkwargs\u001b[49m\u001b[43m)\u001b[49m\n\u001b[32m    705\u001b[39m \u001b[38;5;66;03m# Total elapsed time of the request (approximately)\u001b[39;00m\n\u001b[32m    706\u001b[39m elapsed = preferred_clock() - start\n",
      "\u001b[36mFile \u001b[39m\u001b[32m~/git/evals/.venv/lib/python3.13/site-packages/requests/adapters.py:667\u001b[39m, in \u001b[36mHTTPAdapter.send\u001b[39m\u001b[34m(self, request, stream, timeout, verify, cert, proxies)\u001b[39m\n\u001b[32m    664\u001b[39m     timeout = TimeoutSauce(connect=timeout, read=timeout)\n\u001b[32m    666\u001b[39m \u001b[38;5;28;01mtry\u001b[39;00m:\n\u001b[32m--> \u001b[39m\u001b[32m667\u001b[39m     resp = \u001b[43mconn\u001b[49m\u001b[43m.\u001b[49m\u001b[43murlopen\u001b[49m\u001b[43m(\u001b[49m\n\u001b[32m    668\u001b[39m \u001b[43m        \u001b[49m\u001b[43mmethod\u001b[49m\u001b[43m=\u001b[49m\u001b[43mrequest\u001b[49m\u001b[43m.\u001b[49m\u001b[43mmethod\u001b[49m\u001b[43m,\u001b[49m\n\u001b[32m    669\u001b[39m \u001b[43m        \u001b[49m\u001b[43murl\u001b[49m\u001b[43m=\u001b[49m\u001b[43murl\u001b[49m\u001b[43m,\u001b[49m\n\u001b[32m    670\u001b[39m \u001b[43m        \u001b[49m\u001b[43mbody\u001b[49m\u001b[43m=\u001b[49m\u001b[43mrequest\u001b[49m\u001b[43m.\u001b[49m\u001b[43mbody\u001b[49m\u001b[43m,\u001b[49m\n\u001b[32m    671\u001b[39m \u001b[43m        \u001b[49m\u001b[43mheaders\u001b[49m\u001b[43m=\u001b[49m\u001b[43mrequest\u001b[49m\u001b[43m.\u001b[49m\u001b[43mheaders\u001b[49m\u001b[43m,\u001b[49m\n\u001b[32m    672\u001b[39m \u001b[43m        \u001b[49m\u001b[43mredirect\u001b[49m\u001b[43m=\u001b[49m\u001b[38;5;28;43;01mFalse\u001b[39;49;00m\u001b[43m,\u001b[49m\n\u001b[32m    673\u001b[39m \u001b[43m        \u001b[49m\u001b[43massert_same_host\u001b[49m\u001b[43m=\u001b[49m\u001b[38;5;28;43;01mFalse\u001b[39;49;00m\u001b[43m,\u001b[49m\n\u001b[32m    674\u001b[39m \u001b[43m        \u001b[49m\u001b[43mpreload_content\u001b[49m\u001b[43m=\u001b[49m\u001b[38;5;28;43;01mFalse\u001b[39;49;00m\u001b[43m,\u001b[49m\n\u001b[32m    675\u001b[39m \u001b[43m        \u001b[49m\u001b[43mdecode_content\u001b[49m\u001b[43m=\u001b[49m\u001b[38;5;28;43;01mFalse\u001b[39;49;00m\u001b[43m,\u001b[49m\n\u001b[32m    676\u001b[39m \u001b[43m        \u001b[49m\u001b[43mretries\u001b[49m\u001b[43m=\u001b[49m\u001b[38;5;28;43mself\u001b[39;49m\u001b[43m.\u001b[49m\u001b[43mmax_retries\u001b[49m\u001b[43m,\u001b[49m\n\u001b[32m    677\u001b[39m \u001b[43m        \u001b[49m\u001b[43mtimeout\u001b[49m\u001b[43m=\u001b[49m\u001b[43mtimeout\u001b[49m\u001b[43m,\u001b[49m\n\u001b[32m    678\u001b[39m \u001b[43m        \u001b[49m\u001b[43mchunked\u001b[49m\u001b[43m=\u001b[49m\u001b[43mchunked\u001b[49m\u001b[43m,\u001b[49m\n\u001b[32m    679\u001b[39m \u001b[43m    \u001b[49m\u001b[43m)\u001b[49m\n\u001b[32m    681\u001b[39m \u001b[38;5;28;01mexcept\u001b[39;00m (ProtocolError, \u001b[38;5;167;01mOSError\u001b[39;00m) \u001b[38;5;28;01mas\u001b[39;00m err:\n\u001b[32m    682\u001b[39m     \u001b[38;5;28;01mraise\u001b[39;00m \u001b[38;5;167;01mConnectionError\u001b[39;00m(err, request=request)\n",
      "\u001b[36mFile \u001b[39m\u001b[32m~/git/evals/.venv/lib/python3.13/site-packages/urllib3/connectionpool.py:787\u001b[39m, in \u001b[36mHTTPConnectionPool.urlopen\u001b[39m\u001b[34m(self, method, url, body, headers, retries, redirect, assert_same_host, timeout, pool_timeout, release_conn, chunked, body_pos, preload_content, decode_content, **response_kw)\u001b[39m\n\u001b[32m    784\u001b[39m response_conn = conn \u001b[38;5;28;01mif\u001b[39;00m \u001b[38;5;129;01mnot\u001b[39;00m release_conn \u001b[38;5;28;01melse\u001b[39;00m \u001b[38;5;28;01mNone\u001b[39;00m\n\u001b[32m    786\u001b[39m \u001b[38;5;66;03m# Make the request on the HTTPConnection object\u001b[39;00m\n\u001b[32m--> \u001b[39m\u001b[32m787\u001b[39m response = \u001b[38;5;28;43mself\u001b[39;49m\u001b[43m.\u001b[49m\u001b[43m_make_request\u001b[49m\u001b[43m(\u001b[49m\n\u001b[32m    788\u001b[39m \u001b[43m    \u001b[49m\u001b[43mconn\u001b[49m\u001b[43m,\u001b[49m\n\u001b[32m    789\u001b[39m \u001b[43m    \u001b[49m\u001b[43mmethod\u001b[49m\u001b[43m,\u001b[49m\n\u001b[32m    790\u001b[39m \u001b[43m    \u001b[49m\u001b[43murl\u001b[49m\u001b[43m,\u001b[49m\n\u001b[32m    791\u001b[39m \u001b[43m    \u001b[49m\u001b[43mtimeout\u001b[49m\u001b[43m=\u001b[49m\u001b[43mtimeout_obj\u001b[49m\u001b[43m,\u001b[49m\n\u001b[32m    792\u001b[39m \u001b[43m    \u001b[49m\u001b[43mbody\u001b[49m\u001b[43m=\u001b[49m\u001b[43mbody\u001b[49m\u001b[43m,\u001b[49m\n\u001b[32m    793\u001b[39m \u001b[43m    \u001b[49m\u001b[43mheaders\u001b[49m\u001b[43m=\u001b[49m\u001b[43mheaders\u001b[49m\u001b[43m,\u001b[49m\n\u001b[32m    794\u001b[39m \u001b[43m    \u001b[49m\u001b[43mchunked\u001b[49m\u001b[43m=\u001b[49m\u001b[43mchunked\u001b[49m\u001b[43m,\u001b[49m\n\u001b[32m    795\u001b[39m \u001b[43m    \u001b[49m\u001b[43mretries\u001b[49m\u001b[43m=\u001b[49m\u001b[43mretries\u001b[49m\u001b[43m,\u001b[49m\n\u001b[32m    796\u001b[39m \u001b[43m    \u001b[49m\u001b[43mresponse_conn\u001b[49m\u001b[43m=\u001b[49m\u001b[43mresponse_conn\u001b[49m\u001b[43m,\u001b[49m\n\u001b[32m    797\u001b[39m \u001b[43m    \u001b[49m\u001b[43mpreload_content\u001b[49m\u001b[43m=\u001b[49m\u001b[43mpreload_content\u001b[49m\u001b[43m,\u001b[49m\n\u001b[32m    798\u001b[39m \u001b[43m    \u001b[49m\u001b[43mdecode_content\u001b[49m\u001b[43m=\u001b[49m\u001b[43mdecode_content\u001b[49m\u001b[43m,\u001b[49m\n\u001b[32m    799\u001b[39m \u001b[43m    \u001b[49m\u001b[43m*\u001b[49m\u001b[43m*\u001b[49m\u001b[43mresponse_kw\u001b[49m\u001b[43m,\u001b[49m\n\u001b[32m    800\u001b[39m \u001b[43m\u001b[49m\u001b[43m)\u001b[49m\n\u001b[32m    802\u001b[39m \u001b[38;5;66;03m# Everything went great!\u001b[39;00m\n\u001b[32m    803\u001b[39m clean_exit = \u001b[38;5;28;01mTrue\u001b[39;00m\n",
      "\u001b[36mFile \u001b[39m\u001b[32m~/git/evals/.venv/lib/python3.13/site-packages/urllib3/connectionpool.py:534\u001b[39m, in \u001b[36mHTTPConnectionPool._make_request\u001b[39m\u001b[34m(self, conn, method, url, body, headers, retries, timeout, chunked, response_conn, preload_content, decode_content, enforce_content_length)\u001b[39m\n\u001b[32m    532\u001b[39m \u001b[38;5;66;03m# Receive the response from the server\u001b[39;00m\n\u001b[32m    533\u001b[39m \u001b[38;5;28;01mtry\u001b[39;00m:\n\u001b[32m--> \u001b[39m\u001b[32m534\u001b[39m     response = \u001b[43mconn\u001b[49m\u001b[43m.\u001b[49m\u001b[43mgetresponse\u001b[49m\u001b[43m(\u001b[49m\u001b[43m)\u001b[49m\n\u001b[32m    535\u001b[39m \u001b[38;5;28;01mexcept\u001b[39;00m (BaseSSLError, \u001b[38;5;167;01mOSError\u001b[39;00m) \u001b[38;5;28;01mas\u001b[39;00m e:\n\u001b[32m    536\u001b[39m     \u001b[38;5;28mself\u001b[39m._raise_timeout(err=e, url=url, timeout_value=read_timeout)\n",
      "\u001b[36mFile \u001b[39m\u001b[32m~/git/evals/.venv/lib/python3.13/site-packages/urllib3/connection.py:516\u001b[39m, in \u001b[36mHTTPConnection.getresponse\u001b[39m\u001b[34m(self)\u001b[39m\n\u001b[32m    513\u001b[39m _shutdown = \u001b[38;5;28mgetattr\u001b[39m(\u001b[38;5;28mself\u001b[39m.sock, \u001b[33m\"\u001b[39m\u001b[33mshutdown\u001b[39m\u001b[33m\"\u001b[39m, \u001b[38;5;28;01mNone\u001b[39;00m)\n\u001b[32m    515\u001b[39m \u001b[38;5;66;03m# Get the response from http.client.HTTPConnection\u001b[39;00m\n\u001b[32m--> \u001b[39m\u001b[32m516\u001b[39m httplib_response = \u001b[38;5;28;43msuper\u001b[39;49m\u001b[43m(\u001b[49m\u001b[43m)\u001b[49m\u001b[43m.\u001b[49m\u001b[43mgetresponse\u001b[49m\u001b[43m(\u001b[49m\u001b[43m)\u001b[49m\n\u001b[32m    518\u001b[39m \u001b[38;5;28;01mtry\u001b[39;00m:\n\u001b[32m    519\u001b[39m     assert_header_parsing(httplib_response.msg)\n",
      "\u001b[36mFile \u001b[39m\u001b[32m/opt/homebrew/Cellar/python@3.13/3.13.0_1/Frameworks/Python.framework/Versions/3.13/lib/python3.13/http/client.py:1428\u001b[39m, in \u001b[36mHTTPConnection.getresponse\u001b[39m\u001b[34m(self)\u001b[39m\n\u001b[32m   1426\u001b[39m \u001b[38;5;28;01mtry\u001b[39;00m:\n\u001b[32m   1427\u001b[39m     \u001b[38;5;28;01mtry\u001b[39;00m:\n\u001b[32m-> \u001b[39m\u001b[32m1428\u001b[39m         \u001b[43mresponse\u001b[49m\u001b[43m.\u001b[49m\u001b[43mbegin\u001b[49m\u001b[43m(\u001b[49m\u001b[43m)\u001b[49m\n\u001b[32m   1429\u001b[39m     \u001b[38;5;28;01mexcept\u001b[39;00m \u001b[38;5;167;01mConnectionError\u001b[39;00m:\n\u001b[32m   1430\u001b[39m         \u001b[38;5;28mself\u001b[39m.close()\n",
      "\u001b[36mFile \u001b[39m\u001b[32m/opt/homebrew/Cellar/python@3.13/3.13.0_1/Frameworks/Python.framework/Versions/3.13/lib/python3.13/http/client.py:331\u001b[39m, in \u001b[36mHTTPResponse.begin\u001b[39m\u001b[34m(self)\u001b[39m\n\u001b[32m    329\u001b[39m \u001b[38;5;66;03m# read until we get a non-100 response\u001b[39;00m\n\u001b[32m    330\u001b[39m \u001b[38;5;28;01mwhile\u001b[39;00m \u001b[38;5;28;01mTrue\u001b[39;00m:\n\u001b[32m--> \u001b[39m\u001b[32m331\u001b[39m     version, status, reason = \u001b[38;5;28;43mself\u001b[39;49m\u001b[43m.\u001b[49m\u001b[43m_read_status\u001b[49m\u001b[43m(\u001b[49m\u001b[43m)\u001b[49m\n\u001b[32m    332\u001b[39m     \u001b[38;5;28;01mif\u001b[39;00m status != CONTINUE:\n\u001b[32m    333\u001b[39m         \u001b[38;5;28;01mbreak\u001b[39;00m\n",
      "\u001b[36mFile \u001b[39m\u001b[32m/opt/homebrew/Cellar/python@3.13/3.13.0_1/Frameworks/Python.framework/Versions/3.13/lib/python3.13/http/client.py:292\u001b[39m, in \u001b[36mHTTPResponse._read_status\u001b[39m\u001b[34m(self)\u001b[39m\n\u001b[32m    291\u001b[39m \u001b[38;5;28;01mdef\u001b[39;00m\u001b[38;5;250m \u001b[39m\u001b[34m_read_status\u001b[39m(\u001b[38;5;28mself\u001b[39m):\n\u001b[32m--> \u001b[39m\u001b[32m292\u001b[39m     line = \u001b[38;5;28mstr\u001b[39m(\u001b[38;5;28;43mself\u001b[39;49m\u001b[43m.\u001b[49m\u001b[43mfp\u001b[49m\u001b[43m.\u001b[49m\u001b[43mreadline\u001b[49m\u001b[43m(\u001b[49m\u001b[43m_MAXLINE\u001b[49m\u001b[43m \u001b[49m\u001b[43m+\u001b[49m\u001b[43m \u001b[49m\u001b[32;43m1\u001b[39;49m\u001b[43m)\u001b[49m, \u001b[33m\"\u001b[39m\u001b[33miso-8859-1\u001b[39m\u001b[33m\"\u001b[39m)\n\u001b[32m    293\u001b[39m     \u001b[38;5;28;01mif\u001b[39;00m \u001b[38;5;28mlen\u001b[39m(line) > _MAXLINE:\n\u001b[32m    294\u001b[39m         \u001b[38;5;28;01mraise\u001b[39;00m LineTooLong(\u001b[33m\"\u001b[39m\u001b[33mstatus line\u001b[39m\u001b[33m\"\u001b[39m)\n",
      "\u001b[36mFile \u001b[39m\u001b[32m/opt/homebrew/Cellar/python@3.13/3.13.0_1/Frameworks/Python.framework/Versions/3.13/lib/python3.13/socket.py:719\u001b[39m, in \u001b[36mSocketIO.readinto\u001b[39m\u001b[34m(self, b)\u001b[39m\n\u001b[32m    717\u001b[39m     \u001b[38;5;28;01mraise\u001b[39;00m \u001b[38;5;167;01mOSError\u001b[39;00m(\u001b[33m\"\u001b[39m\u001b[33mcannot read from timed out object\u001b[39m\u001b[33m\"\u001b[39m)\n\u001b[32m    718\u001b[39m \u001b[38;5;28;01mtry\u001b[39;00m:\n\u001b[32m--> \u001b[39m\u001b[32m719\u001b[39m     \u001b[38;5;28;01mreturn\u001b[39;00m \u001b[38;5;28;43mself\u001b[39;49m\u001b[43m.\u001b[49m\u001b[43m_sock\u001b[49m\u001b[43m.\u001b[49m\u001b[43mrecv_into\u001b[49m\u001b[43m(\u001b[49m\u001b[43mb\u001b[49m\u001b[43m)\u001b[49m\n\u001b[32m    720\u001b[39m \u001b[38;5;28;01mexcept\u001b[39;00m timeout:\n\u001b[32m    721\u001b[39m     \u001b[38;5;28mself\u001b[39m._timeout_occurred = \u001b[38;5;28;01mTrue\u001b[39;00m\n",
      "\u001b[31mKeyboardInterrupt\u001b[39m: "
     ]
    }
   ],
   "source": [
    "metric_outliers_conditional(\n",
    "    name=\"simulated-wide_10000runs_10mod_5sec_100samples_50metrics\",\n",
    "    metric_filter=\"metric_0\",\n",
    "    condition=\"> 0.5\",\n",
    "    metric_outlier=\"metric_1\",\n",
    ")"
   ]
  },
  {
   "cell_type": "code",
   "execution_count": null,
   "metadata": {},
   "outputs": [],
   "source": [
    "metric_outliers_conditional(\n",
    "    name=\"simulated-long_10000runs_10mod_5sec_100samples_50metrics\",\n",
    "    metric_filter=\"metric_0\",\n",
    "    condition=\"> 0.5\",\n",
    "    metric_outlier=\"metric_1\",\n",
    ")"
   ]
  }
 ],
 "metadata": {
  "kernelspec": {
   "display_name": ".venv",
   "language": "python",
   "name": "python3"
  },
  "language_info": {
   "codemirror_mode": {
    "name": "ipython",
    "version": 3
   },
   "file_extension": ".py",
   "mimetype": "text/x-python",
   "name": "python",
   "nbconvert_exporter": "python",
   "pygments_lexer": "ipython3",
   "version": "3.13.0"
  }
 },
 "nbformat": 4,
 "nbformat_minor": 2
}
